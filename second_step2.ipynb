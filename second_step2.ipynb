{
  "nbformat": 4,
  "nbformat_minor": 0,
  "metadata": {
    "colab": {
      "name": "second_step.ipynb",
      "provenance": [],
      "collapsed_sections": [],
      "include_colab_link": true
    },
    "kernelspec": {
      "name": "python3",
      "display_name": "Python 3"
    },
    "accelerator": "GPU",
    "widgets": {
      "application/vnd.jupyter.widget-state+json": {
        "debb95836d7b445380f72f722b6ecf94": {
          "model_module": "@jupyter-widgets/controls",
          "model_name": "HBoxModel",
          "state": {
            "_view_name": "HBoxView",
            "_dom_classes": [],
            "_model_name": "HBoxModel",
            "_view_module": "@jupyter-widgets/controls",
            "_model_module_version": "1.5.0",
            "_view_count": null,
            "_view_module_version": "1.5.0",
            "box_style": "",
            "layout": "IPY_MODEL_51041e0d7848431d9dd7385d0e2b0f23",
            "_model_module": "@jupyter-widgets/controls",
            "children": [
              "IPY_MODEL_374359a5e94f427b9fa96e8b1fba7f66",
              "IPY_MODEL_60ebc4e0f3d442a1bd5269875755d20e"
            ]
          }
        },
        "51041e0d7848431d9dd7385d0e2b0f23": {
          "model_module": "@jupyter-widgets/base",
          "model_name": "LayoutModel",
          "state": {
            "_view_name": "LayoutView",
            "grid_template_rows": null,
            "right": null,
            "justify_content": null,
            "_view_module": "@jupyter-widgets/base",
            "overflow": null,
            "_model_module_version": "1.2.0",
            "_view_count": null,
            "flex_flow": null,
            "width": null,
            "min_width": null,
            "border": null,
            "align_items": null,
            "bottom": null,
            "_model_module": "@jupyter-widgets/base",
            "top": null,
            "grid_column": null,
            "overflow_y": null,
            "overflow_x": null,
            "grid_auto_flow": null,
            "grid_area": null,
            "grid_template_columns": null,
            "flex": null,
            "_model_name": "LayoutModel",
            "justify_items": null,
            "grid_row": null,
            "max_height": null,
            "align_content": null,
            "visibility": null,
            "align_self": null,
            "height": null,
            "min_height": null,
            "padding": null,
            "grid_auto_rows": null,
            "grid_gap": null,
            "max_width": null,
            "order": null,
            "_view_module_version": "1.2.0",
            "grid_template_areas": null,
            "object_position": null,
            "object_fit": null,
            "grid_auto_columns": null,
            "margin": null,
            "display": null,
            "left": null
          }
        },
        "374359a5e94f427b9fa96e8b1fba7f66": {
          "model_module": "@jupyter-widgets/controls",
          "model_name": "FloatProgressModel",
          "state": {
            "_view_name": "ProgressView",
            "style": "IPY_MODEL_9e124aaebf2c434badbcb77167d5d2f0",
            "_dom_classes": [],
            "description": "Dl Completed...: 100%",
            "_model_name": "FloatProgressModel",
            "bar_style": "success",
            "max": 1,
            "_view_module": "@jupyter-widgets/controls",
            "_model_module_version": "1.5.0",
            "value": 1,
            "_view_count": null,
            "_view_module_version": "1.5.0",
            "orientation": "horizontal",
            "min": 0,
            "description_tooltip": null,
            "_model_module": "@jupyter-widgets/controls",
            "layout": "IPY_MODEL_fb867d034f4e4c26ba55b9be03efb6c5"
          }
        },
        "60ebc4e0f3d442a1bd5269875755d20e": {
          "model_module": "@jupyter-widgets/controls",
          "model_name": "HTMLModel",
          "state": {
            "_view_name": "HTMLView",
            "style": "IPY_MODEL_8f0a9363ec9c4321b15f1eeb2c7b4180",
            "_dom_classes": [],
            "description": "",
            "_model_name": "HTMLModel",
            "placeholder": "​",
            "_view_module": "@jupyter-widgets/controls",
            "_model_module_version": "1.5.0",
            "value": " 1/1 [00:02&lt;00:00,  2.16s/ url]",
            "_view_count": null,
            "_view_module_version": "1.5.0",
            "description_tooltip": null,
            "_model_module": "@jupyter-widgets/controls",
            "layout": "IPY_MODEL_aa07456b293a42ffbd10229bc7efdbf5"
          }
        },
        "9e124aaebf2c434badbcb77167d5d2f0": {
          "model_module": "@jupyter-widgets/controls",
          "model_name": "ProgressStyleModel",
          "state": {
            "_view_name": "StyleView",
            "_model_name": "ProgressStyleModel",
            "description_width": "initial",
            "_view_module": "@jupyter-widgets/base",
            "_model_module_version": "1.5.0",
            "_view_count": null,
            "_view_module_version": "1.2.0",
            "bar_color": null,
            "_model_module": "@jupyter-widgets/controls"
          }
        },
        "fb867d034f4e4c26ba55b9be03efb6c5": {
          "model_module": "@jupyter-widgets/base",
          "model_name": "LayoutModel",
          "state": {
            "_view_name": "LayoutView",
            "grid_template_rows": null,
            "right": null,
            "justify_content": null,
            "_view_module": "@jupyter-widgets/base",
            "overflow": null,
            "_model_module_version": "1.2.0",
            "_view_count": null,
            "flex_flow": null,
            "width": null,
            "min_width": null,
            "border": null,
            "align_items": null,
            "bottom": null,
            "_model_module": "@jupyter-widgets/base",
            "top": null,
            "grid_column": null,
            "overflow_y": null,
            "overflow_x": null,
            "grid_auto_flow": null,
            "grid_area": null,
            "grid_template_columns": null,
            "flex": null,
            "_model_name": "LayoutModel",
            "justify_items": null,
            "grid_row": null,
            "max_height": null,
            "align_content": null,
            "visibility": null,
            "align_self": null,
            "height": null,
            "min_height": null,
            "padding": null,
            "grid_auto_rows": null,
            "grid_gap": null,
            "max_width": null,
            "order": null,
            "_view_module_version": "1.2.0",
            "grid_template_areas": null,
            "object_position": null,
            "object_fit": null,
            "grid_auto_columns": null,
            "margin": null,
            "display": null,
            "left": null
          }
        },
        "8f0a9363ec9c4321b15f1eeb2c7b4180": {
          "model_module": "@jupyter-widgets/controls",
          "model_name": "DescriptionStyleModel",
          "state": {
            "_view_name": "StyleView",
            "_model_name": "DescriptionStyleModel",
            "description_width": "",
            "_view_module": "@jupyter-widgets/base",
            "_model_module_version": "1.5.0",
            "_view_count": null,
            "_view_module_version": "1.2.0",
            "_model_module": "@jupyter-widgets/controls"
          }
        },
        "aa07456b293a42ffbd10229bc7efdbf5": {
          "model_module": "@jupyter-widgets/base",
          "model_name": "LayoutModel",
          "state": {
            "_view_name": "LayoutView",
            "grid_template_rows": null,
            "right": null,
            "justify_content": null,
            "_view_module": "@jupyter-widgets/base",
            "overflow": null,
            "_model_module_version": "1.2.0",
            "_view_count": null,
            "flex_flow": null,
            "width": null,
            "min_width": null,
            "border": null,
            "align_items": null,
            "bottom": null,
            "_model_module": "@jupyter-widgets/base",
            "top": null,
            "grid_column": null,
            "overflow_y": null,
            "overflow_x": null,
            "grid_auto_flow": null,
            "grid_area": null,
            "grid_template_columns": null,
            "flex": null,
            "_model_name": "LayoutModel",
            "justify_items": null,
            "grid_row": null,
            "max_height": null,
            "align_content": null,
            "visibility": null,
            "align_self": null,
            "height": null,
            "min_height": null,
            "padding": null,
            "grid_auto_rows": null,
            "grid_gap": null,
            "max_width": null,
            "order": null,
            "_view_module_version": "1.2.0",
            "grid_template_areas": null,
            "object_position": null,
            "object_fit": null,
            "grid_auto_columns": null,
            "margin": null,
            "display": null,
            "left": null
          }
        },
        "378b3d8488e548269b97c962b6b99ec2": {
          "model_module": "@jupyter-widgets/controls",
          "model_name": "HBoxModel",
          "state": {
            "_view_name": "HBoxView",
            "_dom_classes": [],
            "_model_name": "HBoxModel",
            "_view_module": "@jupyter-widgets/controls",
            "_model_module_version": "1.5.0",
            "_view_count": null,
            "_view_module_version": "1.5.0",
            "box_style": "",
            "layout": "IPY_MODEL_9f5865556e614578a555e6d7d29d7036",
            "_model_module": "@jupyter-widgets/controls",
            "children": [
              "IPY_MODEL_20b6de62345343c3a299009ac4f3f8d6",
              "IPY_MODEL_7396ff71c0c5482abb49b3feff1d6644"
            ]
          }
        },
        "9f5865556e614578a555e6d7d29d7036": {
          "model_module": "@jupyter-widgets/base",
          "model_name": "LayoutModel",
          "state": {
            "_view_name": "LayoutView",
            "grid_template_rows": null,
            "right": null,
            "justify_content": null,
            "_view_module": "@jupyter-widgets/base",
            "overflow": null,
            "_model_module_version": "1.2.0",
            "_view_count": null,
            "flex_flow": null,
            "width": null,
            "min_width": null,
            "border": null,
            "align_items": null,
            "bottom": null,
            "_model_module": "@jupyter-widgets/base",
            "top": null,
            "grid_column": null,
            "overflow_y": null,
            "overflow_x": null,
            "grid_auto_flow": null,
            "grid_area": null,
            "grid_template_columns": null,
            "flex": null,
            "_model_name": "LayoutModel",
            "justify_items": null,
            "grid_row": null,
            "max_height": null,
            "align_content": null,
            "visibility": null,
            "align_self": null,
            "height": null,
            "min_height": null,
            "padding": null,
            "grid_auto_rows": null,
            "grid_gap": null,
            "max_width": null,
            "order": null,
            "_view_module_version": "1.2.0",
            "grid_template_areas": null,
            "object_position": null,
            "object_fit": null,
            "grid_auto_columns": null,
            "margin": null,
            "display": null,
            "left": null
          }
        },
        "20b6de62345343c3a299009ac4f3f8d6": {
          "model_module": "@jupyter-widgets/controls",
          "model_name": "FloatProgressModel",
          "state": {
            "_view_name": "ProgressView",
            "style": "IPY_MODEL_d513e0b21329486dbe9e99f1cdd92171",
            "_dom_classes": [],
            "description": "Dl Size...: 100%",
            "_model_name": "FloatProgressModel",
            "bar_style": "success",
            "max": 1,
            "_view_module": "@jupyter-widgets/controls",
            "_model_module_version": "1.5.0",
            "value": 1,
            "_view_count": null,
            "_view_module_version": "1.5.0",
            "orientation": "horizontal",
            "min": 0,
            "description_tooltip": null,
            "_model_module": "@jupyter-widgets/controls",
            "layout": "IPY_MODEL_9aeddd6735b44973be8af873ca487f76"
          }
        },
        "7396ff71c0c5482abb49b3feff1d6644": {
          "model_module": "@jupyter-widgets/controls",
          "model_name": "HTMLModel",
          "state": {
            "_view_name": "HTMLView",
            "style": "IPY_MODEL_0034d1fa3b2946a590e256dd94eea687",
            "_dom_classes": [],
            "description": "",
            "_model_name": "HTMLModel",
            "placeholder": "​",
            "_view_module": "@jupyter-widgets/controls",
            "_model_module_version": "1.5.0",
            "value": " 80/80 [00:02&lt;00:00, 37.34 MiB/s]",
            "_view_count": null,
            "_view_module_version": "1.5.0",
            "description_tooltip": null,
            "_model_module": "@jupyter-widgets/controls",
            "layout": "IPY_MODEL_b63686d1c5a44665bc2616a6d1b3f17b"
          }
        },
        "d513e0b21329486dbe9e99f1cdd92171": {
          "model_module": "@jupyter-widgets/controls",
          "model_name": "ProgressStyleModel",
          "state": {
            "_view_name": "StyleView",
            "_model_name": "ProgressStyleModel",
            "description_width": "initial",
            "_view_module": "@jupyter-widgets/base",
            "_model_module_version": "1.5.0",
            "_view_count": null,
            "_view_module_version": "1.2.0",
            "bar_color": null,
            "_model_module": "@jupyter-widgets/controls"
          }
        },
        "9aeddd6735b44973be8af873ca487f76": {
          "model_module": "@jupyter-widgets/base",
          "model_name": "LayoutModel",
          "state": {
            "_view_name": "LayoutView",
            "grid_template_rows": null,
            "right": null,
            "justify_content": null,
            "_view_module": "@jupyter-widgets/base",
            "overflow": null,
            "_model_module_version": "1.2.0",
            "_view_count": null,
            "flex_flow": null,
            "width": null,
            "min_width": null,
            "border": null,
            "align_items": null,
            "bottom": null,
            "_model_module": "@jupyter-widgets/base",
            "top": null,
            "grid_column": null,
            "overflow_y": null,
            "overflow_x": null,
            "grid_auto_flow": null,
            "grid_area": null,
            "grid_template_columns": null,
            "flex": null,
            "_model_name": "LayoutModel",
            "justify_items": null,
            "grid_row": null,
            "max_height": null,
            "align_content": null,
            "visibility": null,
            "align_self": null,
            "height": null,
            "min_height": null,
            "padding": null,
            "grid_auto_rows": null,
            "grid_gap": null,
            "max_width": null,
            "order": null,
            "_view_module_version": "1.2.0",
            "grid_template_areas": null,
            "object_position": null,
            "object_fit": null,
            "grid_auto_columns": null,
            "margin": null,
            "display": null,
            "left": null
          }
        },
        "0034d1fa3b2946a590e256dd94eea687": {
          "model_module": "@jupyter-widgets/controls",
          "model_name": "DescriptionStyleModel",
          "state": {
            "_view_name": "StyleView",
            "_model_name": "DescriptionStyleModel",
            "description_width": "",
            "_view_module": "@jupyter-widgets/base",
            "_model_module_version": "1.5.0",
            "_view_count": null,
            "_view_module_version": "1.2.0",
            "_model_module": "@jupyter-widgets/controls"
          }
        },
        "b63686d1c5a44665bc2616a6d1b3f17b": {
          "model_module": "@jupyter-widgets/base",
          "model_name": "LayoutModel",
          "state": {
            "_view_name": "LayoutView",
            "grid_template_rows": null,
            "right": null,
            "justify_content": null,
            "_view_module": "@jupyter-widgets/base",
            "overflow": null,
            "_model_module_version": "1.2.0",
            "_view_count": null,
            "flex_flow": null,
            "width": null,
            "min_width": null,
            "border": null,
            "align_items": null,
            "bottom": null,
            "_model_module": "@jupyter-widgets/base",
            "top": null,
            "grid_column": null,
            "overflow_y": null,
            "overflow_x": null,
            "grid_auto_flow": null,
            "grid_area": null,
            "grid_template_columns": null,
            "flex": null,
            "_model_name": "LayoutModel",
            "justify_items": null,
            "grid_row": null,
            "max_height": null,
            "align_content": null,
            "visibility": null,
            "align_self": null,
            "height": null,
            "min_height": null,
            "padding": null,
            "grid_auto_rows": null,
            "grid_gap": null,
            "max_width": null,
            "order": null,
            "_view_module_version": "1.2.0",
            "grid_template_areas": null,
            "object_position": null,
            "object_fit": null,
            "grid_auto_columns": null,
            "margin": null,
            "display": null,
            "left": null
          }
        },
        "fadfa3876fad43b797e4d5fcd6f97b80": {
          "model_module": "@jupyter-widgets/controls",
          "model_name": "HBoxModel",
          "state": {
            "_view_name": "HBoxView",
            "_dom_classes": [],
            "_model_name": "HBoxModel",
            "_view_module": "@jupyter-widgets/controls",
            "_model_module_version": "1.5.0",
            "_view_count": null,
            "_view_module_version": "1.5.0",
            "box_style": "",
            "layout": "IPY_MODEL_657cd3cf06d0438a94011d0d92f1acbe",
            "_model_module": "@jupyter-widgets/controls",
            "children": [
              "IPY_MODEL_de9e98be31744cf9a997b5ec848940db",
              "IPY_MODEL_de830e6b5bf749c08f059dcd342ef628"
            ]
          }
        },
        "657cd3cf06d0438a94011d0d92f1acbe": {
          "model_module": "@jupyter-widgets/base",
          "model_name": "LayoutModel",
          "state": {
            "_view_name": "LayoutView",
            "grid_template_rows": null,
            "right": null,
            "justify_content": null,
            "_view_module": "@jupyter-widgets/base",
            "overflow": null,
            "_model_module_version": "1.2.0",
            "_view_count": null,
            "flex_flow": null,
            "width": null,
            "min_width": null,
            "border": null,
            "align_items": null,
            "bottom": null,
            "_model_module": "@jupyter-widgets/base",
            "top": null,
            "grid_column": null,
            "overflow_y": null,
            "overflow_x": null,
            "grid_auto_flow": null,
            "grid_area": null,
            "grid_template_columns": null,
            "flex": null,
            "_model_name": "LayoutModel",
            "justify_items": null,
            "grid_row": null,
            "max_height": null,
            "align_content": null,
            "visibility": null,
            "align_self": null,
            "height": null,
            "min_height": null,
            "padding": null,
            "grid_auto_rows": null,
            "grid_gap": null,
            "max_width": null,
            "order": null,
            "_view_module_version": "1.2.0",
            "grid_template_areas": null,
            "object_position": null,
            "object_fit": null,
            "grid_auto_columns": null,
            "margin": null,
            "display": null,
            "left": null
          }
        },
        "de9e98be31744cf9a997b5ec848940db": {
          "model_module": "@jupyter-widgets/controls",
          "model_name": "FloatProgressModel",
          "state": {
            "_view_name": "ProgressView",
            "style": "IPY_MODEL_cc92ecf914d9491d9f54a25446d9d020",
            "_dom_classes": [],
            "description": "",
            "_model_name": "FloatProgressModel",
            "bar_style": "info",
            "max": 1,
            "_view_module": "@jupyter-widgets/controls",
            "_model_module_version": "1.5.0",
            "value": 1,
            "_view_count": null,
            "_view_module_version": "1.5.0",
            "orientation": "horizontal",
            "min": 0,
            "description_tooltip": null,
            "_model_module": "@jupyter-widgets/controls",
            "layout": "IPY_MODEL_b4eabbf447e54d8d805e7665573882db"
          }
        },
        "de830e6b5bf749c08f059dcd342ef628": {
          "model_module": "@jupyter-widgets/controls",
          "model_name": "HTMLModel",
          "state": {
            "_view_name": "HTMLView",
            "style": "IPY_MODEL_bc5ef98cfc784f1fa2ab196136c01ad6",
            "_dom_classes": [],
            "description": "",
            "_model_name": "HTMLModel",
            "placeholder": "​",
            "_view_module": "@jupyter-widgets/controls",
            "_model_module_version": "1.5.0",
            "value": " 25000/0 [00:12&lt;00:00, 3479.26 examples/s]",
            "_view_count": null,
            "_view_module_version": "1.5.0",
            "description_tooltip": null,
            "_model_module": "@jupyter-widgets/controls",
            "layout": "IPY_MODEL_8fce6bc8076048bc9e8746feddb96dd7"
          }
        },
        "cc92ecf914d9491d9f54a25446d9d020": {
          "model_module": "@jupyter-widgets/controls",
          "model_name": "ProgressStyleModel",
          "state": {
            "_view_name": "StyleView",
            "_model_name": "ProgressStyleModel",
            "description_width": "initial",
            "_view_module": "@jupyter-widgets/base",
            "_model_module_version": "1.5.0",
            "_view_count": null,
            "_view_module_version": "1.2.0",
            "bar_color": null,
            "_model_module": "@jupyter-widgets/controls"
          }
        },
        "b4eabbf447e54d8d805e7665573882db": {
          "model_module": "@jupyter-widgets/base",
          "model_name": "LayoutModel",
          "state": {
            "_view_name": "LayoutView",
            "grid_template_rows": null,
            "right": null,
            "justify_content": null,
            "_view_module": "@jupyter-widgets/base",
            "overflow": null,
            "_model_module_version": "1.2.0",
            "_view_count": null,
            "flex_flow": null,
            "width": null,
            "min_width": null,
            "border": null,
            "align_items": null,
            "bottom": null,
            "_model_module": "@jupyter-widgets/base",
            "top": null,
            "grid_column": null,
            "overflow_y": null,
            "overflow_x": null,
            "grid_auto_flow": null,
            "grid_area": null,
            "grid_template_columns": null,
            "flex": null,
            "_model_name": "LayoutModel",
            "justify_items": null,
            "grid_row": null,
            "max_height": null,
            "align_content": null,
            "visibility": null,
            "align_self": null,
            "height": null,
            "min_height": null,
            "padding": null,
            "grid_auto_rows": null,
            "grid_gap": null,
            "max_width": null,
            "order": null,
            "_view_module_version": "1.2.0",
            "grid_template_areas": null,
            "object_position": null,
            "object_fit": null,
            "grid_auto_columns": null,
            "margin": null,
            "display": null,
            "left": null
          }
        },
        "bc5ef98cfc784f1fa2ab196136c01ad6": {
          "model_module": "@jupyter-widgets/controls",
          "model_name": "DescriptionStyleModel",
          "state": {
            "_view_name": "StyleView",
            "_model_name": "DescriptionStyleModel",
            "description_width": "",
            "_view_module": "@jupyter-widgets/base",
            "_model_module_version": "1.5.0",
            "_view_count": null,
            "_view_module_version": "1.2.0",
            "_model_module": "@jupyter-widgets/controls"
          }
        },
        "8fce6bc8076048bc9e8746feddb96dd7": {
          "model_module": "@jupyter-widgets/base",
          "model_name": "LayoutModel",
          "state": {
            "_view_name": "LayoutView",
            "grid_template_rows": null,
            "right": null,
            "justify_content": null,
            "_view_module": "@jupyter-widgets/base",
            "overflow": null,
            "_model_module_version": "1.2.0",
            "_view_count": null,
            "flex_flow": null,
            "width": null,
            "min_width": null,
            "border": null,
            "align_items": null,
            "bottom": null,
            "_model_module": "@jupyter-widgets/base",
            "top": null,
            "grid_column": null,
            "overflow_y": null,
            "overflow_x": null,
            "grid_auto_flow": null,
            "grid_area": null,
            "grid_template_columns": null,
            "flex": null,
            "_model_name": "LayoutModel",
            "justify_items": null,
            "grid_row": null,
            "max_height": null,
            "align_content": null,
            "visibility": null,
            "align_self": null,
            "height": null,
            "min_height": null,
            "padding": null,
            "grid_auto_rows": null,
            "grid_gap": null,
            "max_width": null,
            "order": null,
            "_view_module_version": "1.2.0",
            "grid_template_areas": null,
            "object_position": null,
            "object_fit": null,
            "grid_auto_columns": null,
            "margin": null,
            "display": null,
            "left": null
          }
        },
        "72cff0e4beff46e9bec78bc85b2d5576": {
          "model_module": "@jupyter-widgets/controls",
          "model_name": "HBoxModel",
          "state": {
            "_view_name": "HBoxView",
            "_dom_classes": [],
            "_model_name": "HBoxModel",
            "_view_module": "@jupyter-widgets/controls",
            "_model_module_version": "1.5.0",
            "_view_count": null,
            "_view_module_version": "1.5.0",
            "box_style": "",
            "layout": "IPY_MODEL_35225c7fe2574e5bb69ce6d46b7fdeb6",
            "_model_module": "@jupyter-widgets/controls",
            "children": [
              "IPY_MODEL_3eadfe736c264b7c8b51a4711c1e4e37",
              "IPY_MODEL_969f0c3fa7564b24a57ec8346b005f53"
            ]
          }
        },
        "35225c7fe2574e5bb69ce6d46b7fdeb6": {
          "model_module": "@jupyter-widgets/base",
          "model_name": "LayoutModel",
          "state": {
            "_view_name": "LayoutView",
            "grid_template_rows": null,
            "right": null,
            "justify_content": null,
            "_view_module": "@jupyter-widgets/base",
            "overflow": null,
            "_model_module_version": "1.2.0",
            "_view_count": null,
            "flex_flow": null,
            "width": null,
            "min_width": null,
            "border": null,
            "align_items": null,
            "bottom": null,
            "_model_module": "@jupyter-widgets/base",
            "top": null,
            "grid_column": null,
            "overflow_y": null,
            "overflow_x": null,
            "grid_auto_flow": null,
            "grid_area": null,
            "grid_template_columns": null,
            "flex": null,
            "_model_name": "LayoutModel",
            "justify_items": null,
            "grid_row": null,
            "max_height": null,
            "align_content": null,
            "visibility": null,
            "align_self": null,
            "height": null,
            "min_height": null,
            "padding": null,
            "grid_auto_rows": null,
            "grid_gap": null,
            "max_width": null,
            "order": null,
            "_view_module_version": "1.2.0",
            "grid_template_areas": null,
            "object_position": null,
            "object_fit": null,
            "grid_auto_columns": null,
            "margin": null,
            "display": null,
            "left": null
          }
        },
        "3eadfe736c264b7c8b51a4711c1e4e37": {
          "model_module": "@jupyter-widgets/controls",
          "model_name": "FloatProgressModel",
          "state": {
            "_view_name": "ProgressView",
            "style": "IPY_MODEL_41b1aceed8fc427b9f8cc6f1f5524a6b",
            "_dom_classes": [],
            "description": " 61%",
            "_model_name": "FloatProgressModel",
            "bar_style": "danger",
            "max": 25000,
            "_view_module": "@jupyter-widgets/controls",
            "_model_module_version": "1.5.0",
            "value": 15299,
            "_view_count": null,
            "_view_module_version": "1.5.0",
            "orientation": "horizontal",
            "min": 0,
            "description_tooltip": null,
            "_model_module": "@jupyter-widgets/controls",
            "layout": "IPY_MODEL_f3c7c5f843b548b696057d087578e8e0"
          }
        },
        "969f0c3fa7564b24a57ec8346b005f53": {
          "model_module": "@jupyter-widgets/controls",
          "model_name": "HTMLModel",
          "state": {
            "_view_name": "HTMLView",
            "style": "IPY_MODEL_70284fbcf08443a2bdb79bfc35008fc1",
            "_dom_classes": [],
            "description": "",
            "_model_name": "HTMLModel",
            "placeholder": "​",
            "_view_module": "@jupyter-widgets/controls",
            "_model_module_version": "1.5.0",
            "value": " 15299/25000 [00:00&lt;00:00, 152985.40 examples/s]",
            "_view_count": null,
            "_view_module_version": "1.5.0",
            "description_tooltip": null,
            "_model_module": "@jupyter-widgets/controls",
            "layout": "IPY_MODEL_ab21f66ff3884401901af26ab6fc0a3b"
          }
        },
        "41b1aceed8fc427b9f8cc6f1f5524a6b": {
          "model_module": "@jupyter-widgets/controls",
          "model_name": "ProgressStyleModel",
          "state": {
            "_view_name": "StyleView",
            "_model_name": "ProgressStyleModel",
            "description_width": "initial",
            "_view_module": "@jupyter-widgets/base",
            "_model_module_version": "1.5.0",
            "_view_count": null,
            "_view_module_version": "1.2.0",
            "bar_color": null,
            "_model_module": "@jupyter-widgets/controls"
          }
        },
        "f3c7c5f843b548b696057d087578e8e0": {
          "model_module": "@jupyter-widgets/base",
          "model_name": "LayoutModel",
          "state": {
            "_view_name": "LayoutView",
            "grid_template_rows": null,
            "right": null,
            "justify_content": null,
            "_view_module": "@jupyter-widgets/base",
            "overflow": null,
            "_model_module_version": "1.2.0",
            "_view_count": null,
            "flex_flow": null,
            "width": null,
            "min_width": null,
            "border": null,
            "align_items": null,
            "bottom": null,
            "_model_module": "@jupyter-widgets/base",
            "top": null,
            "grid_column": null,
            "overflow_y": null,
            "overflow_x": null,
            "grid_auto_flow": null,
            "grid_area": null,
            "grid_template_columns": null,
            "flex": null,
            "_model_name": "LayoutModel",
            "justify_items": null,
            "grid_row": null,
            "max_height": null,
            "align_content": null,
            "visibility": null,
            "align_self": null,
            "height": null,
            "min_height": null,
            "padding": null,
            "grid_auto_rows": null,
            "grid_gap": null,
            "max_width": null,
            "order": null,
            "_view_module_version": "1.2.0",
            "grid_template_areas": null,
            "object_position": null,
            "object_fit": null,
            "grid_auto_columns": null,
            "margin": null,
            "display": null,
            "left": null
          }
        },
        "70284fbcf08443a2bdb79bfc35008fc1": {
          "model_module": "@jupyter-widgets/controls",
          "model_name": "DescriptionStyleModel",
          "state": {
            "_view_name": "StyleView",
            "_model_name": "DescriptionStyleModel",
            "description_width": "",
            "_view_module": "@jupyter-widgets/base",
            "_model_module_version": "1.5.0",
            "_view_count": null,
            "_view_module_version": "1.2.0",
            "_model_module": "@jupyter-widgets/controls"
          }
        },
        "ab21f66ff3884401901af26ab6fc0a3b": {
          "model_module": "@jupyter-widgets/base",
          "model_name": "LayoutModel",
          "state": {
            "_view_name": "LayoutView",
            "grid_template_rows": null,
            "right": null,
            "justify_content": null,
            "_view_module": "@jupyter-widgets/base",
            "overflow": null,
            "_model_module_version": "1.2.0",
            "_view_count": null,
            "flex_flow": null,
            "width": null,
            "min_width": null,
            "border": null,
            "align_items": null,
            "bottom": null,
            "_model_module": "@jupyter-widgets/base",
            "top": null,
            "grid_column": null,
            "overflow_y": null,
            "overflow_x": null,
            "grid_auto_flow": null,
            "grid_area": null,
            "grid_template_columns": null,
            "flex": null,
            "_model_name": "LayoutModel",
            "justify_items": null,
            "grid_row": null,
            "max_height": null,
            "align_content": null,
            "visibility": null,
            "align_self": null,
            "height": null,
            "min_height": null,
            "padding": null,
            "grid_auto_rows": null,
            "grid_gap": null,
            "max_width": null,
            "order": null,
            "_view_module_version": "1.2.0",
            "grid_template_areas": null,
            "object_position": null,
            "object_fit": null,
            "grid_auto_columns": null,
            "margin": null,
            "display": null,
            "left": null
          }
        },
        "34de85e0e16f413b99c40345c00858e6": {
          "model_module": "@jupyter-widgets/controls",
          "model_name": "HBoxModel",
          "state": {
            "_view_name": "HBoxView",
            "_dom_classes": [],
            "_model_name": "HBoxModel",
            "_view_module": "@jupyter-widgets/controls",
            "_model_module_version": "1.5.0",
            "_view_count": null,
            "_view_module_version": "1.5.0",
            "box_style": "",
            "layout": "IPY_MODEL_4f7a17760d1e4ecfaa62b4b967fba3a6",
            "_model_module": "@jupyter-widgets/controls",
            "children": [
              "IPY_MODEL_1eac281b0eb64706a0b30c4a0a82cbd6",
              "IPY_MODEL_37eac1aa79084dabb3b3cf398cb442c0"
            ]
          }
        },
        "4f7a17760d1e4ecfaa62b4b967fba3a6": {
          "model_module": "@jupyter-widgets/base",
          "model_name": "LayoutModel",
          "state": {
            "_view_name": "LayoutView",
            "grid_template_rows": null,
            "right": null,
            "justify_content": null,
            "_view_module": "@jupyter-widgets/base",
            "overflow": null,
            "_model_module_version": "1.2.0",
            "_view_count": null,
            "flex_flow": null,
            "width": null,
            "min_width": null,
            "border": null,
            "align_items": null,
            "bottom": null,
            "_model_module": "@jupyter-widgets/base",
            "top": null,
            "grid_column": null,
            "overflow_y": null,
            "overflow_x": null,
            "grid_auto_flow": null,
            "grid_area": null,
            "grid_template_columns": null,
            "flex": null,
            "_model_name": "LayoutModel",
            "justify_items": null,
            "grid_row": null,
            "max_height": null,
            "align_content": null,
            "visibility": null,
            "align_self": null,
            "height": null,
            "min_height": null,
            "padding": null,
            "grid_auto_rows": null,
            "grid_gap": null,
            "max_width": null,
            "order": null,
            "_view_module_version": "1.2.0",
            "grid_template_areas": null,
            "object_position": null,
            "object_fit": null,
            "grid_auto_columns": null,
            "margin": null,
            "display": null,
            "left": null
          }
        },
        "1eac281b0eb64706a0b30c4a0a82cbd6": {
          "model_module": "@jupyter-widgets/controls",
          "model_name": "FloatProgressModel",
          "state": {
            "_view_name": "ProgressView",
            "style": "IPY_MODEL_8382252cb4b44d8bb501f01f48c98c02",
            "_dom_classes": [],
            "description": "",
            "_model_name": "FloatProgressModel",
            "bar_style": "info",
            "max": 1,
            "_view_module": "@jupyter-widgets/controls",
            "_model_module_version": "1.5.0",
            "value": 1,
            "_view_count": null,
            "_view_module_version": "1.5.0",
            "orientation": "horizontal",
            "min": 0,
            "description_tooltip": null,
            "_model_module": "@jupyter-widgets/controls",
            "layout": "IPY_MODEL_7e700506829947d59845f66761947e1b"
          }
        },
        "37eac1aa79084dabb3b3cf398cb442c0": {
          "model_module": "@jupyter-widgets/controls",
          "model_name": "HTMLModel",
          "state": {
            "_view_name": "HTMLView",
            "style": "IPY_MODEL_88246479a5f540cab2123e1a478ff99b",
            "_dom_classes": [],
            "description": "",
            "_model_name": "HTMLModel",
            "placeholder": "​",
            "_view_module": "@jupyter-widgets/controls",
            "_model_module_version": "1.5.0",
            "value": " 25000/0 [00:12&lt;00:00, 3640.78 examples/s]",
            "_view_count": null,
            "_view_module_version": "1.5.0",
            "description_tooltip": null,
            "_model_module": "@jupyter-widgets/controls",
            "layout": "IPY_MODEL_2b4af547d1864d18bb6575ea728b63d3"
          }
        },
        "8382252cb4b44d8bb501f01f48c98c02": {
          "model_module": "@jupyter-widgets/controls",
          "model_name": "ProgressStyleModel",
          "state": {
            "_view_name": "StyleView",
            "_model_name": "ProgressStyleModel",
            "description_width": "initial",
            "_view_module": "@jupyter-widgets/base",
            "_model_module_version": "1.5.0",
            "_view_count": null,
            "_view_module_version": "1.2.0",
            "bar_color": null,
            "_model_module": "@jupyter-widgets/controls"
          }
        },
        "7e700506829947d59845f66761947e1b": {
          "model_module": "@jupyter-widgets/base",
          "model_name": "LayoutModel",
          "state": {
            "_view_name": "LayoutView",
            "grid_template_rows": null,
            "right": null,
            "justify_content": null,
            "_view_module": "@jupyter-widgets/base",
            "overflow": null,
            "_model_module_version": "1.2.0",
            "_view_count": null,
            "flex_flow": null,
            "width": null,
            "min_width": null,
            "border": null,
            "align_items": null,
            "bottom": null,
            "_model_module": "@jupyter-widgets/base",
            "top": null,
            "grid_column": null,
            "overflow_y": null,
            "overflow_x": null,
            "grid_auto_flow": null,
            "grid_area": null,
            "grid_template_columns": null,
            "flex": null,
            "_model_name": "LayoutModel",
            "justify_items": null,
            "grid_row": null,
            "max_height": null,
            "align_content": null,
            "visibility": null,
            "align_self": null,
            "height": null,
            "min_height": null,
            "padding": null,
            "grid_auto_rows": null,
            "grid_gap": null,
            "max_width": null,
            "order": null,
            "_view_module_version": "1.2.0",
            "grid_template_areas": null,
            "object_position": null,
            "object_fit": null,
            "grid_auto_columns": null,
            "margin": null,
            "display": null,
            "left": null
          }
        },
        "88246479a5f540cab2123e1a478ff99b": {
          "model_module": "@jupyter-widgets/controls",
          "model_name": "DescriptionStyleModel",
          "state": {
            "_view_name": "StyleView",
            "_model_name": "DescriptionStyleModel",
            "description_width": "",
            "_view_module": "@jupyter-widgets/base",
            "_model_module_version": "1.5.0",
            "_view_count": null,
            "_view_module_version": "1.2.0",
            "_model_module": "@jupyter-widgets/controls"
          }
        },
        "2b4af547d1864d18bb6575ea728b63d3": {
          "model_module": "@jupyter-widgets/base",
          "model_name": "LayoutModel",
          "state": {
            "_view_name": "LayoutView",
            "grid_template_rows": null,
            "right": null,
            "justify_content": null,
            "_view_module": "@jupyter-widgets/base",
            "overflow": null,
            "_model_module_version": "1.2.0",
            "_view_count": null,
            "flex_flow": null,
            "width": null,
            "min_width": null,
            "border": null,
            "align_items": null,
            "bottom": null,
            "_model_module": "@jupyter-widgets/base",
            "top": null,
            "grid_column": null,
            "overflow_y": null,
            "overflow_x": null,
            "grid_auto_flow": null,
            "grid_area": null,
            "grid_template_columns": null,
            "flex": null,
            "_model_name": "LayoutModel",
            "justify_items": null,
            "grid_row": null,
            "max_height": null,
            "align_content": null,
            "visibility": null,
            "align_self": null,
            "height": null,
            "min_height": null,
            "padding": null,
            "grid_auto_rows": null,
            "grid_gap": null,
            "max_width": null,
            "order": null,
            "_view_module_version": "1.2.0",
            "grid_template_areas": null,
            "object_position": null,
            "object_fit": null,
            "grid_auto_columns": null,
            "margin": null,
            "display": null,
            "left": null
          }
        },
        "10d569f7feec44768bb1c12bbe86b3e9": {
          "model_module": "@jupyter-widgets/controls",
          "model_name": "HBoxModel",
          "state": {
            "_view_name": "HBoxView",
            "_dom_classes": [],
            "_model_name": "HBoxModel",
            "_view_module": "@jupyter-widgets/controls",
            "_model_module_version": "1.5.0",
            "_view_count": null,
            "_view_module_version": "1.5.0",
            "box_style": "",
            "layout": "IPY_MODEL_6bb18a3bdb0b4f50b4c47467069f6376",
            "_model_module": "@jupyter-widgets/controls",
            "children": [
              "IPY_MODEL_d8e71f912fde4166840fd0635d0f3825",
              "IPY_MODEL_5f7eeed5f22246aeb040d5d50d982cb5"
            ]
          }
        },
        "6bb18a3bdb0b4f50b4c47467069f6376": {
          "model_module": "@jupyter-widgets/base",
          "model_name": "LayoutModel",
          "state": {
            "_view_name": "LayoutView",
            "grid_template_rows": null,
            "right": null,
            "justify_content": null,
            "_view_module": "@jupyter-widgets/base",
            "overflow": null,
            "_model_module_version": "1.2.0",
            "_view_count": null,
            "flex_flow": null,
            "width": null,
            "min_width": null,
            "border": null,
            "align_items": null,
            "bottom": null,
            "_model_module": "@jupyter-widgets/base",
            "top": null,
            "grid_column": null,
            "overflow_y": null,
            "overflow_x": null,
            "grid_auto_flow": null,
            "grid_area": null,
            "grid_template_columns": null,
            "flex": null,
            "_model_name": "LayoutModel",
            "justify_items": null,
            "grid_row": null,
            "max_height": null,
            "align_content": null,
            "visibility": null,
            "align_self": null,
            "height": null,
            "min_height": null,
            "padding": null,
            "grid_auto_rows": null,
            "grid_gap": null,
            "max_width": null,
            "order": null,
            "_view_module_version": "1.2.0",
            "grid_template_areas": null,
            "object_position": null,
            "object_fit": null,
            "grid_auto_columns": null,
            "margin": null,
            "display": null,
            "left": null
          }
        },
        "d8e71f912fde4166840fd0635d0f3825": {
          "model_module": "@jupyter-widgets/controls",
          "model_name": "FloatProgressModel",
          "state": {
            "_view_name": "ProgressView",
            "style": "IPY_MODEL_97681fbe92024cc892861a60813c7192",
            "_dom_classes": [],
            "description": " 68%",
            "_model_name": "FloatProgressModel",
            "bar_style": "danger",
            "max": 25000,
            "_view_module": "@jupyter-widgets/controls",
            "_model_module_version": "1.5.0",
            "value": 17066,
            "_view_count": null,
            "_view_module_version": "1.5.0",
            "orientation": "horizontal",
            "min": 0,
            "description_tooltip": null,
            "_model_module": "@jupyter-widgets/controls",
            "layout": "IPY_MODEL_de08273c32ed4bd49ea2cedec8926583"
          }
        },
        "5f7eeed5f22246aeb040d5d50d982cb5": {
          "model_module": "@jupyter-widgets/controls",
          "model_name": "HTMLModel",
          "state": {
            "_view_name": "HTMLView",
            "style": "IPY_MODEL_b986fd8338ab44a48c00724d755d7991",
            "_dom_classes": [],
            "description": "",
            "_model_name": "HTMLModel",
            "placeholder": "​",
            "_view_module": "@jupyter-widgets/controls",
            "_model_module_version": "1.5.0",
            "value": " 17066/25000 [00:00&lt;00:00, 170658.94 examples/s]",
            "_view_count": null,
            "_view_module_version": "1.5.0",
            "description_tooltip": null,
            "_model_module": "@jupyter-widgets/controls",
            "layout": "IPY_MODEL_3554138d1dee4521b49c852f4e8d8371"
          }
        },
        "97681fbe92024cc892861a60813c7192": {
          "model_module": "@jupyter-widgets/controls",
          "model_name": "ProgressStyleModel",
          "state": {
            "_view_name": "StyleView",
            "_model_name": "ProgressStyleModel",
            "description_width": "initial",
            "_view_module": "@jupyter-widgets/base",
            "_model_module_version": "1.5.0",
            "_view_count": null,
            "_view_module_version": "1.2.0",
            "bar_color": null,
            "_model_module": "@jupyter-widgets/controls"
          }
        },
        "de08273c32ed4bd49ea2cedec8926583": {
          "model_module": "@jupyter-widgets/base",
          "model_name": "LayoutModel",
          "state": {
            "_view_name": "LayoutView",
            "grid_template_rows": null,
            "right": null,
            "justify_content": null,
            "_view_module": "@jupyter-widgets/base",
            "overflow": null,
            "_model_module_version": "1.2.0",
            "_view_count": null,
            "flex_flow": null,
            "width": null,
            "min_width": null,
            "border": null,
            "align_items": null,
            "bottom": null,
            "_model_module": "@jupyter-widgets/base",
            "top": null,
            "grid_column": null,
            "overflow_y": null,
            "overflow_x": null,
            "grid_auto_flow": null,
            "grid_area": null,
            "grid_template_columns": null,
            "flex": null,
            "_model_name": "LayoutModel",
            "justify_items": null,
            "grid_row": null,
            "max_height": null,
            "align_content": null,
            "visibility": null,
            "align_self": null,
            "height": null,
            "min_height": null,
            "padding": null,
            "grid_auto_rows": null,
            "grid_gap": null,
            "max_width": null,
            "order": null,
            "_view_module_version": "1.2.0",
            "grid_template_areas": null,
            "object_position": null,
            "object_fit": null,
            "grid_auto_columns": null,
            "margin": null,
            "display": null,
            "left": null
          }
        },
        "b986fd8338ab44a48c00724d755d7991": {
          "model_module": "@jupyter-widgets/controls",
          "model_name": "DescriptionStyleModel",
          "state": {
            "_view_name": "StyleView",
            "_model_name": "DescriptionStyleModel",
            "description_width": "",
            "_view_module": "@jupyter-widgets/base",
            "_model_module_version": "1.5.0",
            "_view_count": null,
            "_view_module_version": "1.2.0",
            "_model_module": "@jupyter-widgets/controls"
          }
        },
        "3554138d1dee4521b49c852f4e8d8371": {
          "model_module": "@jupyter-widgets/base",
          "model_name": "LayoutModel",
          "state": {
            "_view_name": "LayoutView",
            "grid_template_rows": null,
            "right": null,
            "justify_content": null,
            "_view_module": "@jupyter-widgets/base",
            "overflow": null,
            "_model_module_version": "1.2.0",
            "_view_count": null,
            "flex_flow": null,
            "width": null,
            "min_width": null,
            "border": null,
            "align_items": null,
            "bottom": null,
            "_model_module": "@jupyter-widgets/base",
            "top": null,
            "grid_column": null,
            "overflow_y": null,
            "overflow_x": null,
            "grid_auto_flow": null,
            "grid_area": null,
            "grid_template_columns": null,
            "flex": null,
            "_model_name": "LayoutModel",
            "justify_items": null,
            "grid_row": null,
            "max_height": null,
            "align_content": null,
            "visibility": null,
            "align_self": null,
            "height": null,
            "min_height": null,
            "padding": null,
            "grid_auto_rows": null,
            "grid_gap": null,
            "max_width": null,
            "order": null,
            "_view_module_version": "1.2.0",
            "grid_template_areas": null,
            "object_position": null,
            "object_fit": null,
            "grid_auto_columns": null,
            "margin": null,
            "display": null,
            "left": null
          }
        },
        "1b4d33da6c3149e3af7ccb0a0a7b0e62": {
          "model_module": "@jupyter-widgets/controls",
          "model_name": "HBoxModel",
          "state": {
            "_view_name": "HBoxView",
            "_dom_classes": [],
            "_model_name": "HBoxModel",
            "_view_module": "@jupyter-widgets/controls",
            "_model_module_version": "1.5.0",
            "_view_count": null,
            "_view_module_version": "1.5.0",
            "box_style": "",
            "layout": "IPY_MODEL_b33e49d8deff4ce8ab0ff96187d712b9",
            "_model_module": "@jupyter-widgets/controls",
            "children": [
              "IPY_MODEL_2c5d1a3965df41ab9284eaa9c96e9e3c",
              "IPY_MODEL_9eceb9b52914474f9faf0eb0a8b6b2b8"
            ]
          }
        },
        "b33e49d8deff4ce8ab0ff96187d712b9": {
          "model_module": "@jupyter-widgets/base",
          "model_name": "LayoutModel",
          "state": {
            "_view_name": "LayoutView",
            "grid_template_rows": null,
            "right": null,
            "justify_content": null,
            "_view_module": "@jupyter-widgets/base",
            "overflow": null,
            "_model_module_version": "1.2.0",
            "_view_count": null,
            "flex_flow": null,
            "width": null,
            "min_width": null,
            "border": null,
            "align_items": null,
            "bottom": null,
            "_model_module": "@jupyter-widgets/base",
            "top": null,
            "grid_column": null,
            "overflow_y": null,
            "overflow_x": null,
            "grid_auto_flow": null,
            "grid_area": null,
            "grid_template_columns": null,
            "flex": null,
            "_model_name": "LayoutModel",
            "justify_items": null,
            "grid_row": null,
            "max_height": null,
            "align_content": null,
            "visibility": null,
            "align_self": null,
            "height": null,
            "min_height": null,
            "padding": null,
            "grid_auto_rows": null,
            "grid_gap": null,
            "max_width": null,
            "order": null,
            "_view_module_version": "1.2.0",
            "grid_template_areas": null,
            "object_position": null,
            "object_fit": null,
            "grid_auto_columns": null,
            "margin": null,
            "display": null,
            "left": null
          }
        },
        "2c5d1a3965df41ab9284eaa9c96e9e3c": {
          "model_module": "@jupyter-widgets/controls",
          "model_name": "FloatProgressModel",
          "state": {
            "_view_name": "ProgressView",
            "style": "IPY_MODEL_c3a10ccb6c3346738a6d245c81cddfaa",
            "_dom_classes": [],
            "description": "",
            "_model_name": "FloatProgressModel",
            "bar_style": "info",
            "max": 1,
            "_view_module": "@jupyter-widgets/controls",
            "_model_module_version": "1.5.0",
            "value": 1,
            "_view_count": null,
            "_view_module_version": "1.5.0",
            "orientation": "horizontal",
            "min": 0,
            "description_tooltip": null,
            "_model_module": "@jupyter-widgets/controls",
            "layout": "IPY_MODEL_b5c48c38f8a04b9babf561a6e1f07443"
          }
        },
        "9eceb9b52914474f9faf0eb0a8b6b2b8": {
          "model_module": "@jupyter-widgets/controls",
          "model_name": "HTMLModel",
          "state": {
            "_view_name": "HTMLView",
            "style": "IPY_MODEL_fe3a72a3fbec4a019736ba5897059a9f",
            "_dom_classes": [],
            "description": "",
            "_model_name": "HTMLModel",
            "placeholder": "​",
            "_view_module": "@jupyter-widgets/controls",
            "_model_module_version": "1.5.0",
            "value": " 50000/0 [00:17&lt;00:00, 3306.42 examples/s]",
            "_view_count": null,
            "_view_module_version": "1.5.0",
            "description_tooltip": null,
            "_model_module": "@jupyter-widgets/controls",
            "layout": "IPY_MODEL_6f7c25ed9c29415a94ca63d24c06d685"
          }
        },
        "c3a10ccb6c3346738a6d245c81cddfaa": {
          "model_module": "@jupyter-widgets/controls",
          "model_name": "ProgressStyleModel",
          "state": {
            "_view_name": "StyleView",
            "_model_name": "ProgressStyleModel",
            "description_width": "initial",
            "_view_module": "@jupyter-widgets/base",
            "_model_module_version": "1.5.0",
            "_view_count": null,
            "_view_module_version": "1.2.0",
            "bar_color": null,
            "_model_module": "@jupyter-widgets/controls"
          }
        },
        "b5c48c38f8a04b9babf561a6e1f07443": {
          "model_module": "@jupyter-widgets/base",
          "model_name": "LayoutModel",
          "state": {
            "_view_name": "LayoutView",
            "grid_template_rows": null,
            "right": null,
            "justify_content": null,
            "_view_module": "@jupyter-widgets/base",
            "overflow": null,
            "_model_module_version": "1.2.0",
            "_view_count": null,
            "flex_flow": null,
            "width": null,
            "min_width": null,
            "border": null,
            "align_items": null,
            "bottom": null,
            "_model_module": "@jupyter-widgets/base",
            "top": null,
            "grid_column": null,
            "overflow_y": null,
            "overflow_x": null,
            "grid_auto_flow": null,
            "grid_area": null,
            "grid_template_columns": null,
            "flex": null,
            "_model_name": "LayoutModel",
            "justify_items": null,
            "grid_row": null,
            "max_height": null,
            "align_content": null,
            "visibility": null,
            "align_self": null,
            "height": null,
            "min_height": null,
            "padding": null,
            "grid_auto_rows": null,
            "grid_gap": null,
            "max_width": null,
            "order": null,
            "_view_module_version": "1.2.0",
            "grid_template_areas": null,
            "object_position": null,
            "object_fit": null,
            "grid_auto_columns": null,
            "margin": null,
            "display": null,
            "left": null
          }
        },
        "fe3a72a3fbec4a019736ba5897059a9f": {
          "model_module": "@jupyter-widgets/controls",
          "model_name": "DescriptionStyleModel",
          "state": {
            "_view_name": "StyleView",
            "_model_name": "DescriptionStyleModel",
            "description_width": "",
            "_view_module": "@jupyter-widgets/base",
            "_model_module_version": "1.5.0",
            "_view_count": null,
            "_view_module_version": "1.2.0",
            "_model_module": "@jupyter-widgets/controls"
          }
        },
        "6f7c25ed9c29415a94ca63d24c06d685": {
          "model_module": "@jupyter-widgets/base",
          "model_name": "LayoutModel",
          "state": {
            "_view_name": "LayoutView",
            "grid_template_rows": null,
            "right": null,
            "justify_content": null,
            "_view_module": "@jupyter-widgets/base",
            "overflow": null,
            "_model_module_version": "1.2.0",
            "_view_count": null,
            "flex_flow": null,
            "width": null,
            "min_width": null,
            "border": null,
            "align_items": null,
            "bottom": null,
            "_model_module": "@jupyter-widgets/base",
            "top": null,
            "grid_column": null,
            "overflow_y": null,
            "overflow_x": null,
            "grid_auto_flow": null,
            "grid_area": null,
            "grid_template_columns": null,
            "flex": null,
            "_model_name": "LayoutModel",
            "justify_items": null,
            "grid_row": null,
            "max_height": null,
            "align_content": null,
            "visibility": null,
            "align_self": null,
            "height": null,
            "min_height": null,
            "padding": null,
            "grid_auto_rows": null,
            "grid_gap": null,
            "max_width": null,
            "order": null,
            "_view_module_version": "1.2.0",
            "grid_template_areas": null,
            "object_position": null,
            "object_fit": null,
            "grid_auto_columns": null,
            "margin": null,
            "display": null,
            "left": null
          }
        },
        "e7cf1b4ce36149e2bfc1e1243ce517c9": {
          "model_module": "@jupyter-widgets/controls",
          "model_name": "HBoxModel",
          "state": {
            "_view_name": "HBoxView",
            "_dom_classes": [],
            "_model_name": "HBoxModel",
            "_view_module": "@jupyter-widgets/controls",
            "_model_module_version": "1.5.0",
            "_view_count": null,
            "_view_module_version": "1.5.0",
            "box_style": "",
            "layout": "IPY_MODEL_4322d2bffd56499695dd27504241f132",
            "_model_module": "@jupyter-widgets/controls",
            "children": [
              "IPY_MODEL_0c7c4cee565e4389a0f1947084f991c7",
              "IPY_MODEL_ba66e9c92f4945069c938757915481c4"
            ]
          }
        },
        "4322d2bffd56499695dd27504241f132": {
          "model_module": "@jupyter-widgets/base",
          "model_name": "LayoutModel",
          "state": {
            "_view_name": "LayoutView",
            "grid_template_rows": null,
            "right": null,
            "justify_content": null,
            "_view_module": "@jupyter-widgets/base",
            "overflow": null,
            "_model_module_version": "1.2.0",
            "_view_count": null,
            "flex_flow": null,
            "width": null,
            "min_width": null,
            "border": null,
            "align_items": null,
            "bottom": null,
            "_model_module": "@jupyter-widgets/base",
            "top": null,
            "grid_column": null,
            "overflow_y": null,
            "overflow_x": null,
            "grid_auto_flow": null,
            "grid_area": null,
            "grid_template_columns": null,
            "flex": null,
            "_model_name": "LayoutModel",
            "justify_items": null,
            "grid_row": null,
            "max_height": null,
            "align_content": null,
            "visibility": null,
            "align_self": null,
            "height": null,
            "min_height": null,
            "padding": null,
            "grid_auto_rows": null,
            "grid_gap": null,
            "max_width": null,
            "order": null,
            "_view_module_version": "1.2.0",
            "grid_template_areas": null,
            "object_position": null,
            "object_fit": null,
            "grid_auto_columns": null,
            "margin": null,
            "display": null,
            "left": null
          }
        },
        "0c7c4cee565e4389a0f1947084f991c7": {
          "model_module": "@jupyter-widgets/controls",
          "model_name": "FloatProgressModel",
          "state": {
            "_view_name": "ProgressView",
            "style": "IPY_MODEL_b66466ef16f14dcdbd276c3c3b515a40",
            "_dom_classes": [],
            "description": " 78%",
            "_model_name": "FloatProgressModel",
            "bar_style": "danger",
            "max": 50000,
            "_view_module": "@jupyter-widgets/controls",
            "_model_module_version": "1.5.0",
            "value": 38754,
            "_view_count": null,
            "_view_module_version": "1.5.0",
            "orientation": "horizontal",
            "min": 0,
            "description_tooltip": null,
            "_model_module": "@jupyter-widgets/controls",
            "layout": "IPY_MODEL_38c4c83dc244458fb83ff8d2d262332c"
          }
        },
        "ba66e9c92f4945069c938757915481c4": {
          "model_module": "@jupyter-widgets/controls",
          "model_name": "HTMLModel",
          "state": {
            "_view_name": "HTMLView",
            "style": "IPY_MODEL_05ebef4754884633a7697fe68959b48c",
            "_dom_classes": [],
            "description": "",
            "_model_name": "HTMLModel",
            "placeholder": "​",
            "_view_module": "@jupyter-widgets/controls",
            "_model_module_version": "1.5.0",
            "value": " 38754/50000 [00:08&lt;00:00, 115388.26 examples/s]",
            "_view_count": null,
            "_view_module_version": "1.5.0",
            "description_tooltip": null,
            "_model_module": "@jupyter-widgets/controls",
            "layout": "IPY_MODEL_eec0dfb3bf7e4c1582e4f1a1e1b45626"
          }
        },
        "b66466ef16f14dcdbd276c3c3b515a40": {
          "model_module": "@jupyter-widgets/controls",
          "model_name": "ProgressStyleModel",
          "state": {
            "_view_name": "StyleView",
            "_model_name": "ProgressStyleModel",
            "description_width": "initial",
            "_view_module": "@jupyter-widgets/base",
            "_model_module_version": "1.5.0",
            "_view_count": null,
            "_view_module_version": "1.2.0",
            "bar_color": null,
            "_model_module": "@jupyter-widgets/controls"
          }
        },
        "38c4c83dc244458fb83ff8d2d262332c": {
          "model_module": "@jupyter-widgets/base",
          "model_name": "LayoutModel",
          "state": {
            "_view_name": "LayoutView",
            "grid_template_rows": null,
            "right": null,
            "justify_content": null,
            "_view_module": "@jupyter-widgets/base",
            "overflow": null,
            "_model_module_version": "1.2.0",
            "_view_count": null,
            "flex_flow": null,
            "width": null,
            "min_width": null,
            "border": null,
            "align_items": null,
            "bottom": null,
            "_model_module": "@jupyter-widgets/base",
            "top": null,
            "grid_column": null,
            "overflow_y": null,
            "overflow_x": null,
            "grid_auto_flow": null,
            "grid_area": null,
            "grid_template_columns": null,
            "flex": null,
            "_model_name": "LayoutModel",
            "justify_items": null,
            "grid_row": null,
            "max_height": null,
            "align_content": null,
            "visibility": null,
            "align_self": null,
            "height": null,
            "min_height": null,
            "padding": null,
            "grid_auto_rows": null,
            "grid_gap": null,
            "max_width": null,
            "order": null,
            "_view_module_version": "1.2.0",
            "grid_template_areas": null,
            "object_position": null,
            "object_fit": null,
            "grid_auto_columns": null,
            "margin": null,
            "display": null,
            "left": null
          }
        },
        "05ebef4754884633a7697fe68959b48c": {
          "model_module": "@jupyter-widgets/controls",
          "model_name": "DescriptionStyleModel",
          "state": {
            "_view_name": "StyleView",
            "_model_name": "DescriptionStyleModel",
            "description_width": "",
            "_view_module": "@jupyter-widgets/base",
            "_model_module_version": "1.5.0",
            "_view_count": null,
            "_view_module_version": "1.2.0",
            "_model_module": "@jupyter-widgets/controls"
          }
        },
        "eec0dfb3bf7e4c1582e4f1a1e1b45626": {
          "model_module": "@jupyter-widgets/base",
          "model_name": "LayoutModel",
          "state": {
            "_view_name": "LayoutView",
            "grid_template_rows": null,
            "right": null,
            "justify_content": null,
            "_view_module": "@jupyter-widgets/base",
            "overflow": null,
            "_model_module_version": "1.2.0",
            "_view_count": null,
            "flex_flow": null,
            "width": null,
            "min_width": null,
            "border": null,
            "align_items": null,
            "bottom": null,
            "_model_module": "@jupyter-widgets/base",
            "top": null,
            "grid_column": null,
            "overflow_y": null,
            "overflow_x": null,
            "grid_auto_flow": null,
            "grid_area": null,
            "grid_template_columns": null,
            "flex": null,
            "_model_name": "LayoutModel",
            "justify_items": null,
            "grid_row": null,
            "max_height": null,
            "align_content": null,
            "visibility": null,
            "align_self": null,
            "height": null,
            "min_height": null,
            "padding": null,
            "grid_auto_rows": null,
            "grid_gap": null,
            "max_width": null,
            "order": null,
            "_view_module_version": "1.2.0",
            "grid_template_areas": null,
            "object_position": null,
            "object_fit": null,
            "grid_auto_columns": null,
            "margin": null,
            "display": null,
            "left": null
          }
        }
      }
    }
  },
  "cells": [
    {
      "cell_type": "markdown",
      "metadata": {
        "id": "view-in-github",
        "colab_type": "text"
      },
      "source": [
        "<a href=\"https://colab.research.google.com/github/sidwat/conversational_bot/blob/master/second_step2.ipynb\" target=\"_parent\"><img src=\"https://colab.research.google.com/assets/colab-badge.svg\" alt=\"Open In Colab\"/></a>"
      ]
    },
    {
      "cell_type": "code",
      "metadata": {
        "id": "L3L1ySSuVDaY",
        "colab_type": "code",
        "colab": {}
      },
      "source": [
        "import tensorflow as tf\n",
        "import pandas as pd\n",
        "import numpy as np\n"
      ],
      "execution_count": 0,
      "outputs": []
    },
    {
      "cell_type": "code",
      "metadata": {
        "id": "CUsK1eigV0Qs",
        "colab_type": "code",
        "outputId": "32cc0d07-0111-4107-9f20-a5f16283e7ce",
        "colab": {
          "base_uri": "https://localhost:8080/",
          "height": 54
        }
      },
      "source": [
        "with open('/content/yelp_labelled.txt', 'r') as text:\n",
        "  data1 = text.read()\n",
        "data1 = data1.split('\\n')\n",
        "print(data1)"
      ],
      "execution_count": 2,
      "outputs": [
        {
          "output_type": "stream",
          "text": [
            "['Wow... Loved this place.\\t1', 'Crust is not good.\\t0', 'Not tasty and the texture was just nasty.\\t0', 'Stopped by during the late May bank holiday off Rick Steve recommendation and loved it.\\t1', 'The selection on the menu was great and so were the prices.\\t1', 'Now I am getting angry and I want my damn pho.\\t0', \"Honeslty it didn't taste THAT fresh.)\\t0\", 'The potatoes were like rubber and you could tell they had been made up ahead of time being kept under a warmer.\\t0', 'The fries were great too.\\t1', 'A great touch.\\t1', 'Service was very prompt.\\t1', 'Would not go back.\\t0', 'The cashier had no care what so ever on what I had to say it still ended up being wayyy overpriced.\\t0', 'I tried the Cape Cod ravoli, chicken,with cranberry...mmmm!\\t1', 'I was disgusted because I was pretty sure that was human hair.\\t0', 'I was shocked because no signs indicate cash only.\\t0', 'Highly recommended.\\t1', 'Waitress was a little slow in service.\\t0', 'This place is not worth your time, let alone Vegas.\\t0', 'did not like at all.\\t0', 'The Burrittos Blah!\\t0', 'The food, amazing.\\t1', 'Service is also cute.\\t1', 'I could care less... The interior is just beautiful.\\t1', 'So they performed.\\t1', \"That's right....the red velvet cake.....ohhh this stuff is so good.\\t1\", '- They never brought a salad we asked for.\\t0', 'This hole in the wall has great Mexican street tacos, and friendly staff.\\t1', 'Took an hour to get our food only 4 tables in restaurant my food was Luke warm, Our sever was running around like he was totally overwhelmed.\\t0', 'The worst was the salmon sashimi.\\t0', 'Also there are combos like a burger, fries, and beer for 23 which is a decent deal.\\t1', 'This was like the final blow!\\t0', 'I found this place by accident and I could not be happier.\\t1', 'seems like a good quick place to grab a bite of some familiar pub food, but do yourself a favor and look elsewhere.\\t0', 'Overall, I like this place a lot.\\t1', 'The only redeeming quality of the restaurant was that it was very inexpensive.\\t1', 'Ample portions and good prices.\\t1', 'Poor service, the waiter made me feel like I was stupid every time he came to the table.\\t0', 'My first visit to Hiro was a delight!\\t1', 'Service sucks.\\t0', 'The shrimp tender and moist.\\t1', 'There is not a deal good enough that would drag me into that establishment again.\\t0', \"Hard to judge whether these sides were good because we were grossed out by the melted styrofoam and didn't want to eat it for fear of getting sick.\\t0\", 'On a positive note, our server was very attentive and provided great service.\\t1', 'Frozen pucks of disgust, with some of the worst people behind the register.\\t0', 'The only thing I did like was the prime rib and dessert section.\\t1', \"It's too bad the food is so damn generic.\\t0\", 'The burger is good beef, cooked just right.\\t1', 'If you want a sandwich just go to any Firehouse!!!!!\\t1', 'My side Greek salad with the Greek dressing was so tasty, and the pita and hummus was very refreshing.\\t1', 'We ordered the duck rare and it was pink and tender on the inside with a nice char on the outside.\\t1', 'He came running after us when he realized my husband had left his sunglasses on the table.\\t1', 'Their chow mein is so good!\\t1', \"They have horrible attitudes towards customers, and talk down to each one when customers don't enjoy their food.\\t0\", 'The portion was huge!\\t1', 'Loved it...friendly servers, great food, wonderful and imaginative menu.\\t1', 'The Heart Attack Grill in downtown Vegas is an absolutely flat-lined excuse for a restaurant.\\t0', 'Not much seafood and like 5 strings of pasta at the bottom.\\t0', 'The salad had just the right amount of sauce to not over power the scallop, which was perfectly cooked.\\t1', 'The ripped banana was not only ripped, but petrified and tasteless.\\t0', 'At least think to refill my water before I struggle to wave you over for 10 minutes.\\t0', 'This place receives stars for their APPETIZERS!!!\\t1', 'The cocktails are all handmade and delicious.\\t1', \"We'd definitely go back here again.\\t1\", 'We are so glad we found this place.\\t1', 'Great food and service, huge portions and they give a military discount.\\t1', 'Always a great time at Dos Gringos!\\t1', 'Update.....went back for a second time and it was still just as amazing\\t1', 'We got the food and apparently they have never heard of salt and the batter on the fish was chewy.\\t0', 'A great way to finish a great.\\t1', 'The deal included 5 tastings and 2 drinks, and Jeff went above and beyond what we expected.\\t1', '- Really, really good rice, all the time.\\t1', 'The service was meh.\\t0', 'It took over 30 min to get their milkshake, which was nothing more than chocolate milk.\\t0', \"I guess I should have known that this place would suck, because it is inside of the Excalibur, but I didn't use my common sense.\\t0\", 'The scallop dish is quite appalling for value as well.\\t0', '2 times - Very Bad Customer Service !\\t0', 'The sweet potato fries were very good and seasoned well.\\t1', \"Today is the second time I've been to their lunch buffet and it was pretty good.\\t1\", 'There is so much good food in Vegas that I feel cheated for wasting an eating opportunity by going to Rice and Company.\\t0', \"Coming here is like experiencing an underwhelming relationship where both parties can't wait for the other person to ask to break up.\\t0\", 'walked in and the place smelled like an old grease trap and only 2 others there eating.\\t0', 'The turkey and roast beef were bland.\\t0', 'This place has it!\\t1', 'The pan cakes everyone are raving about taste like a sugary disaster tailored to the palate of a six year old.\\t0', 'I love the Pho and the spring rolls oh so yummy you have to try.\\t1', 'The poor batter to meat ratio made the chicken tenders very unsatisfying.\\t0', 'All I have to say is the food was amazing!!!\\t1', 'Omelets are to die for!\\t1', 'Everything was fresh and delicious!\\t1', 'In summary, this was a largely disappointing dining experience.\\t0', \"It's like a really sexy party in your mouth, where you're outrageously flirting with the hottest person at the party.\\t1\", 'Never been to Hard Rock Casino before, WILL NEVER EVER STEP FORWARD IN IT AGAIN!\\t0', 'Best breakfast buffet!!!\\t1', 'say bye bye to your tip lady!\\t0', \"We'll never go again.\\t0\", 'Will be back again!\\t1', 'Food arrived quickly!\\t1', 'It was not good.\\t0', 'On the up side, their cafe serves really good food.\\t1', 'Our server was fantastic and when he found out the wife loves roasted garlic and bone marrow, he added extra to our meal and another marrow to go!\\t1', \"The only good thing was our waiter, he was very helpful and kept the bloddy mary's coming.\\t1\", 'Best Buffet in town, for the price you cannot beat it.\\t1', 'I LOVED their mussels cooked in this wine reduction, the duck was tender, and their potato dishes were delicious.\\t1', 'This is one of the better buffets that I have been to.\\t1', 'So we went to Tigerlilly and had a fantastic afternoon!\\t1', 'The food was delicious, our bartender was attentive and personable AND we got a great deal!\\t1', 'The ambience is wonderful and there is music playing.\\t1', 'Will go back next trip out.\\t1', 'Sooooo good!!\\t1', \"REAL sushi lovers, let's be honest - Yama is not that good.\\t0\", \"At least 40min passed in between us ordering and the food arriving, and it wasn't that busy.\\t0\", 'This is a really fantastic Thai restaurant which is definitely worth a visit.\\t1', 'Nice, spicy and tender.\\t1', 'Good prices.\\t1', 'Check it out.\\t1', 'It was pretty gross!\\t0', \"I've had better atmosphere.\\t0\", 'Kind of hard to mess up a steak but they did.\\t0', 'Although I very much liked the look and sound of this place, the actual experience was a bit disappointing.\\t0', \"I just don't know how this place managed to served the blandest food I have ever eaten when they are preparing Indian cuisine.\\t0\", 'Worst service to boot, but that is the least of their worries.\\t0', 'Service was fine and the waitress was friendly.\\t1', \"The guys all had steaks, and our steak loving son who has had steak at the best and worst places said it was the best steak he's ever eaten.\\t1\", \"We thought you'd have to venture further away to get good sushi, but this place really hit the spot that night.\\t1\", 'Host staff were, for lack of a better word, BITCHES!\\t0', \"Bland... Not a liking this place for a number of reasons and I don't want to waste time on bad reviewing.. I'll leave it at that...\\t0\", 'Phenomenal food, service and ambiance.\\t1', \"I wouldn't return.\\t0\", \"Definitely worth venturing off the strip for the pork belly, will return next time I'm in Vegas.\\t1\", 'This place is way too overpriced for mediocre food.\\t0', 'Penne vodka excellent!\\t1', 'They have a good selection of food including a massive meatloaf sandwich, a crispy chicken wrap, a delish tuna melt and some tasty burgers.\\t1', 'The management is rude.\\t0', 'Delicious NYC bagels, good selections of cream cheese, real Lox with capers even.\\t1', \"Great Subway, in fact it's so good when you come here every other Subway will not meet your expectations.\\t1\", 'I had a seriously solid breakfast here.\\t1', 'This is one of the best bars with food in Vegas.\\t1', 'He was extremely rude and really, there are so many other restaurants I would love to dine at during a weekend in Vegas.\\t0', 'My drink was never empty and he made some really great menu suggestions.\\t1', \"Don't do it!!!!\\t0\", \"The waiter wasn't helpful or friendly and rarely checked on us.\\t0\", 'My husband and I ate lunch here and were very disappointed with the food and service.\\t0', \"And the red curry had so much bamboo shoots and wasn't very tasty to me.\\t0\", 'Nice blanket of moz over top but i feel like this was done to cover up the subpar food.\\t1', 'The bathrooms are clean and the place itself is well decorated.\\t1', 'The menu is always changing, food quality is going down & service is extremely slow.\\t0', 'The service was a little slow , considering that were served by 3 people servers so the food was coming in a slow pace.\\t0', 'I give it 2 thumbs down\\t0', 'We watched our waiter pay a lot more attention to other tables and ignore us.\\t0', 'My fiancé and I came in the middle of the day and we were greeted and seated right away.\\t1', 'This is a great restaurant at the Mandalay Bay.\\t1', 'We waited for forty five minutes in vain.\\t0', 'Crostini that came with the salad was stale.\\t0', 'Some highlights : Great quality nigiri here!\\t1', 'the staff is friendly and the joint is always clean.\\t1', 'this was a different cut than the piece the other day but still wonderful and tender s well as well flavored.\\t1', \"I ordered the Voodoo pasta and it was the first time I'd had really excellent pasta since going gluten free several years ago.\\t1\", 'this place is good.\\t1', 'Unfortunately, we must have hit the bakery on leftover day because everything we ordered was STALE.\\t0', 'I came back today since they relocated and still not impressed.\\t0', 'I was seated immediately.\\t1', 'Their menu is diverse, and reasonably priced.\\t1', 'Avoid at all cost!\\t0', 'Restaurant is always full but never a wait.\\t1', 'DELICIOUS!!\\t1', 'This place is hands-down one of the best places to eat in the Phoenix metro area.\\t1', \"So don't go there if you are looking for good food...\\t0\", \"I've never been treated so bad.\\t0\", 'Bacon is hella salty.\\t1', 'We also ordered the spinach and avocado salad; the ingredients were sad and the dressing literally had zero taste.\\t0', 'This really is how Vegas fine dining used to be, right down to the menus handed to the ladies that have no prices listed.\\t1', 'The waitresses are very friendly.\\t1', 'Lordy, the Khao Soi is a dish that is not to be missed for curry lovers!\\t1', 'Everything on the menu is terrific and we were also thrilled that they made amazing accommodations for our vegetarian daughter.\\t1', \"Perhaps I caught them on an off night judging by the other reviews, but I'm not inspired to go back.\\t0\", 'The service here leaves a lot to be desired.\\t0', 'The atmosphere is modern and hip, while maintaining a touch of coziness.\\t1', 'Not a weekly haunt, but definitely a place to come back to every once in a while.\\t1', 'We literally sat there for 20 minutes with no one asking to take our order.\\t0', 'The burger had absolutely no flavor - the meat itself was totally bland, the burger was overcooked and there was no charcoal flavor.\\t0', 'I also decided not to send it back because our waitress looked like she was on the verge of having a heart attack.\\t0', 'I dressed up to be treated so rudely!\\t0', 'It was probably dirt.\\t0', 'Love this place, hits the spot when I want something healthy but not lacking in quantity or flavor.\\t1', 'I ordered the Lemon raspberry ice cocktail which was also incredible.\\t1', 'The food sucked, which we expected but it sucked more than we could have imagined.\\t0', 'Interesting decor.\\t1', 'What I really like there is the crepe station.\\t1', 'Also were served hot bread and butter, and home made potato chips with bacon bits on top....very original and very good.\\t1', 'you can watch them preparing the delicious food!)\\t1', 'Both of the egg rolls were fantastic.\\t1', 'When my order arrived, one of the gyros was missing.\\t0', 'I had a salad with the wings, and some ice cream for dessert and left feeling quite satisfied.\\t1', \"I'm not really sure how Joey's was voted best hot dog in the Valley by readers of Phoenix Magazine.\\t0\", 'The best place to go for a tasty bowl of Pho!\\t1', 'The live music on Fridays totally blows.\\t0', \"I've never been more insulted or felt disrespected.\\t0\", 'Very friendly staff.\\t1', 'It is worth the drive.\\t1', 'I had heard good things about this place, but it exceeding every hope I could have dreamed of.\\t1', 'Food was great and so was the serivce!\\t1', \"The warm beer didn't help.\\t0\", 'Great brunch spot.\\t1', 'Service is friendly and inviting.\\t1', 'Very good lunch spot.\\t1', \"I've lived here since 1979 and this was the first (and last) time I've stepped foot into this place.\\t0\", 'The WORST EXPERIENCE EVER.\\t0', 'Must have been an off night at this place.\\t0', 'The sides are delish - mixed mushrooms, yukon gold puree, white corn - beateous.\\t1', 'If that bug never showed up I would have given a 4 for sure, but on the other side of the wall where this bug was climbing was the kitchen.\\t0', \"For about 10 minutes, we we're waiting for her salad when we realized that it wasn't coming any time soon.\\t0\", 'My friend loved the salmon tartar.\\t1', \"Won't go back.\\t0\", 'Extremely Tasty!\\t1', 'Waitress was good though!\\t1', 'Soggy and not good.\\t0', 'The Jamaican mojitos are delicious.\\t1', 'Which are small and not worth the price.\\t0', '- the food is rich so order accordingly.\\t1', \"The shower area is outside so you can only rinse, not take a full shower, unless you don't mind being nude for everyone to see!\\t0\", 'The service was a bit lacking.\\t0', 'Lobster Bisque, Bussell Sprouts, Risotto, Filet ALL needed salt and pepper..and of course there is none at the tables.\\t0', 'Hopefully this bodes for them going out of business and someone who can cook can come in.\\t0', 'It was either too cold, not enough flavor or just bad.\\t0', 'I loved the bacon wrapped dates.\\t1', 'This is an unbelievable BARGAIN!\\t1', 'The folks at Otto always make us feel so welcome and special.\\t1', 'As for the \"mains,\" also uninspired.\\t0', 'This is the place where I first had pho and it was amazing!!\\t1', 'This wonderful experience made this place a must-stop whenever we are in town again.\\t1', \"If the food isn't bad enough for you, then enjoy dealing with the world's worst/annoying drunk people.\\t0\", 'Very very fun chef.\\t1', 'Ordered a double cheeseburger & got a single patty that was falling apart (picture uploaded) Yeah, still sucks.\\t0', \"Great place to have a couple drinks and watch any and all sporting events as the walls are covered with TV's.\\t1\", \"If it were possible to give them zero stars, they'd have it.\\t0\", 'The descriptions said \"yum yum sauce\" and another said \"eel sauce\", yet another said \"spicy mayo\"...well NONE of the rolls had sauces on them.\\t0', \"I'd say that would be the hardest decision... Honestly, all of M's dishes taste how they are supposed to taste (amazing).\\t1\", 'If she had not rolled the eyes we may have stayed... Not sure if we will go back and try it again.\\t0', 'Everyone is very attentive, providing excellent customer service.\\t1', \"Horrible - don't waste your time and money.\\t0\", 'Now this dish was quite flavourful.\\t1', 'By this time our side of the restaurant was almost empty so there was no excuse.\\t0', \"(It wasn't busy either) Also, the building was FREEZING cold.\\t0\", 'like the other reviewer said \"you couldn\\'t pay me to eat at this place again.\"\\t0', '-Drinks took close to 30 minutes to come out at one point.\\t0', 'Seriously flavorful delights, folks.\\t1', 'Much better than the other AYCE sushi place I went to in Vegas.\\t1', 'The lighting is just dark enough to set the mood.\\t1', \"Based on the sub-par service I received and no effort to show their gratitude for my business I won't be going back.\\t0\", \"Owner's are really great people.!\\t1\", 'There is nothing privileged about working/eating there.\\t0', 'The Greek dressing was very creamy and flavorful.\\t1', \"Overall, I don't think that I would take my parents to this place again because they made most of the similar complaints that I silently felt too.\\t0\", 'Now the pizza itself was good the peanut sauce was very tasty.\\t1', 'We had 7 at our table and the service was pretty fast.\\t1', 'Fantastic service here.\\t1', \"I as well would've given godfathers zero stars if possible.\\t0\", 'They know how to make them here.\\t1', 'very tough and very short on flavor!\\t0', 'I hope this place sticks around.\\t1', 'I have been in more than a few bars in Vegas, and do not ever recall being charged for tap water.\\t0', 'The restaurant atmosphere was exquisite.\\t1', 'Good service, very clean, and inexpensive, to boot!\\t1', 'The seafood was fresh and generous in portion.\\t1', \"Plus, it's only 8 bucks.\\t1\", 'The service was not up to par, either.\\t0', 'Thus far, have only visited twice and the food was absolutely delicious each time.\\t1', 'Just as good as when I had it more than a year ago!\\t1', 'For a self proclaimed coffee cafe, I was wildly disappointed.\\t0', 'The Veggitarian platter is out of this world!\\t1', 'You cant go wrong with any of the food here.\\t1', \"You can't beat that.\\t1\", 'Stopped by this place while in Madison for the Ironman, very friendly, kind staff.\\t1', 'The chefs were friendly and did a good job.\\t1', \"I've had better, not only from dedicated boba tea spots, but even from Jenni Pho.\\t0\", 'I liked the patio and the service was outstanding.\\t1', \"The goat taco didn't skimp on the meat and wow what FLAVOR!\\t1\", 'I think not again\\t0', 'I had the mac salad and it was pretty bland so I will not be getting that again.\\t0', \"I went to Bachi Burger on a friend's recommendation and was not disappointed.\\t1\", 'Service stinks here!\\t0', 'I waited and waited.\\t0', 'This place is not quality sushi, it is not a quality restaurant.\\t0', 'I would definitely recommend the wings as well as the pizza.\\t1', 'Great Pizza and Salads!\\t1', 'Things that went wrong: - They burned the saganaki.\\t0', 'We waited an hour for what was a breakfast I could have done 100 times better at home.\\t0', 'This place is amazing!\\t1', 'I hate to disagree with my fellow Yelpers, but my husband and I were so disappointed with this place.\\t0', 'Waited 2 hours & never got either of our pizzas as many other around us who came in later did!\\t0', \"Just don't know why they were so slow.\\t0\", 'The staff is great, the food is delish, and they have an incredible beer selection.\\t1', \"I live in the neighborhood so I am disappointed I won't be back here, because it is a convenient location.\\t0\", \"I didn't know pulled pork could be soooo delicious.\\t1\", 'You get incredibly fresh fish, prepared with care.\\t1', 'Before I go in to why I gave a 1 star rating please know that this was my third time eating at Bachi burger before writing a review.\\t0', 'I love the fact that everything on their menu is worth it.\\t1', 'Never again will I be dining at this place!\\t0', 'The food was excellent and service was very good.\\t1', 'Good beer & drink selection and good food selection.\\t1', 'Please stay away from the shrimp stir fried noodles.\\t0', 'The potato chip order was sad... I could probably count how many chips were in that box and it was probably around 12.\\t0', 'Food was really boring.\\t0', 'Good Service-check!\\t1', 'This greedy corporation will NEVER see another dime from me!\\t0', 'Will never, ever go back.\\t0', \"As much as I'd like to go back, I can't get passed the atrocious service and will never return.\\t0\", 'In the summer, you can dine in a charming outdoor patio - so very delightful.\\t1', 'I did not expect this to be so good!\\t1', 'Fantastic food!\\t1', 'She ordered a toasted English muffin that came out untoasted.\\t0', 'The food was very good.\\t1', 'Never going back.\\t0', 'Great food for the price, which is very high quality and house made.\\t1', 'The bus boy on the other hand was so rude.\\t0', \"By this point, my friends and I had basically figured out this place was a joke and didn't mind making it publicly and loudly known.\\t0\", 'Back to good BBQ, lighter fare, reasonable pricing and tell the public they are back to the old ways.\\t1', \"And considering the two of us left there very full and happy for about $20, you just can't go wrong.\\t1\", 'All the bread is made in-house!\\t1', 'The only downside is the service.\\t0', \"Also, the fries are without a doubt the worst fries I've ever had.\\t0\", 'Service was exceptional and food was a good as all the reviews.\\t1', 'A couple of months later, I returned and had an amazing meal.\\t1', 'Favorite place in town for shawarrrrrrma!!!!!!\\t1', 'The black eyed peas and sweet potatoes... UNREAL!\\t1', \"You won't be disappointed.\\t1\", 'They could serve it with just the vinaigrette and it may make for a better overall dish, but it was still very good.\\t1', \"I go to far too many places and I've never seen any restaurant that serves a 1 egg breakfast, especially for $4.00.\\t0\", 'When my mom and I got home she immediately got sick and she only had a few bites of salad.\\t0', \"The servers are not pleasant to deal with and they don't always honor Pizza Hut coupons.\\t0\", 'Both of them were truly unbelievably good, and I am so glad we went back.\\t1', 'We had fantastic service, and were pleased by the atmosphere.\\t1', 'Everything was gross.\\t0', 'I love this place.\\t1', 'Great service and food.\\t1', 'First - the bathrooms at this location were dirty- Seat covers were not replenished & just plain yucky!!!\\t0', 'The burger... I got the \"Gold Standard\" a $17 burger and was kind of disappointed.\\t0', 'OMG, the food was delicioso!\\t1', 'There is nothing authentic about this place.\\t0', 'the spaghetti is nothing special whatsoever.\\t0', 'Of all the dishes, the salmon was the best, but all were great.\\t1', 'The vegetables are so fresh and the sauce feels like authentic Thai.\\t1', \"It's worth driving up from Tucson!\\t1\", \"The selection was probably the worst I've seen in Vegas.....there was none.\\t0\", 'Pretty good beer selection too.\\t1', 'This place is like Chipotle, but BETTER.\\t1', 'Classy/warm atmosphere, fun and fresh appetizers, succulent steaks (Baseball steak!!!!!\\t1', '5 stars for the brick oven bread app!\\t1', 'I have eaten here multiple times, and each time the food was delicious.\\t1', 'We sat another ten minutes and finally gave up and left.\\t0', 'He was terrible!\\t0', 'Everyone is treated equally special.\\t1', \"It shouldn't take 30 min for pancakes and eggs.\\t0\", 'It was delicious!!!\\t1', 'On the good side, the staff was genuinely pleasant and enthusiastic - a real treat.\\t1', \"Sadly, Gordon Ramsey's Steak is a place we shall sharply avoid during our next trip to Vegas.\\t0\", 'As always the evening was wonderful and the food delicious!\\t1', \"Best fish I've ever had in my life!\\t1\", '(The bathroom is just next door and very nice.)\\t1', 'The buffet is small and all the food they offered was BLAND.\\t0', 'This is an Outstanding little restaurant with some of the Best Food I have ever tasted.\\t1', 'Pretty cool I would say.\\t1', \"Definitely a turn off for me & i doubt I'll be back unless someone else is buying.\\t0\", 'Server did a great job handling our large rowdy table.\\t1', \"I find wasting food to be despicable, but this just wasn't food.\\t0\", 'My wife had the Lobster Bisque soup which was lukewarm.\\t0', 'Would come back again if I had a sushi craving while in Vegas.\\t1', 'The staff are great, the ambiance is great.\\t1', 'He deserves 5 stars.\\t1', 'I left with a stomach ache and felt sick the rest of the day.\\t0', 'They dropped more than the ball.\\t0', 'The dining space is tiny, but elegantly decorated and comfortable.\\t1', \"They will customize your order any way you'd like, my usual is Eggplant with Green Bean stir fry, love it!\\t1\", 'And the beans and rice were mediocre at best.\\t0', 'Best tacos in town by far!!\\t1', 'I took back my money and got outta there.\\t0', 'In an interesting part of town, this place is amazing.\\t1', 'RUDE & INCONSIDERATE MANAGEMENT.\\t0', 'The staff are now not as friendly, the wait times for being served are horrible, no one even says hi for the first 10 minutes.\\t0', \"I won't be back.\\t0\", 'They have great dinners.\\t1', 'The service was outshining & I definitely recommend the Halibut.\\t1', 'The food was terrible.\\t0', 'WILL NEVER EVER GO BACK AND HAVE TOLD MANY PEOPLE WHAT HAD HAPPENED.\\t0', \"I don't recommend unless your car breaks down in front of it and you are starving.\\t0\", \"I will come back here every time I'm in Vegas.\\t1\", 'This place deserves one star and 90% has to do with the food.\\t0', 'This is a disgrace.\\t0', 'Def coming back to bowl next time\\t1', 'If you want healthy authentic or ethic food, try this place.\\t1', 'I will continue to come here on ladies night andddd date night ... highly recommend this place to anyone who is in the area (;\\t1', 'I have been here several times in the past, and the experience has always been great.\\t1', 'We walked away stuffed and happy about our first Vegas buffet experience.\\t1', 'Service was excellent and prices are pretty reasonable considering this is Vegas and located inside the Crystals shopping mall by Aria.\\t1', 'To summarize... the food was incredible, nay, transcendant... but nothing brings me joy quite like the memory of the pneumatic condiment dispenser.\\t1', \"I'm probably one of the few people to ever go to Ians and not like it.\\t0\", 'Kids pizza is always a hit too with lots of great side dish options for the kiddos!\\t1', 'Service is perfect and the family atmosphere is nice to see.\\t1', 'Cooked to perfection and the service was impeccable.\\t1', 'This one is simply a disappointment.\\t0', 'Overall, I was very disappointed with the quality of food at Bouchon.\\t0', \"I don't have to be an accountant to know I'm getting screwed!\\t0\", 'Great place to eat, reminds me of the little mom and pop shops in the San Francisco Bay Area.\\t1', 'Today was my first taste of a Buldogis Gourmet Hot Dog and I have to tell you it was more than I ever thought possible.\\t1', 'Left very frustrated.\\t0', \"I'll definitely be in soon again.\\t1\", 'Food was really good and I got full petty fast.\\t1', 'Service was fantastic.\\t1', 'TOTAL WASTE OF TIME.\\t0', \"I don't know what kind it is but they have the best iced tea.\\t1\", 'Come hungry, leave happy and stuffed!\\t1', 'For service, I give them no stars.\\t0', \"I can assure you that you won't be disappointed.\\t1\", 'I can take a little bad service but the food sucks.\\t0', 'Gave up trying to eat any of the crust (teeth still sore).\\t0', 'But now I was completely grossed out.\\t0', 'I really enjoyed eating here.\\t1', 'First time going but I think I will quickly become a regular.\\t1', 'Our server was very nice, and even though he looked a little overwhelmed with all of our needs, he stayed professional and friendly until the end.\\t1', 'From what my dinner companions told me...everything was very fresh with nice texture and taste.\\t1', 'On the ground, right next to our table was a large, smeared, been-stepped-in-and-tracked-everywhere pile of green bird poop.\\t0', \"Furthermore, you can't even find hours of operation on the website!\\t0\", \"We've tried to like this place but after 10+ times I think we're done with them.\\t0\", 'What a mistake that was!\\t0', 'No complaints!\\t1', \"This is some seriously good pizza and I'm an expert/connisseur on the topic.\\t1\", 'Waiter was a jerk.\\t0', 'Strike 2, who wants to be rushed.\\t0', \"These are the nicest restaurant owners I've ever come across.\\t1\", 'I never come again.\\t0', 'We loved the biscuits!!!\\t1', 'Service is quick and friendly.\\t1', 'Ordered an appetizer and took 40 minutes and then the pizza another 10 minutes.\\t0', 'So absolutley fantastic.\\t1', 'It was a huge awkward 1.5lb piece of cow that was 3/4ths gristle and fat.\\t0', 'definitely will come back here again.\\t1', \"I like Steiners because it's dark and it feels like a bar.\\t1\", 'Wow very spicy but delicious.\\t1', \"If you're not familiar, check it out.\\t1\", \"I'll take my business dinner dollars elsewhere.\\t0\", \"I'd love to go back.\\t1\", 'Anyway, this FS restaurant has a wonderful breakfast/lunch.\\t1', 'Nothing special.\\t0', \"Each day of the week they have a different deal and it's all so delicious!\\t1\", 'Not to mention the combination of pears, almonds and bacon is a big winner!\\t1', 'Will not be back.\\t0', 'Sauce was tasteless.\\t0', 'The food is delicious and just spicy enough, so be sure to ask for spicier if you prefer it that way.\\t1', 'My ribeye steak was cooked perfectly and had great mesquite flavor.\\t1', \"I don't think we'll be going back anytime soon.\\t0\", 'Food was so gooodd.\\t1', 'I am far from a sushi connoisseur but I can definitely tell the difference between good food and bad food and this was certainly bad food.\\t0', 'I was so insulted.\\t0', 'The last 3 times I had lunch here has been bad.\\t0', 'The chicken wings contained the driest chicken meat I have ever eaten.\\t0', 'The food was very good and I enjoyed every mouthful, an enjoyable relaxed venue for couples small family groups etc.\\t1', 'Nargile - I think you are great.\\t1', 'Best tater tots in the southwest.\\t1', 'We loved the place.\\t1', 'Definitely not worth the $3 I paid.\\t0', 'The vanilla ice cream was creamy and smooth while the profiterole (choux) pastry was fresh enough.\\t1', 'Im in AZ all the time and now have my new spot.\\t1', 'The manager was the worst.\\t0', 'The inside is really quite nice and very clean.\\t1', 'The food was outstanding and the prices were very reasonable.\\t1', \"I don't think I'll be running back to Carly's anytime soon for food.\\t0\", 'This is was due to the fact that it took 20 minutes to be acknowledged, then another 35 minutes to get our food...and they kept forgetting things.\\t0', 'Love the margaritas, too!\\t1', 'This was my first and only Vegas buffet and it did not disappoint.\\t1', 'Very good, though!\\t1', 'The one down note is the ventilation could use some upgrading.\\t0', 'Great pork sandwich.\\t1', \"Don't waste your time here.\\t0\", 'Total letdown, I would much rather just go to the Camelback Flower Shop and Cartel Coffee.\\t0', \"Third, the cheese on my friend's burger was cold.\\t0\", 'We enjoy their pizza and brunch.\\t1', 'The steaks are all well trimmed and also perfectly cooked.\\t1', 'We had a group of 70+ when we claimed we would only have 40 and they handled us beautifully.\\t1', 'I LOVED it!\\t1', \"We asked for the bill to leave without eating and they didn't bring that either.\\t0\", \"This place is a jewel in Las Vegas, and exactly what I've been hoping to find in nearly ten years living here.\\t1\", 'Seafood was limited to boiled shrimp and crab legs but the crab legs definitely did not taste fresh.\\t0', 'The selection of food was not the best.\\t0', 'Delicious and I will absolutely be back!\\t1', \"This isn't a small family restaurant, this is a fine dining establishment.\\t1\", 'They had a toro tartare with a cavier that was extraordinary and I liked the thinly sliced wagyu with white truffle.\\t1', 'I dont think I will be back for a very long time.\\t0', 'It was attached to a gas station, and that is rarely a good sign.\\t0', 'How awesome is that.\\t1', 'I will be back many times soon.\\t1', 'The menu had so much good stuff on it i could not decide!\\t1', 'Worse of all, he humiliated his worker right in front of me..Bunch of horrible name callings.\\t0', 'CONCLUSION: Very filling meals.\\t1', 'Their daily specials are always a hit with my group.\\t1', 'And then tragedy struck.\\t0', 'The pancake was also really good and pretty large at that.\\t1', 'This was my first crawfish experience, and it was delicious!\\t1', 'Their monster chicken fried steak and eggs is my all time favorite.\\t1', 'Waitress was sweet and funny.\\t1', \"I also had to taste my Mom's multi-grain pumpkin pancakes with pecan butter and they were amazing, fluffy, and delicious!\\t1\", \"I'd rather eat airline food, seriously.\\t0\", 'Cant say enough good things about this place.\\t1', 'The ambiance was incredible.\\t1', 'The waitress and manager are so friendly.\\t1', 'I would not recommend this place.\\t0', \"Overall I wasn't very impressed with Noca.\\t0\", 'My gyro was basically lettuce only.\\t0', 'Terrible service!\\t0', 'Thoroughly disappointed!\\t0', \"I don't each much pasta, but I love the homemade /hand made pastas and thin pizzas here.\\t1\", 'Give it a try, you will be happy you did.\\t1', 'By far the BEST cheesecurds we have ever had!\\t1', 'Reasonably priced also!\\t1', 'Everything was perfect the night we were in.\\t1', 'The food is very good for your typical bar food.\\t1', 'it was a drive to get there.\\t0', 'At first glance it is a lovely bakery cafe - nice ambiance, clean, friendly staff.\\t1', 'Anyway, I do not think i will go back there.\\t0', \"Point your finger at any item on the menu, order it and you won't be disappointed.\\t1\", 'Oh this is such a thing of beauty, this restaurant.\\t1', \"If you haven't gone here GO NOW!\\t1\", 'A greasy, unhealthy meal.\\t0', 'first time there and might just be the last.\\t0', 'Those burgers were amazing.\\t1', 'Similarly, the delivery man did not say a word of apology when our food was 45 minutes late.\\t0', 'And it was way to expensive.\\t0', 'Be sure to order dessert, even if you need to pack it to-go - the tiramisu and cannoli are both to die for.\\t1', \"This was my first time and I can't wait until the next.\\t1\", 'The bartender was also nice.\\t1', 'Everything was good and tasty!\\t1', 'This place is two thumbs up....way up.\\t1', 'The best place in Vegas for breakfast (just check out a Sat, or Sun.\\t1', 'If you love authentic Mexican food and want a whole bunch of interesting, yet delicious meats to choose from, you need to try this place.\\t1', 'Terrible management.\\t0', 'An excellent new restaurant by an experienced Frenchman.\\t1', 'If there were zero stars I would give it zero stars.\\t0', 'Great steak, great sides, great wine, amazing desserts.\\t1', 'Worst martini ever!\\t0', 'The steak and the shrimp are in my opinion the best entrees at GC.\\t1', 'I had the opportunity today to sample your amazing pizzas!\\t1', 'We waited for thirty minutes to be seated (although there were 8 vacant tables and we were the only folks waiting).\\t0', 'The yellowtail carpaccio was melt in your mouth fresh.\\t1', \"I won't try going back there even if it's empty.\\t0\", \"No, I'm going to eat the potato that I found some strangers hair in it.\\t0\", 'Just spicy enough.. Perfect actually.\\t1', 'Last night was my second time dining here and I was so happy I decided to go back!\\t1', 'not even a \"hello, we will be right with you.\"\\t0', 'The desserts were a bit strange.\\t0', 'My boyfriend and I came here for the first time on a recent trip to Vegas and could not have been more pleased with the quality of food and service.\\t1', 'I really do recommend this place, you can go wrong with this donut place!\\t1', 'Nice ambiance.\\t1', 'I would recommend saving room for this!\\t1', 'I guess maybe we went on an off night but it was disgraceful.\\t0', 'However, my recent experience at this particular location was not so good.\\t0', 'I know this is not like the other restaurants at all, something is very off here!\\t0', 'AVOID THIS ESTABLISHMENT!\\t0', 'I think this restaurant suffers from not trying hard enough.\\t0', 'All of the tapas dishes were delicious!\\t1', 'I *heart* this place.\\t1', 'My salad had a bland vinegrette on the baby greens and hearts of Palm.\\t0', 'After two I felt disgusting.\\t0', 'A good time!\\t1', 'I believe that this place is a great stop for those with a huge belly and hankering for sushi.\\t1', 'Generous portions and great taste.\\t1', 'I will never go back to this place and will never ever recommended this place to anyone!\\t0', 'The servers went back and forth several times, not even so much as an \"Are you being helped?\"\\t0', 'Food was delicious!\\t1', 'AN HOUR... seriously?\\t0', 'I consider this theft.\\t0', 'Eew... This location needs a complete overhaul.\\t0', 'We recently witnessed her poor quality of management towards other guests as well.\\t0', 'Waited and waited and waited.\\t0', 'He also came back to check on us regularly, excellent service.\\t1', 'Our server was super nice and checked on us many times.\\t1', 'The pizza tasted old, super chewy in not a good way.\\t0', 'I swung in to give them a try but was deeply disappointed.\\t0', 'Service was good and the company was better!\\t1', 'The staff are also very friendly and efficient.\\t1', \"As for the service: I'm a fan, because it's quick and you're being served by some nice folks.\\t1\", 'Boy was that sucker dry!!.\\t0', 'Over rated.\\t0', 'If you look for authentic Thai food, go else where.\\t0', 'Their steaks are 100% recommended!\\t1', 'After I pulled up my car I waited for another 15 minutes before being acknowledged.\\t0', 'Great food and great service in a clean and friendly setting.\\t1', \"All in all, I can assure you I'll be back.\\t1\", 'I hate those things as much as cheap quality black olives.\\t0', 'My breakfast was perpared great, with a beautiful presentation of 3 giant slices of Toast, lightly dusted with powdered sugar.\\t1', 'The kids play area is NASTY!\\t0', 'Great place fo take out or eat in.\\t1', 'The waitress was friendly and happy to accomodate for vegan/veggie options.\\t1', 'OMG I felt like I had never eaten Thai food until this dish.\\t1', 'It was extremely \"crumby\" and pretty tasteless.\\t0', 'It was a pale color instead of nice and char and has NO flavor.\\t0', 'The croutons also taste homemade which is an extra plus.\\t1', 'I got home to see the driest damn wings ever!\\t0', \"It'll be a regular stop on my trips to Phoenix!\\t1\", 'I really enjoyed Crema Café before they expanded; I even told friends they had the BEST breakfast.\\t1', 'Not good for the money.\\t0', 'I miss it and wish they had one in Philadelphia!\\t1', 'We got sitting fairly fast, but, ended up waiting 40 minutes just to place our order, another 30 minutes before the food arrived.\\t0', 'They also have the best cheese crisp in town.\\t1', 'Good value, great food, great service.\\t1', \"Couldn't ask for a more satisfying meal.\\t1\", 'The food is good.\\t1', 'It was awesome.\\t1', 'I just wanted to leave.\\t0', 'We made the drive all the way from North Scottsdale... and I was not one bit disappointed!\\t1', 'I will not be eating there again.\\t0', '!....THE OWNERS REALLY REALLY need to quit being soooooo cheap let them wrap my freaking sandwich in two papers not one!\\t0', 'I checked out this place a couple years ago and was not impressed.\\t0', 'The chicken I got was definitely reheated and was only ok, the wedges were cold and soggy.\\t0', 'Sorry, I will not be getting food from here anytime soon :(\\t0', 'An absolute must visit!\\t1', 'The cow tongue and cheek tacos are amazing.\\t1', 'My friend did not like his Bloody Mary.\\t0', 'Despite how hard I rate businesses, its actually rare for me to give a 1 star.\\t0', 'They really want to make your experience a good one.\\t1', 'I will not return.\\t0', 'I had the chicken Pho and it tasted very bland.\\t0', 'Very disappointing!!!\\t0', 'The grilled chicken was so tender and yellow from the saffron seasoning.\\t1', 'a drive thru means you do not want to wait around for half an hour for your food, but somehow when we end up going here they make us wait and wait.\\t0', 'Pretty awesome place.\\t1', 'Ambience is perfect.\\t1', 'Best of luck to the rude and non-customer service focused new management.\\t0', 'Any grandmother can make a roasted chicken better than this one.\\t0', 'I asked multiple times for the wine list and after some time of being ignored I went to the hostess and got one myself.\\t0', 'The staff is always super friendly and helpful, which is especially cool when you bring two small boys and a baby!\\t1', 'Four stars for the food & the guy in the blue shirt for his great vibe & still letting us in to eat !\\t1', 'The roast beef sandwich tasted really good!\\t1', 'Same evening, him and I are both drastically sick.\\t0', 'High-quality chicken on the chicken Caesar salad.\\t1', \"Ordered burger rare came in we'll done.\\t0\", 'We were promptly greeted and seated.\\t1', 'Tried to go here for lunch and it was a madhouse.\\t0', 'I was proven dead wrong by this sushi bar, not only because the quality is great, but the service is fast and the food, impeccable.\\t1', 'After waiting an hour and being seated, I was not in the greatest of moods.\\t0', 'This is a good joint.\\t1', 'The Macarons here are insanely good.\\t1', \"I'm not eating here!\\t0\", 'Our waiter was very attentive, friendly, and informative.\\t1', \"Maybe if they weren't cold they would have been somewhat edible.\\t0\", 'This place has a lot of promise but fails to deliver.\\t0', 'Very bad Experience!\\t0', 'What a mistake.\\t0', 'Food was average at best.\\t0', 'Great food.\\t1', \"We won't be going back anytime soon!\\t0\", 'Very Very Disappointed ordered the $35 Big Bay Plater.\\t0', 'Great place to relax and have an awesome burger and beer.\\t1', 'It is PERFECT for a sit-down family meal or get together with a few friends.\\t1', 'Not much flavor to them, and very poorly constructed.\\t0', 'The patio seating was very comfortable.\\t1', 'The fried rice was dry as well.\\t0', 'Hands down my favorite Italian restaurant!\\t1', 'That just SCREAMS \"LEGIT\" in my book...somethat\\'s also pretty rare here in Vegas.\\t1', 'It was just not a fun experience.\\t1', 'The atmosphere was great with a lovely duo of violinists playing songs we requested.\\t1', \"I personally love the hummus, pita, baklava, falafels and Baba Ganoush (it's amazing what they do with eggplant!).\\t1\", 'Very convenient, since we were staying at the MGM!\\t1', 'The owners are super friendly and the staff is courteous.\\t1', 'Both great!\\t1', 'Eclectic selection.\\t1', 'The sweet potato tots were good but the onion rings were perfection or as close as I have had.\\t1', 'The staff was very attentive.\\t1', 'And the chef was generous with his time (even came around twice so we can take pictures with him).\\t1', 'The owner used to work at Nobu, so this place is really similar for half the price.\\t1', 'Google mediocre and I imagine Smashburger will pop up.\\t0', 'dont go here.\\t0', \"I promise they won't disappoint.\\t1\", 'As a sushi lover avoid this place by all means.\\t0', 'What a great double cheeseburger!\\t1', 'Awesome service and food.\\t1', 'A fantastic neighborhood gem !!!\\t1', \"I can't wait to go back.\\t1\", \"The plantains were the worst I've ever tasted.\\t0\", \"It's a great place and I highly recommend it.\\t1\", 'Service was slow and not attentive.\\t0', \"I gave it 5 stars then, and I'm giving it 5 stars now.\\t1\", 'Your staff spends more time talking to themselves than me.\\t0', 'Dessert: Panna Cotta was amazing.\\t1', 'Very good food, great atmosphere.1\\t1', 'Damn good steak.\\t1', 'Total brunch fail.\\t0', 'Prices are very reasonable, flavors are spot on, the sauce is home made, and the slaw is not drenched in mayo.\\t1', 'The decor is nice, and the piano music soundtrack is pleasant.\\t1', 'The steak was amazing...rge fillet relleno was the best seafood plate i have ever had!\\t1', 'Good food , good service .\\t1', 'It was absolutely amazing.\\t1', \"I probably won't be back, to be honest.\\t0\", 'will definitely be back!\\t1', 'The sergeant pepper beef sandwich with auju sauce is an excellent sandwich as well.\\t1', \"Hawaiian Breeze, Mango Magic, and Pineapple Delight are the smoothies that I've tried so far and they're all good.\\t1\", 'Went for lunch - service was slow.\\t0', 'We had so much to say about the place before we walked in that he expected it to be amazing, but was quickly disappointed.\\t0', 'I was mortified.\\t0', 'Needless to say, we will never be back here again.\\t0', 'Anyways, The food was definitely not filling at all, and for the price you pay you should expect more.\\t0', 'The chips that came out were dripping with grease, and mostly not edible.\\t0', \"I wasn't really impressed with Strip Steak.\\t0\", 'Have been going since 2007 and every meal has been awesome!!\\t1', 'Our server was very nice and attentive as were the other serving staff.\\t1', 'The cashier was friendly and even brought the food out to me.\\t1', 'I work in the hospitality industry in Paradise Valley and have refrained from recommending Cibo any longer.\\t0', 'The atmosphere here is fun.\\t1', 'Would not recommend to others.\\t0', 'Service is quick and even \"to go\" orders are just like we like it!\\t1', \"I mean really, how do you get so famous for your fish and chips when it's so terrible!?!\\t0\", 'That said, our mouths and bellies were still quite pleased.\\t1', 'Not my thing.\\t0', '2 Thumbs Up!!\\t1', \"If you are reading this please don't go there.\\t0\", 'I loved the grilled pizza, reminded me of legit Italian pizza.\\t1', 'Only Pros : Large seating area/ Nice bar area/ Great simple drink menu/ The BEST brick oven pizza with homemade dough!\\t1', 'They have a really nice atmosphere.\\t1', 'Tonight I had the Elk Filet special...and it sucked.\\t0', 'After one bite, I was hooked.\\t1', 'We ordered some old classics and some new dishes after going there a few times and were sorely disappointed with everything.\\t0', 'Cute, quaint, simple, honest.\\t1', 'The chicken was deliciously seasoned and had the perfect fry on the outside and moist chicken on the inside.\\t1', 'The food was great as always, compliments to the chef.\\t1', 'Special thanks to Dylan T. for the recommendation on what to order :) All yummy for my tummy.\\t1', 'Awesome selection of beer.\\t1', 'Great food and awesome service!\\t1', \"One nice thing was that they added gratuity on the bill since our party was larger than 6 or 8, and they didn't expect more tip than that.\\t1\", 'A FLY was in my apple juice.. A FLY!!!!!!!!\\t0', 'The Han Nan Chicken was also very tasty.\\t1', 'As for the service, I thought it was good.\\t1', 'The food was barely lukewarm, so it must have been sitting waiting for the server to bring it out to us.\\t0', \"Ryan's Bar is definitely one Edinburgh establishment I won't be revisiting.\\t0\", \"Nicest Chinese restaurant I've been in a while.\\t1\", 'Overall, I like there food and the service.\\t1', 'They also now serve Indian naan bread with hummus and some spicy pine nut sauce that was out of this world.\\t1', \"Probably never coming back, and wouldn't recommend it.\\t0\", \"Friend's pasta -- also bad, he barely touched it.\\t0\", 'Try them in the airport to experience some tasty food and speedy, friendly service.\\t1', 'I love the decor with the Chinese calligraphy wall paper.\\t1', 'Never had anything to complain about here.\\t1', 'The restaurant is very clean and has a family restaurant feel to it.\\t1', 'It was way over fried.\\t0', \"I'm not sure how long we stood there but it was long enough for me to begin to feel awkwardly out of place.\\t0\", 'When I opened the sandwich, I was impressed, but not in a good way.\\t0', 'Will not be back!\\t0', 'There was a warm feeling with the service and I felt like their guest for a special treat.\\t1', 'An extensive menu provides lots of options for breakfast.\\t1', 'I always order from the vegetarian menu during dinner, which has a wide array of options to choose from.\\t1', 'I have watched their prices inflate, portions get smaller and management attitudes grow rapidly!\\t0', 'Wonderful lil tapas and the ambience made me feel all warm and fuzzy inside.\\t1', 'I got to enjoy the seafood salad, with a fabulous vinegrette.\\t1', 'The wontons were thin, not thick and chewy, almost melt in your mouth.\\t1', \"Level 5 spicy was perfect, where spice didn't over-whelm the soup.\\t1\", 'We were sat right on time and our server from the get go was FANTASTIC!\\t1', \"Main thing I didn't enjoy is that the crowd is of older crowd, around mid 30s and up.\\t0\", \"When I'm on this side of town, this will definitely be a spot I'll hit up again!\\t1\", 'I had to wait over 30 minutes to get my drink and longer to get 2 arepas.\\t0', 'This is a GREAT place to eat!\\t1', 'The jalapeno bacon is soooo good.\\t1', 'The service was poor and thats being nice.\\t0', 'Food was good, service was good, Prices were good.\\t1', 'The place was not clean and the food oh so stale!\\t0', 'The chicken dishes are OK, the beef is like shoe leather.\\t0', 'But the service was beyond bad.\\t0', 'I\\'m so happy to be here!!!\"\\t1', 'Tasted like dirt.\\t0', 'One of the few places in Phoenix that I would definately go back to again .\\t1', 'The block was amazing.\\t1', \"It's close to my house, it's low-key, non-fancy, affordable prices, good food.\\t1\", '* Both the Hot & Sour & the Egg Flower Soups were absolutely 5 Stars!\\t1', 'My sashimi was poor quality being soggy and tasteless.\\t0', 'Great time - family dinner on a Sunday night.\\t1', 'the food is not tasty at all, not to say its \"real traditional Hunan style\".\\t0', 'What did bother me, was the slow service.\\t0', 'The flair bartenders are absolutely amazing!\\t1', 'Their frozen margaritas are WAY too sugary for my taste.\\t0', 'These were so good we ordered them twice.\\t1', 'So in a nutshell: 1) The restaraunt smells like a combination of a dirty fish market and a sewer.\\t0', \"My girlfriend's veal was very bad.\\t0\", 'Unfortunately, it was not good.\\t0', 'I had a pretty satifying experience.\\t1', 'Join the club and get awesome offers via email.\\t1', 'Perfect for someone (me) who only likes beer ice cold, or in this case, even colder.\\t1', 'Bland and flavorless is a good way of describing the barely tepid meat.\\t0', \"The chains, which I'm no fan of, beat this place easily.\\t0\", 'The nachos are a MUST HAVE!\\t1', 'We will not be coming back.\\t0', \"I don't have very many words to say about this place, but it does everything pretty well.\\t1\", 'The staff is super nice and very quick even with the crazy crowds of the downtown juries, lawyers, and court staff.\\t1', 'Great atmosphere, friendly and fast service.\\t1', 'When I received my Pita it was huge it did have a lot of meat in it so thumbs up there.\\t1', \"Once your food arrives it's meh.\\t0\", \"Paying $7.85 for a hot dog and fries that looks like it came out of a kid's meal at the Wienerschnitzel is not my idea of a good meal.\\t0\", 'The classic Maine Lobster Roll was fantastic.\\t1', 'My brother in law who works at the mall ate here same day, and guess what he was sick all night too.\\t0', 'So good I am going to have to review this place twice - once hereas a tribute to the place and once as a tribute to an event held here last night.\\t1', 'The chips and salsa were really good, the salsa was very fresh.\\t1', 'This place is great!!!!!!!!!!!!!!\\t1', 'Mediocre food.\\t0', \"Once you get inside you'll be impressed with the place.\\t1\", \"I'm super pissd.\\t0\", 'And service was super friendly.\\t1', 'Why are these sad little vegetables so overcooked?\\t0', 'This place was such a nice surprise!\\t1', 'They were golden-crispy and delicious.\\t1', 'I had high hopes for this place since the burgers are cooked over a charcoal grill, but unfortunately the taste fell flat, way flat.\\t0', 'I could eat their bruschetta all day it is devine.\\t1', 'Not a single employee came out to see if we were OK or even needed a water refill once they finally served us our food.\\t0', 'Lastly, the mozzarella sticks, they were the best thing we ordered.\\t1', 'The first time I ever came here I had an amazing experience, I still tell people how awesome the duck was.\\t1', 'The server was very negligent of our needs and made us feel very unwelcome... I would not suggest this place!\\t0', 'The service was terrible though.\\t0', 'This place is overpriced, not consistent with their boba, and it really is OVERPRICED!\\t0', 'It was packed!!\\t0', 'I love this place.\\t1', 'I can say that the desserts were yummy.\\t1', 'The food was terrible.\\t0', 'The seasonal fruit was fresh white peach puree.\\t1', \"It kept getting worse and worse so now I'm officially done.\\t0\", 'This place should honestly be blown up.\\t0', 'But I definitely would not eat here again.\\t0', 'Do not waste your money here!\\t0', 'I love that they put their food in nice plastic containers as opposed to cramming it in little paper takeout boxes.\\t1', 'The crêpe was delicate and thin and moist.\\t1', 'Awful service.\\t0', \"Won't ever go here again.\\t0\", 'Food quality has been horrible.\\t0', 'For that price I can think of a few place I would have much rather gone.\\t0', 'The service here is fair at best.\\t0', 'I do love sushi, but I found Kabuki to be over-priced, over-hip and under-services.\\t0', 'Do yourself a favor and stay away from this dish.\\t0', 'Very poor service.\\t0', 'No one at the table thought the food was above average or worth the wait that we had for it.\\t0', 'Best service and food ever, Maria our server was so good and friendly she made our day.\\t1', 'They were excellent.\\t1', 'I paid the bill but did not tip because I felt the server did a terrible job.\\t0', 'Just had lunch here and had a great experience.\\t1', 'I have never had such bland food which surprised me considering the article we read focused so much on their spices and flavor.\\t0', 'Food is way overpriced and portions are fucking small.\\t0', \"I recently tried Caballero's and I have been back every week since!\\t1\", 'for 40 bucks a head, i really expect better food.\\t0', 'The food came out at a good pace.\\t1', 'I ate there twice on my last visit, and especially enjoyed the salmon salad.\\t1', \"I won't be back.\\t0\", 'We could not believe how dirty the oysters were!\\t0', 'This place deserves no stars.\\t0', 'I would not recommend this place.\\t0', \"In fact I'm going to round up to 4 stars, just because she was so awesome.\\t1\", 'To my disbelief, each dish qualified as the worst version of these foods I have ever tasted.\\t0', 'Bad day or not, I have a very low tolerance for rude customer service people, it is your job to be nice and polite, wash dishes otherwise!!\\t0', 'the potatoes were great and so was the biscuit.\\t1', 'I probably would not go here again.\\t0', 'So flavorful and has just the perfect amount of heat.\\t1', 'The price is reasonable and the service is great.\\t1', 'The Wife hated her meal (coconut shrimp), and our friends really did not enjoy their meals, either.\\t0', \"My fella got the huevos rancheros and they didn't look too appealing.\\t0\", 'Went in for happy hour, great list of wines.\\t1', 'Some may say this buffet is pricey but I think you get what you pay for and this place you are getting quite a lot!\\t1', \"I probably won't be coming back here.\\t0\", \"Worst food/service I've had in a while.\\t0\", 'This place is pretty good, nice little vibe in the restaurant.\\t1', 'Talk about great customer service of course we will be back.\\t1', 'Hot dishes are not hot, cold dishes are close to room temp.I watched staff prepare food with BARE HANDS, no gloves.Everything is deep fried in oil.\\t0', 'I love their fries and their beans.\\t1', 'Always a pleasure dealing with him.\\t1', \"They have a plethora of salads and sandwiches, and everything I've tried gets my seal of approval.\\t1\", 'This place is awesome if you want something light and healthy during the summer.\\t1', 'For sushi on the Strip, this is the place to go.\\t1', 'The service was great, even the manager came and helped with our table.\\t1', 'The feel of the dining room was more college cooking course than high class dining and the service was slow at best.\\t0', \"I started this review with two stars, but I'm editing it to give it only one.\\t0\", \"this is the worst sushi i have ever eat besides Costco's.\\t0\", 'All in all an excellent restaurant highlighted by great service, a unique menu, and a beautiful setting.\\t1', 'My boyfriend and i sat at the bar and had a completely delightful experience.\\t1', 'Weird vibe from owners.\\t0', 'There was hardly any meat.\\t0', \"I've had better bagels from the grocery store.\\t0\", 'Go To Place for Gyros.\\t1', 'I love the owner/chef, his one authentic Japanese cool dude!\\t1', \"Now the burgers aren't as good, the pizza which used to be amazing is doughy and flavorless.\\t0\", 'I found a six inch long piece of wire in my salsa.\\t0', 'The service was terrible, food was mediocre.\\t0', 'We definately enjoyed ourselves.\\t1', 'I ordered Albondigas soup - which was just warm - and tasted like tomato soup with frozen meatballs.\\t0', 'On three different occasions I asked for well done or medium well, and all three times I got the bloodiest piece of meat on my plate.\\t0', 'I had about two bites and refused to eat anymore.\\t0', 'The service was extremely slow.\\t0', 'After 20 minutes wait, I got a table.\\t0', 'Seriously killer hot chai latte.\\t1', 'No allergy warnings on the menu, and the waitress had absolutely no clue as to which meals did or did not contain peanuts.\\t0', 'My boyfriend tried the Mediterranean Chicken Salad and fell in love.\\t1', 'Their rotating beers on tap is also a highlight of this place.\\t1', 'Pricing is a bit of a concern at Mellow Mushroom.\\t0', 'Worst Thai ever.\\t0', 'If you stay in Vegas you must get breakfast here at least once.\\t1', 'I want to first say our server was great and we had perfect service.\\t1', 'The pizza selections are good.\\t1', 'I had strawberry tea, which was good.\\t1', 'Highly unprofessional and rude to a loyal patron!\\t0', 'Overall, a great experience.\\t1', 'Spend your money elsewhere.\\t0', 'Their regular toasted bread was equally satisfying with the occasional pats of butter... Mmmm...!\\t1', 'The Buffet at Bellagio was far from what I anticipated.\\t0', 'And the drinks are WEAK, people!\\t0', '-My order was not correct.\\t0', 'Also, I feel like the chips are bought, not made in house.\\t0', 'After the disappointing dinner we went elsewhere for dessert.\\t0', 'The chips and sals a here is amazing!!!!!!!!!!!!!!!!!!!\\t1', \"We won't be returning.\\t0\", 'This is my new fav Vegas buffet spot.\\t1', 'I seriously cannot believe that the owner has so many unexperienced employees that all are running around like chickens with their heads cut off.\\t0', 'Very, very sad.\\t0', 'i felt insulted and disrespected, how could you talk and judge another human being like that?\\t0', \"How can you call yourself a steakhouse if you can't properly cook a steak, I don't understand!\\t0\", \"I'm not impressed with the concept or the food.\\t0\", \"The only thing I wasn't too crazy about was their guacamole as I don't like it puréed.\\t0\", 'There is really nothing for me at postinos, hope your experience is better\\t0', 'I got food poisoning here at the buffet.\\t0', 'They brought a fresh batch of fries and I was thinking yay something warm but no!\\t0', 'What SHOULD have been a hilarious, yummy Christmas Eve dinner to remember was the biggest fail of the entire trip for us.\\t0', \"Needless to say, I won't be going back anytime soon.\\t0\", 'This place is disgusting!\\t0', 'Every time I eat here, I see caring teamwork to a professional degree.\\t1', 'The RI style calamari was a joke.\\t0', 'However, there was so much garlic in the fondue, it was barely edible.\\t0', \"I could barely stomach the meal, but didn't complain because it was a business lunch.\\t0\", 'It was so bad, I had lost the heart to finish it.\\t0', 'It also took her forever to bring us the check when we asked for it.\\t0', \"We aren't ones to make a scene at restaurants but I just don't get it...definitely lost the love after this one!\\t0\", 'Disappointing experience.\\t0', \"The food is about on par with Denny's, which is to say, not good at all.\\t0\", 'If you want to wait for mediocre food and downright terrible service, then this is the place for you.\\t0', 'WAAAAAAyyyyyyyyyy over rated is all I am saying.\\t0', \"We won't be going back.\\t0\", \"The place was fairly clean but the food simply wasn't worth it.\\t0\", 'This place lacked style!!\\t0', 'The sangria was about half of a glass wine full and was $12, ridiculous.\\t0', \"Don't bother coming here.\\t0\", 'The meat was pretty dry, I had the sliced brisket and pulled pork.\\t0', \"The building itself seems pretty neat; the bathroom is pretty trippy, but I wouldn't eat here again.\\t0\", 'It was equally awful.\\t0', 'Probably not in a hurry to go back.\\t0', 'very slow at seating even with reservation.\\t0', 'Not good by any stretch of the imagination.\\t0', 'The cashew cream sauce was bland and the vegetables were undercooked.\\t0', 'The chipolte ranch dipping sause was tasteless, seemed thin and watered down with no heat.\\t0', 'It was a bit too sweet, not really spicy enough, and lacked flavor.\\t0', 'I was VERY disappointed!!\\t0', 'This place is horrible and way overpriced.\\t0', \"Maybe it's just their Vegetarian fare, but I've been twice and I thought it was average at best.\\t0\", \"It wasn't busy at all and now we know why.\\t0\", 'The tables outside are also dirty a lot of the time and the workers are not always friendly and helpful with the menu.\\t0', 'The ambiance here did not feel like a buffet setting, but more of a douchey indoor garden for tea and biscuits.\\t0', 'Con: spotty service.\\t0', 'The fries were not hot, and neither was my burger.\\t0', 'But then they came back cold.\\t0', 'Then our food came out, disappointment ensued.\\t0', 'The real disappointment was our waiter.\\t0', 'My husband said she was very rude... did not even apologize for the bad food or anything.\\t0', 'The only reason to eat here would be to fill up before a night of binge drinking just to get some carbs in your stomach.\\t0', 'Insults, profound deuchebaggery, and had to go outside for a smoke break while serving just to solidify it.\\t0', \"If someone orders two tacos don't' you think it may be part of customer service to ask if it is combo or ala cart?\\t0\", 'She was quite disappointed although some blame needs to be placed at her door.\\t0', \"After all the rave reviews I couldn't wait to eat here......what a disappointment!\\t0\", 'Del Taco is pretty nasty and should be avoided if possible.\\t0', \"It's NOT hard to make a decent hamburger.\\t0\", \"But I don't like it.\\t0\", 'Hell no will I go back\\t0', \"We've have gotten a much better service from the pizza place next door than the services we received from this restaurant.\\t0\", 'I don\\'t know what the big deal is about this place, but I won\\'t be back \"ya\\'all\".\\t0', 'I immediately said I wanted to talk to the manager but I did not want to talk to the guy who was doing shots of fireball behind the bar.\\t0', \"The ambiance isn't much better.\\t0\", 'Unfortunately, it only set us up for disapppointment with our entrees.\\t0', \"The food wasn't good.\\t0\", 'Your servers suck, wait, correction, our server Heimer sucked.\\t0', 'What happened next was pretty....off putting.\\t0', \"too bad cause I know it's family owned, I really wanted to like this place.\\t0\", 'Overpriced for what you are getting.\\t0', 'I vomited in the bathroom mid lunch.\\t0', 'I kept looking at the time and it had soon become 35 minutes, yet still no food.\\t0', 'I have been to very few places to eat that under no circumstances would I ever return to, and this tops the list.\\t0', \"We started with the tuna sashimi which was brownish in color and obviously wasn't fresh.\\t0\", 'Food was below average.\\t0', 'It sure does beat the nachos at the movies but I would expect a little bit more coming from a restaurant.\\t0', 'All in all, Ha Long Bay was a bit of a flop.\\t0', 'The problem I have is that they charge $11.99 for a sandwich that is no bigger than a Subway sub (which offers better and more amount of vegetables).\\t0', 'Shrimp- When I unwrapped it (I live only 1/2 a mile from Brushfire) it was literally ice cold.\\t0', 'It lacked flavor, seemed undercooked, and dry.\\t0', \"It really is impressive that the place hasn't closed down.\\t0\", 'I would avoid this place if you are staying in the Mirage.\\t0', 'The refried beans that came with my meal were dried out and crusty and the food was bland.\\t0', 'Spend your money and time some place else.\\t0', 'A lady at the table next to us found a live green caterpillar In her salad.\\t0', 'the presentation of the food was awful.\\t0', \"I can't tell you how disappointed I was.\\t0\", 'I think food should have flavor and texture and both were lacking.\\t0', 'Appetite instantly gone.\\t0', 'Overall I was not impressed and would not go back.\\t0', \"The whole experience was underwhelming, and I think we'll just go to Ninja Sushi next time.\\t0\", \"Then, as if I hadn't wasted enough of my life there, they poured salt in the wound by drawing out the time it took to bring the check.\\t0\", '']\n"
          ],
          "name": "stdout"
        }
      ]
    },
    {
      "cell_type": "code",
      "metadata": {
        "id": "VE5qC28xNPtx",
        "colab_type": "code",
        "outputId": "746d9d82-c1e6-4a41-a022-eeb1e6419bf1",
        "colab": {
          "base_uri": "https://localhost:8080/",
          "height": 54
        }
      },
      "source": [
        "with open('/content/amazon_cells_labelled.txt', 'r') as text:\n",
        "  data2 = text.read()\n",
        "data2 = data2.split('\\n')\n",
        "print(data2)"
      ],
      "execution_count": 3,
      "outputs": [
        {
          "output_type": "stream",
          "text": [
            "['So there is no way for me to plug it in here in the US unless I go by a converter.\\t0', 'Good case, Excellent value.\\t1', 'Great for the jawbone.\\t1', 'Tied to charger for conversations lasting more than 45 minutes.MAJOR PROBLEMS!!\\t0', 'The mic is great.\\t1', 'I have to jiggle the plug to get it to line up right to get decent volume.\\t0', 'If you have several dozen or several hundred contacts, then imagine the fun of sending each of them one by one.\\t0', 'If you are Razr owner...you must have this!\\t1', 'Needless to say, I wasted my money.\\t0', 'What a waste of money and time!.\\t0', 'And the sound quality is great.\\t1', 'He was very impressed when going from the original battery to the extended battery.\\t1', 'If the two were seperated by a mere 5+ ft I started to notice excessive static and garbled sound from the headset.\\t0', 'Very good quality though\\t1', 'The design is very odd, as the ear \"clip\" is not very comfortable at all.\\t0', 'Highly recommend for any one who has a blue tooth phone.\\t1', 'I advise EVERYONE DO NOT BE FOOLED!\\t0', 'So Far So Good!.\\t1', 'Works great!.\\t1', 'It clicks into place in a way that makes you wonder how long that mechanism would last.\\t0', \"I went on Motorola's website and followed all directions, but could not get it to pair again.\\t0\", 'I bought this to use with my Kindle Fire and absolutely loved it!\\t1', 'The commercials are the most misleading.\\t0', \"I have yet to run this new battery below two bars and that's three days without charging.\\t1\", 'I bought it for my mother and she had a problem with the battery.\\t0', 'Great Pocket PC / phone combination.\\t1', \"I've owned this phone for 7 months now and can say that it's the best mobile phone I've had.\\t1\", \"I didn't think that the instructions provided were helpful to me.\\t0\", 'People couldnt hear me talk and I had to pull out the earphone and talk on the phone.\\t0', \"Doesn't hold charge.\\t0\", 'This is a simple little phone to use, but the breakage is unacceptible.\\t0', 'This product is ideal for people like me whose ears are very sensitive.\\t1', 'It is unusable in a moving car at freeway speed.\\t0', 'I have two more years left in this contract and I hate this phone.\\t0', 'Car charger as well as AC charger are included to make sure you never run out of juice.Highy recommended\\t1', 'You need at least 3 mins to get to your phone book from the time you first turn on the phone.Battery life is short.\\t0', 'It has kept up very well.\\t1', 'Poor Talk Time Performance.\\t0', 'The case is great and works fine with the 680.\\t1', 'worthless product.\\t0', 'It has a great camera thats 2MP, and the pics are nice and clear with great picture quality.\\t1', 'I was not impressed by this product.\\t0', 'Nice headset priced right.\\t1', 'I only hear garbage for audio.\\t0', 'Excellent bluetooth headset.\\t1', 'It has all the features I want\\t1', 'Who in their right mind is gonna buy this battery?.\\t0', 'AFTER ARGUING WITH VERIZON REGARDING THE DROPPED CALLS WE RETURNED THE PHONES AFTER TWO DAYS.\\t0', 'This case seems well made.\\t1', 'Disappointed with battery.\\t0', \"Not loud enough and doesn't turn on like it should.\\t0\", 'good protection and does not make phone too bulky.\\t1', 'A usable keyboard actually turns a PDA into a real-world useful machine instead of just a neat gadget.\\t1', \"This phone is pretty sturdy and I've never had any large problems with it.\\t1\", 'I love this thing!\\t1', 'Everything about it is fine and reasonable for the price i.e.\\t1', 'VERY DISAPPOINTED.\\t0', 'I even dropped this phone into a stream and it was submerged for 15 seconds and it still works great!\\t1', 'I have been very happy with the 510 and have had NO complaints from any one regarding my sound quality on their end.\\t1', 'The buttons for on and off are bad.\\t0', \"Essentially you can forget Microsoft's tech support.\\t0\", 'I really recommend this faceplates since it looks very nice, elegant and cool.\\t1', \"These headphones were a great find - and I think they are perhaps the best purchase I've made in the last several years - seriously.\\t1\", 'Buy a different phone - but not this.\\t0', 'You have to hold the phone at a particular angle for the other party to hear you clearly.\\t0', \"The one big drawback of the MP3 player is that the buttons on the phone's front cover that let you pause and skip songs lock out after a few seconds.\\t0\", 'A week later after I activated it, it suddenly died.\\t0', 'It feels more comfortable than most headsets because I wear glasses and that gets in the way sometimes.\\t1', 'Great for iPODs too.\\t1', 'This device is great in several situations:1.)\\t1', \"Mic Doesn't work.\\t0\", 'Even in my BMW 3 series which is fairly quiet, I have trouble hearing what the other person is saying.\\t0', 'Great choice!\\t1', 'Nice docking station for home or work.\\t1', 'This is a beautiful phone.\\t1', 'Love this product.\\t1', 'Do Not Buy for D807...wrongly advertised for D807.\\t0', 'This is a great little item.\\t1', 'I love this phone , It is very handy and has a lot of features .\\t1', 'I purchased this and within 2 days it was no longer working!!!!!!!!!\\t0', 'I wear it everyday and it holds up very well.\\t1', 'Not a good bargain.\\t0', 'Well packaged, arrived on time, and works as intended.\\t1', 'The battery runs down quickly.\\t0', 'This item worked great, but it broke after 6 months of use.\\t0', 'The headsets are easy to use and everyone loves them.\\t1', 'This phone works great.\\t1', 'The construction of the headsets is poor.\\t0', 'Product was excellent and works better than the verizon one and Boy was it cheaper!\\t1', 'The phone loads super!\\t1', 'For a product that costs as much as this one does, I expect it to work far better and with greater ease than this thing does.\\t0', 'Made very sturdy.\\t1', 'Worked great!.\\t1', 'The ear buds only play music in one ear.\\t0', 'Dont waste your money...\\t0', 'Will order from them again!\\t1', 'If you plan to use this in a car forget about it.\\t0', 'I found this product to be waaay too big.\\t0', \"Best I've found so far .... I've tried 2 other bluetooths and this one has the best quality (for both me and the listener) as well as ease of using.\\t1\", \"I'm very disappointed with my decision.\\t0\", 'Integrated seamlessly with the Motorola RAZR phone.\\t1', 'Buyer Beware, you could flush money right down the toilet.\\t0', 'Definitely a bargain.\\t1', 'The price was very good and with the free shipping and all it was a good purchase.\\t1', 'I received my supposedly new motorola 375 and apparently there was not a match between the phone and the charger.\\t0', 'Pros:-Good camera - very nice pictures , also has cool styles like black and white, and more.\\t1', \"That's a huge design flaw (unless I'm not using it correctly, which I don't think is the case).\\t0\", 'I love my 350 headset.. My Jabra350 bluetooth headset is great, the reception is very good and the ear piece is a comfortable fit.\\t1', 'The camera, although rated at an impressive 1.3 megapixels, renders images that fall well below expectations of such a relatively high resolution.\\t0', 'I purcashed this for the car charger and it does not work.\\t0', 'Sound quality on both end is excellent, I use headset to call my wife and ask my wife to use headset to call me !2.\\t1', 'This phone is slim and light and the display is beautiful.\\t1', 'its a little geeky but i think thats its sex on toast and it rocks and oozes sex right down to its battery embedded sleek stylish leather case.\\t1', 'Great product, fast shipping!.\\t1', 'Absolutely great.\\t1', 'The keyboard is a nice compromise between a full QWERTY and the basic cell phone number keypad.\\t1', \"i got this phone around the end of may and i'm completely unhappy with it.\\t0\", 'It is very comfortable on the ear.\\t1', 'It has been a winner for us.\\t1', \")Setup couldn't have been simpler.\\t1\", \"I've tried several different earpieces for my cell phone and this Jabra one is the first one I've found that fits my ear comfortably.\\t1\", 'Could not get strong enough signal.\\t0', 'Iam very pleased with my purchase.\\t1', 'Bad Quality.\\t0', 'Gets the job done.\\t1', 'Great audio!.\\t1', 'Basically the service was very bad.\\t0', 'it did not work in my cell phone plug i am very up set with the charger!.\\t0', \"I've only had my bluetooth for a few weeks, but I really like it.\\t1\", 'The BT headset was such a disapoinment.\\t0', \"It is so small and you don't even realize that it is there after a while of getting used to it.\\t1\", 'The accompanied software is almost brilliant.\\t1', 'Headset works great & was packaged nicely to avoid any damage.\\t1', '!I definitly recommend!!\\t1', 'Buyer--Be Very Careful!!!!!.\\t0', 'The majority of the Logitech earbud headsets failed.\\t0', 'Very good stuff for the price.\\t1', 'My headset works just peachy-keen.\\t1', 'In my house I was getting dropped coverage upstairs and no coverage in my basement.\\t0', 'Voice recognition is tremendous!\\t1', 'What a waste.\\t0', 'During several different 2 minute calls, I experienced 5 drops and it was in an area that had 5 bars.\\t0', 'I was not happy with this item.\\t0', 'very disappointed.\\t0', 'The phone takes FOREVER to charge like 2 to 5 hours literally.\\t0', \"I got this phone on reccomendation from a relative and I'm glad I did.\\t1\", 'What a waste of time!\\t0', 'Its reception is very very poor.\\t0', 'Items stated as included from the description ARE NOT INCLUDED.\\t0', 'After 3 months, screen just went black all of a sudden.\\t0', 'I Was Hoping for More.\\t0', 'Audio Quality is poor, very poor.\\t0', 'I had absolutely no problem with this headset linking to my 8530 Blackberry Curve!\\t1', \"I know that sounds funny, but to me it seemed like sketchy technology that wouldn't work well.Well, this one works great.\\t1\", \"I've bought $5 wired headphones that sound better than these.\\t0\", 'This phone is very fast with sending any kind of messages and web browsing is significantly faster than previous phones i have used.\\t1', 'Nice quality build, unlike some cheap s*** out there.\\t1', 'This item is fantastic and works perfectly!\\t1', 'And I just love the colors!\\t1', 'W810i is just SUPERB.\\t1', 'All I can do is whine on the Internet, so here it goes.The more I use the thing the less I like it.\\t0', 'Great charger.\\t1', 'This is essentially a communications tool that does not communicate.\\t0', 'Works like a charm; it work the same as the one I got with the phone.\\t1', \"I still maintain that monkeys shouldn't make headphones, we just obviously don't share enough DNA to copy the design over to humans.\\t0\", 'Great Value.\\t1', \"Doesn't work at all.. I bougth it for my L7c and its not working.\\t0\", 'The look of it is very sharp and the screen is nice and clear, with great graphics.\\t1', \"doesn't last long.\\t0\", 'One thing I hate is the mode set button at the side.\\t0', 'EXCELLENT SERVICE!!!!!!!!.\\t1', 'Thank you for wasting my money.\\t0', 'How can that be?The audio quality is poor.\\t0', 'The iGo chargers and tips are really great.\\t1', 'The file browser offers all the options that one needs.Handsfree is great.\\t1', 'Superb Phone on a Great Network.\\t1', \"I connected my wife's bluetooth,(Motorola HS850) to my phone and it worked like a charm whether the phone was in my pocket or the case.\\t1\", 'I put the latest OS on it (v1.15g), and it now likes to slow to a crawl and lock up every once in a while.\\t0', 'It only recognizes the Phone as its storage device.\\t0', 'If you like a loud buzzing to override all your conversations, then this phone is for you!\\t0', \"Don't buy this product.\\t0\", \"I've had this bluetoooth headset for some time now and still not comfortable with the way it fits on the ear.\\t0\", 'The sound quality is good and functionality is awesome.\\t1', 'I have this phone and it is a thorn in my side, I really abhor it.\\t0', 'I recently had problems where I could not stay connected for more than 10 minutes before being disconnected.\\t0', 'Incredible!.\\t1', 'Design Flaw?.\\t0', 'Great phone!.\\t1', 'Waste of 13 bucks.\\t0', \"But when I check voice mail at night, the keypad backlight turns off a few seconds into the first message, and then I'm lost.\\t0\", 'The replacement died in a few weeks.\\t0', 'Any ring tone..Overall good phone to buy..\\t1', 'Lately they have been extremely nice and helpful on the phone.\\t1', 'I have had problems wit hit dropping signal and more.\\t0', 'Not impressed.\\t0', 'Light weight, I hardly notice it is there.\\t1', \"You'll love how thin it is.\\t1\", 'Bad Choice.\\t0', \"The pleather case doesn't fit.\\t0\", 'useless phone, simply deaf.\\t0', 'The color is even prettier than I thought it would be, and the graphics are incredibly sharp.\\t1', 'All in all I think it was a good investment.\\t1', 'It makes very strange ticking noises before it ends the call.\\t0', 'The best electronics of the available FM Transmitters.\\t1', 'Battery lasts only a few hours.\\t0', 'great headset, very impressed - H500.\\t1', 'The \"1.2\" mega pixel camera, being a part of a phone, is reasonably good7.\\t1', \"I've had this for nearly 2 years and it has worked great for me.\\t1\", 'Good transmit audio.\\t1', 'We are sending it back.\\t0', 'I did not bother contacting the company for few dollar product but I learned the lesson that I should not have bought this form online anyway.\\t0', 'If you hate earbugs, avoid this phone by all means.\\t0', 'Great price also!\\t1', \"The range is very decent, I've been able to roam around my house with the phone in the living room with no reception/sound quality issues.\\t1\", 'fast service.\\t1', 'I would highly recommend this.\\t1', 'I would recommend this.\\t1', 'I also didn\\'t like the \"on\" button, it felt like it would crack with use.\\t0', 'WORST PHONE EVER.\\t0', \"I'm still infatuated with this phone.\\t1\", 'Freezes frequently4.\\t0', \"It's kind of embarrassing to use because of how it looks and mostly it's embarrassing how child-like the company is.\\t0\", 'Simple, lightweight and great fit.\\t1', \"All in all, I'd expected a better consumer experience from Motorola.\\t0\", \"There's a horrible tick sound in the background on all my calls that I have never experienced before.\\t0\", 'These are certainly very comfortable and functionality is decent.\\t1', \"I usually don't like headbands but this one is very lightweight & doesn't mess up my hair.\\t1\", \"I'm a bit disappointed.\\t0\", 'I have had this phone for over a year now, and I will tell you, its not that great.\\t0', 'I ordered this for sony Ericsson W810i but I think it only worked once (thats when I first used it).\\t0', 'The battery is completely useless to me.\\t0', 'What a big waste of time.\\t0', \"Don't waste your $$$ on this one.\\t0\", 'Great sound and service.\\t1', 'Really pleased with this product so far.\\t1', 'One of my favorite purchases ever.\\t1', 'best bluetooth on the market.\\t1', 'Authentic leather with nice shine and comfort .I recommend you this case !!\\t1', 'I was very excited to get this headset because I thought it was really cute.\\t1', 'Do not make the same mistake as me.\\t0', 'Big Disappointment with calendar sync.\\t0', 'the phone was unusable and was not new.\\t0', 'Worst Customer Service Ever.\\t0', 'No additional ear gels provided, and no instructions whatsoever.\\t0', 'It defeats the purpose of a bluetooth headset.\\t0', 'Worth every penny.\\t1', 'Excellent wallet type phone case.\\t1', 'Nice headphones for the price and they work great!\\t1', 'Internet is excrutiatingly slow.\\t0', 'It is very comfortable to wear as well, which is probably the most important aspect about using a case.\\t1', \"It's fits like a glove and is strong, secure, and durable.\\t1\", 'O my gosh the best phone I have ever had.\\t1', \"It's very attractive and appears to be of good quality.\\t1\", 'I love all the features and form factor.\\t1', 'This product had a strong rubber/petroleum smell that was unbearable after a while and caused me to return it\\t0', 'poor quality and service.\\t0', 'The cable looks so thin and flimsy, it is scary.\\t0', 'Great Earpiece.\\t1', 'Excellent hands free tool.\\t1', 'Great for using with your home stereo.\\t1', 'Good product - incredible value.\\t1', \"Only had this a month but it's worked flawlessly so far.\\t1\", 'Works great.\\t1', 'Absolutel junk.\\t0', \"THAT one didn't work either.\\t0\", 'Battery life is real good.\\t1', 'Returned 8 hours later.\\t0', \"It's a great item.\\t1\", \"Don't waste your money!.\\t0\", 'Love this headset!\\t1', 'Not only will it drain your player, but may also potentially fry it.\\t0', 'Worked perfectly!\\t1', \"Unreliable - I'm giving up.\\t0\", 'I gave it 5 stars because of the sound quality.\\t1', 'Avoid this one if you can.\\t0', 'Reversible plug works great.\\t1', 'I wasted my little money with this earpiece.\\t0', 'Very good phone.\\t1', 'Best of all is the rotating feature, very helpful.\\t1', 'Comfort for our whole family.\\t1', 'Good product, good seller.\\t1', 'I love this bluetooth!\\t1', \"First of all, it doesn't wear well.\\t0\", 'I am very impressed with this headset from Plantronics.\\t1', 'I got it because it was so small and adorable.\\t1', 'Great phone!.\\t1', \"I wouldn't recommend buying this product.\\t0\", 'Piece of Junk.\\t0', 'Poorly contstruct hinge.\\t0', 'This item is great, installed it, let it charged up overnite and it has been working good every since with no problems\\t1', 'Great Phone.\\t1', \"Don't buy it.\\t0\", 'Excellent Phone.\\t1', 'DO NOT PURCHASE THIS PHONE.\\t0', 'The voice recognition thru the handset is excellent.\\t1', \"This is hands down the best phone I've ever had.\\t1\", 'Works great, when my cat attacked the phone he scratched the protective strip instead of destroying the screen.\\t1', 'This one works and was priced right.\\t1', 'Customer service was terrible.\\t0', 'Battery life still not long enough in Motorola Razor V3i.\\t0', 'Sending it back.\\t0', 'Now I know that I made a wise decision.\\t1', 'Someone shouldve invented this sooner.\\t1', 'Good price.\\t1', 'Everything worked on the first try.The device was certainly engineered in a clever way and the construction feels good.\\t1', 'I received it quickly and it works great!!\\t1', 'Has been working great.\\t1', \"As many people complained, I found this headset's microphone was very weak.\\t0\", 'My 5-year old Nokia 2160 from Tracfone holds the charge a lot better than this.\\t0', 'They do not care about the consumer one bit.\\t0', 'This is a good battery, and it got here really fast.\\t1', 'The instruction manual is lacking.\\t0', 'Also its slim enough to fit into my alarm clock docking station without removing the case.\\t1', 'Phone now holds charge like it did when it was new.\\t1', 'The battery is unreliable as well as the service use antena.\\t0', \"It's uncomfortable and the sound quality is quite poor compared with the phone (Razr) or with my previous wired headset (that plugged into an LG).\\t0\", 'We have gotten a lot of compliments on it.\\t1', 'This is definitely a must have if your state does not allow cell phone usage while driving.\\t1', 'I want my money back.\\t0', 'I love this device.\\t1', 'I am also very happy with the price.\\t1', 'I ordered this product first and was unhappy with it immediately.\\t0', 'The Ngage is still lacking in earbuds.\\t0', 'I was able to do voice dialing in the car with no problem.\\t1', 'I have 2-3 bars on my cell phone when I am home, but you cant not hear anything.\\t0', 'good item, low price.\\t1', 'However-the riingtones are not the best, and neither are the games.\\t0', 'The plug did not work very well.\\t0', 'AMAZON SUCKS.\\t0', 'Rip off---- Over charge shipping.\\t0', 'VERY comfortable.\\t1', 'The battery is working well as a replacement for the original that came with the phone over 2 years ago.\\t1', 'The reception is excellent!\\t1', 'It fits comfortably in either ear, the sound is clear and loud, and the charge lasts a couple of days.\\t1', \"very clear, quality sound and you don't have to mess with the sound on your iPod since you have the sound buttons on the headset.\\t1\", \"1. long lasting battery (you don't have to recharge it as frequentyly as some of the flip phones)2.\\t0\", 'Obviously there is a problem with the adhesive.\\t0', 'Very disappointing.\\t0', 'It was an inexpensive piece, but I would still have expected better quality.\\t0', 'It is practically useless and did not add any kind of boost to my reception after I bought it.\\t0', 'Excellent sound quality.\\t1', 'Was not happy.\\t0', 'A PIECE OF JUNK THAT BROKE AFTER BEING ON MY PHONE FOR 2 DAYS!!!\\t0', 'New Battery works great in phone.\\t1', 'Worst customer service.\\t0', \"I've dropped my phone more times than I can say, even on concrete and my phone is still great (knock on wood!).\\t1\", 'Reception is terrible and full of static.\\t0', 'Good audio quality.\\t1', 'This little device has transformed my organizational capability and made my life a whole lot easier.\\t1', 'I was sitting in my vehicle, with the cradle on my belt, and the headset lost signal.\\t0', 'Were JERKS on the phone.\\t0', 'Works like a charm.. Works as advertised.\\t1', 'Comfortable, Nice Range, Good Battery Life.\\t1', 'Their network coverage in Los Angeles is horrible.\\t0', 'Excellent starter wireless headset.\\t0', 'The loudspeaker option is great, the bumpers with the lights is very ... appealing.\\t0', 'The only thing that I think could improve is the sound leaks out from the headset.\\t0', 'First off the reception sucks, I have never had more than 2 bars, ever.\\t0', 'The phone gets EXTREMELY HOT!\\t0', 'The microphone also works well, but (according to people I have called) it applifies everything.\\t1', 'Nice design and quality.\\t1', 'Also, if your phone is dropped, this case is not going to save it, specially when dropped face down.\\t0', 'It is light, easy to use, and has very clear reception and transmission.\\t1', 'bad fit, way too big.\\t0', 'It definitely was not as good as my S11.\\t1', 'awesome device.\\t1', 'Waste of money.\\t0', 'I had ordered a motorola data cable, got a very well finished and working product.\\t1', 'Love This Phone.\\t1', \"I was looking for this headset for a long time and now that I've got it I couldn't be happier.\\t1\", \"I'll be drivng along, and my headset starts ringing for no reason.\\t0\", 'Display is excellent and camera is as good as any from that year.\\t1', 'Battery life is also great!\\t1', \"The worst phone I've ever had.... Only had it for a few months.\\t0\", 'Not a good item.. It worked for a while then started having problems in my auto reverse tape player.\\t0', 'This is so embarassing and also my ears hurt if I try to push the ear plug into my ear.\\t0', 'Protects the phone on all sides.\\t1', 'This is a VERY average phone with bad battery life that operates on a weak network.\\t0', 'Clear Skype Calls, Long Battery Life, Long Range.\\t1', 'Soyo technology sucks.\\t0', 'Great Hands Free Device.\\t1', 'you can even take self portraits with the outside (exterior) display, very cool.\\t1', 'Same problem as others have mentioned.\\t0', 'After trying many many handsfree gadgets this is the one that finally works well.\\t1', 'Magical Help.\\t1', 'The worst piece of crap ever along with the Verizon customer service.\\t0', 'Poor sound quality.\\t0', 'The best phone in market :).\\t1', 'It worked very well.\\t1', 'The company shipped my product very promptly and it works well.\\t1', 'Exactly what I wanted.\\t1', 'The picture resolution is far below what other comparably-priced phones are offering today.\\t0', 'This is a great deal.\\t1', 'Excellent product, I am very satisfied with the purchase.\\t1', 'I highly recommend these and encourage people to give them a try.\\t1', \"Better than you'd expect.\\t1\", 'Using all earpieces, left or right, this thing will not stay on my ear.\\t0', 'Great product and price.\\t1', 'Sounds good reasonably priced and effective, Its that simple !\\t1', \"Still Waiting...... I'm sure this item would work well.. if I ever recieve it!\\t0\", 'what a disappointment\\t0', 'Very prompt service.\\t1', 'Excellent product for the price.\\t1', 'Very pleased with this headset.\\t1', \"don't waste your money and time.\\t0\", 'I especially love the long battery life.\\t1', \"It's so stupid to have to keep buying new chargers, car chargers, cradles, headphones and car kits every time a new phone comes out.\\t0\", 'Works great.\\t1', 'Plantronics Bluetooth Excelent Buy.\\t1', 'I came over from Verizon because cingulair has nicer cell phones.... the first thing I noticed was the really bad service.\\t0', \"I'll be looking for a new earpiece.\\t0\", 'I highly recommend this device to everyone!\\t1', 'Jawbone Era is awesome too!\\t1', 'We received a WHITE colored battery that goes DEAD after a couple hoursTHe original used to last a week - but still lasts longer than thereplacement\\t0', 'After a year the battery went completely dead on my headset.\\t0', 'I have used several phone in two years, but this one is the best.\\t1', 'An Awesome New Look For Fall 2000!.\\t1', \"This is the first phone I've had that has been so cheaply made.\\t0\", 'Att is not clear, sound is very distorted and you have to yell when you talk.\\t0', 'The plastic breaks really easy on this clip.\\t0', 'Price is good too.\\t1', \"Don't make the same mistake I did.\\t0\", 'Oh and I forgot to also mention the weird color effect it has on your phone.\\t0', \"I'm using it with an iriver SPINN (with case) and it fits fine.\\t1\", \"Also the area where my unit broke).- I'm not too fond of the magnetic strap.\\t0\", 'Overall, I am psyched to have a phone which has all my appointments and contacts in and gets great reception.\\t1', 'every thing on phone work perfectly, she like it.\\t1', \"Another note about this phone's appearance is that it really looks rather bland, especially in the all black model.\\t0\", \"IT'S REALLY EASY.\\t1\", 'My Sanyo has survived dozens of drops on blacktop without ill effect.\\t1', 'Fantastic earphones.\\t1', 'It finds my cell phone right away when I enter the car.\\t1', 'Low Quality.\\t0', 'I highly recommend this modest priced cellular phone.\\t1', \"But it does get better reception and clarity than any phone I've had before.\\t1\", 'Warning - Stay away.\\t0', 'I wish I could return the unit and get back my money.\\t0', 'Awsome Device Works Great!!.\\t1', 'I used to talk on it for 1 - 1 1/2 hours and the battery would be literally drained and dying.\\t0', \"If you don't find it, too bad, as again the unit comes with one earpad only.I would not recommend this to anyone.\\t0\", 'Very Displeased.\\t0', 'I might have gotten a defect, but I would not risk buying it again because of the built quality alone.\\t0', 'They made this case too small and is very difficult to install.\\t0', 'Restored my phone to like new performance.\\t1', 'I would recommend purchasing the Jabra JX-10 series 2 which works flawlessly with my Moto Q, go figure.\\t1', 'I searched the Internet, and found this one to be the best value.\\t1', 'Does not fit.\\t0', 'Very happy with this product.\\t1', 'The screen size is big, key pad lit well enough, and the camera quality is excellent for a camera phone.\\t1', \"There's really nothing bad I can say about this headset.\\t0\", \"i'm glad i found this product on amazon it is hard to find, it wasn't high priced.\\t1\", 'Portable and it works.\\t1', 'My colleague & I now get great reception.A little expensive, but performance is great.\\t1', 'I even fully charged it before I went to bed and turned off blue tooth and wi-fi and noticed that it only had 20 % left in the morning.\\t0', \"I've also had problems with the phone reading the memory card in which I always turn it on and then off again.\\t0\", 'Not good when wearing a hat or sunglasses.\\t0', 'Timely shipment and quality product.\\t1', 'Nice solid keyboard.\\t1', 'Very well made and fits my Surefire GX2 perfectly.\\t1', 'Horrible phone.\\t0', 'BT50 battery junk!.\\t0', 'We would recommend these to others.\\t1', 'Cant get the software to work with my computer.\\t0', 'Disappointed!.\\t0', 'poor voice clarity.\\t0', 'The battery works great!\\t1', 'No buyers remorse on this one!.\\t0', 'Very disappointed in AccessoryOne.\\t0', 'I find this inexcusable and so will probably be returning this phone and perhaps changing carriers.\\t0', 'Looks great and is strong.\"\\t1', 'I have had TMobile service for 2 or 3 years now, and I am pretty happy with it.\\t1', 'The update procedure is difficult and cumbersome.\\t0', 'Disappointment.. I hate anything that goes in my ear.\\t0', 'Great software for Motorolas.\\t1', 'The delivery was on time.\\t1', 'Very easy to use.\\t1', \"Uncomfortable In the Ear, Don't use with LG VX9900 (EnV).\\t0\", 'The volume switch rocketed out of the unit to a destination unknown.\\t0', 'It holds a charge for a long time, is reasonably comfortable under long-wearing conditions and the quality of sound is tremendous.\\t1', \"I'd like to return it.\\t0\", \"The keyboard is really worthwhile in usefulness and is sturdy enough I don't expect any problems.\\t1\", \"Verizon's bills, however, are difficult to understand even though their pricing plans are simple.\\t0\", 'After charging overnight, these batteries work great.\\t1', \"You won't regret it!\\t1\", 'I love this phone!.\\t1', 'A Disappointment.\\t0', 'Its not user friendly.\\t0', 'Unfortunately the ability to actually know you are receiving a call is a rather important feature and this phone is pitiful in that respect.\\t0', 'Then I exchanged for the same phone, even that had the same problem.\\t0', 'This results in the phone being either stuck at max volume or mute.\\t0', 'This PDA rocks.\\t1', 'It is super charged up for use as a small hybrid palmtop/camera/cellphone, and excels in those roles.\\t1', 'I would definitely recommend the Jabra BT250v for those who are looking for comfort, clarity and a great price!\\t1', 'I had Verizon 2 years ago and really liked their service.\\t1', 'Pretty piece of junk.\\t0', 'Plug was the wrong size.\\t0', 'Works as described.\\t1', \"Save your money.... I've had this item for 11 months now.\\t0\", 'Bad Purchase.\\t0', 'WELL IM SATISFIED.\\t1', 'The bose noise cancelling is amazing, which is very important for a NYC commuter.\\t1', 'This battery is an excellent bargain!\\t1', 'Defective crap.\\t0', 'I would have given no star if I was able.\\t0', 'I wear glasses and it fits fine with them.\\t1', 'The sound quality for the device is unacceptable.Unless you are in a really quiet area, you almost hear nothing.\\t0', 'I would not recommend this item to anyone.\\t0', 'The holster that arrived did not match the photo in the ad.\\t0', 'great...no problems at all!.\\t1', 'As an earlier review noted, plug in this charger and nothing happens.\\t0', 'This frog phone charm is adorable and very eye catching.\\t1', 'You never know if you pushed it hard enough or the right number of times for the function you want or not.\\t0', 'The sound is clear and the people I talk to on it are amazed at the quality too.\\t1', 'I got the aluminum case for my new Palm VX and it worked really well--it has protected my handheld perfectly so far.\\t1', 'very good product, well made.\\t1', 'Mobile Phone Tools are a must have.\\t1', 'I am very impressed with the job that Motorola did on the sturdiness of this phone.\\t1', 'I received my orders well within the shipping timeframe, everything was in good working order and overall, I am very excited to have this source.\\t1', 'The phone is sturdy and waterproof.\\t1', 'I am not impressed with this and i would not recommend this item to anyone.\\t0', 'My only complaint is the standard sound volume is a little low even when turned up to 5(of 5)\\t0', 'Thanks again to Amazon for having the things I need for a good price!\\t1', 'I ended up sliding it on the edge of my pants or back pockets instead.\\t1', 'I had to go to a store and bought a new NOKIA phone which is working great.\\t1', 'Works great!.\\t1', 'REALLY UGLY.\\t0', 'horrible, had to switch 3 times.\\t0', 'The noise shield is incrediable.\\t1', 'No real improvement.\\t0', 'Razr Battery - Good buy.\\t1', 'Keep up the good work Amazon!!\\t1', 'They refuse to refund or replace.\\t0', \"Unfortunately it's easy to accidentally activate them with the gentle-touch buttons if you accidentally touch the phone to your face while listening.\\t0\", 'So I basically threw my money out the window for nothing.\\t0', 'Great case and price!\\t1', 'All it took was one drop from about 6 inches above the kitchen counter and it was cracked.I am not impressed and I am not laughing.\\t0', 'Bluetooth range is good - a few days ago I left my phone in the trunk, got a call, and carried the conversation without a hitch.\\t1', 'Small, sleek, impressive looking, practical setup with ample storage in place.\\t1', 'The eargels channel the sound directly into your ear and seem to increase the sound volume and clarity.\\t1', 'none of the new ones have ever quite worked properly.\\t0', 'I am glad I purchased it.\\t1', \"I've missed numerous calls because of this reason.\\t0\", 'Perhaps my phone is defective, but people cannot hear me when I use this.\\t0', \"Don't buy this product.\\t0\", 'sucked, most of the stuff does not work with my phone.\\t0', \"No shifting, no bubbling, no peeling, not even a scratch, NOTHING!I couldn't be more happier with my new one for the Droid.\\t1\", 'Worst software ever used.... If I could give this zero stars I would.\\t0', 'Trying to make a call on these is an exercise in frustration.\\t0', 'The case is a flimsy piece of plastic and has no front or side protection whatsoever.\\t0', 'I own a Jabra Earset and was very happy with it, but the sound quality, especially outgoing, on this is better.\\t1', \"I love the camera, it's really pretty good quality.\\t1\", 'Thank you for such great service.\\t1', 'Its a total package.\\t1', 'The seller is very understanding and patient, I would definitely buy from them again.\\t1', 'I give Wirefly 1 star.I will contact Cingular/AT&T; and inform them of this practice.\\t0', \"It's AGGRAVATING!\\t0\", 'Great product for the price!.\\t1', 'I have purchased these for both family and friends, and all enjoy their clarity and ease of use\\t1', 'Virgin Wireless rocks and so does this cheap little phone!\\t1', \"None of it works, just don't buy it.\\t0\", \"Muddy, low quality sound, and the casing around the wire's insert was poorly super glued and slid off.\\t0\", 'Please dont waste your money.\\t0', \"All in all, I'm quite satisfied with this purchase.\\t1\", \"If you are looking for a good quality Motorola Headset keep looking, this isn't it.\\t0\", 'Yet Plantronincs continues to use the same flawed charger design.\\t0', 'Disapointing Results.\\t0', 'Cumbersome design.\\t0', 'Great it was new packaged nice works good, no problems and it came in less time then I expected!!!!\\t1', 'Great Product.\\t1', \"It's A PIECE OF CRAP!\\t0\", 'My experience was terrible..... This was my fourth bluetooth headset, and while it was much more comfortable than my last Jabra (which I HATED!!!\\t0', 'This fixes all the problems.\\t1', 'Worst ever.\\t0', 'I am very happy\\t1', \"I've had no trouble accessing the Internet, downloading ringtones or performing any of the functions.\\t1\", 'I can barely ever hear on it and am constantly saying \"what?\"\\t0', 'The battery life is highly unacceptable.\\t0', 'That company is a joke.\\t0', 'It does everything the description said it would.\\t1', 'Due to this happening on every call I was forced to stop using this headset.\\t0', 'It works great with a car charger, especially if you cannot plug in two adapters at the same time.\\t1', 'Verizon tech support walked my through a few procedures, none of which worked and I ended up having to do a hard re-set, wiping out all my data.\\t0', 'Voice Quality, Signal Strength, Dropped Calls.\\t0', \"It plays louder than any other speaker of this size; the price is so low that most would think the quality is lacking, however, it's not.\\t1\", 'Better than expected.\\t1', 'It feels poorly constructed, the menus are difficult to navigate, and the buttons are so recessed that it is difficult to push them.\\t0', 'Battery is holding up well.\\t1', \"Also difficult to put on.I'd recommend avoiding this product.\\t0\", \"I only used it two days, and it wasn't always easy to hear with.\\t0\", 'I got the car charger and not even after a week the charger was broken...I went to plug it in and it started smoking.\\t0', 'Sprint - terrible customer service.\\t0', 'Linked to my phone without effort.\\t1', 'THey are so cool!\\t1', 'Easy to use.\\t1', 'Better Than New.\\t1', 'What possesed me to get this junk, I have no idea...\\t0', 'Piece of trash.\\t0', 'A pretty good product.\\t1', 'This is a great phone!.\\t1', 'For the price on Amazon, it is an excellent product, which I would highly recommend.\\t1', \"Their Research and Development division obviously knows what they're doing.\\t1\", 'The real killer is the volume, and of course it breaking.\\t0', 'Those phones are working just fine now.\\t1', 'I am more than happy with this product.\\t1', 'Poor Construction.\\t0', 'This is infuriating.\\t0', 'Overall, I would recommend this phone over the new Walkman.\\t1', 'Sprint charges for this service.\\t0', 'It is cheap, and it feel and look just as cheap.\\t0', 'It fits my ear well and is comfortable on.\\t1', \"It doesn't work in Europe or Asia.\\t0\", \"clipping this to your belt will deffinitely make you feel like 50 cent's up-and-coming.\\t1\", 'I like design and look of Jabra behing the ear headsets and 5020 is pretty comfortible to wear 24 hours a day without pain in the ear.\\t1', 'I was amazed at the quick arrival of the two original lg cell phone batteries and and at a fraction of the price.\\t1', 'the worst phone from samsung...crap..... this crappy Samsung E715.. is the worst i have ever seeen.\\t0', 'the charger worked for about a week and then completely stopped charging my phone.\\t0', 'Poor product.\\t0', 'However I needed some better instructions.\\t0', 'You need two hands to operate the screen.This software interface is decade old and cannot compete with new software designs.\\t0', 'Worked very well paired with a Treo 700w and as a Skype headset on my PC (using a USB Bluetooth transceiver).\\t1', 'Steer clear of this product and go with the genuine Palm replacementr pens, which come in a three-pack.\\t0', 'DO NOT BUY DO NOT BUYIT SUCKS\\t0', 'This is a great product..... sure beats using your fingers!.\\t1', 'Plus, I seriously do not believe it is worth its steep price point.\\t0', \"All the other cases I've tried normally fall apart after a few months but this one seems to be in for the long haul.\\t1\", 'Very Dissapointing Performance.\\t0', \"Don't make the same mistake that I did and please don't buy this phone.\\t0\", \"This phone might well be the worst I've ever had in any brand.\\t0\", 'Case was more or less an extra that I originally put on but later discarded because it scratched my ear.\\t0', 'I recommend iGo to anyone with different brand cell phones/mp3 players in the family.\\t1', \"Don't bother - go to the store.\\t0\", \"I posted more detailed comments under the grey or black phone, but i have the Fire Red and it's a great color!\\t1\", 'I did not have any problem with this item and would order it again if needed.\\t1', 'You get what you pay for I guess.\\t0', 'Not only did the software do a great job of this, I could also make my own ringtones form my existing CDs without an internet connection.\\t1', \"im surprised this is a good quality car charger and there's not much reviews about it.\\t1\", 'These are fabulous!\\t1', 'However, BT headsets are currently not good for real time games like first-person shooters since the audio delay messes me up.\\t0', 'I used bitpim (a free program you can find on the internet)to transfer data to the phone.The price of the cable was excellent.\\t1', 'Disappointing accessory from a good manufacturer.\\t0', 'Performed awful -- muffled, tinny incoming sound and severe echo for those on the other end of the call.\\t0', 'Very wind-resistant.\\t1', 'Obviously they have a terrible customer service, so you get what you pay for.\\t0', 'They do not last forever, but is not overly expensive to replace.Easy to operate and the sound is much better than others I have tried.\\t1', \"I contacted the company and they told me that, although the unit was still under warranty, if I couldn't produce my receipt I was out of luck.\\t0\", 'Linksys should have some way to exchange a bad phone for a refurb unit or something!\\t0', 'Phone is sturdy as all nokia bar phones are.\\t1', 'Great phone.\\t1', 'When I placed my treo into the case, not only was it NOT snug, but there was A LOT of extra room on the sides.\\t0', \"I'm pleased.\\t1\", 'Battery is terrible.\\t0', 'I found the product to be easy to set up and use.\\t1', 'The earpiece on this is too large or too heavy...it keeps falling out of my ear.\\t0', 'Utter crap.. Sound quality is TERRIBLE.\\t0', 'The charger arrived within the promised timeframe, but it did not work.\\t0', \"No ear loop needed, it's tiny and the sound is great.\\t1\", 'Finally, after three or four times the spring of the latch broke and I could not use it any longer on the visor.\\t0', 'The handsfree part works fine, but then the car tries to download the address book, and the Treo reboots.Overall, I still rate this device high.\\t1', 'Talk about USELESS customer service.\\t0', 'It felt too light and \"tinny.\".\\t0', 'This does not fit the Palm Tungsten E2 and it broke the first time I tried to plug it in.\\t0', \"I'm happy about this purchase- good quality and low price.\\t1\", 'I love the look and feel of Samsung flipphones.\\t1', 'Its well-designed and very sharp -- the blue is a very nice color.\\t1', 'Does everything it should and more.\\t1', 'I could not recommend these more.\\t0', 'Nice Sound.\\t1', 'Looks good in the picture, but this case was a huge disappointment!!\\t0', 'Much less than the jawbone I was going to replace it with.\\t1', 'Setup went very smoothly.\\t1', 'its extremely slow and takes forever to do anything with it.\\t0', 'A must study for anyone interested in the \"worst sins\" of industrial design.\\t0', 'The first thing that happened was that the tracking was off.\\t0', 'It is well made, easy to access the phone and has a handy, detachable belt clip.\\t1', 'Then I had to continue pairing it periodically since it somehow kept dropping.\\t0', \"Can't upload ringtones from a third party.\\t0\", 'Bluetooth does not work, phone locks up, screens just flash up and now it just makes calls randomly while in my pocket locked.\\t0', 'Truly awful.\\t0', 'It works fine on my Motorola 325 cellphone, and a lot better than the worn-out battery did.\\t1', 'The volume for the ringer is REAL good (you have choices how loud).\\t1', 'And none of the tones is acceptable.\\t0', 'camera color balance is AWFUL.\\t0', \"This product is clearly not ready for prime time, I don't care how cool it looks, if you can't tell a call is coming in it's worthless.\\t0\", 'I love the ringtones because they are so upbeat!\\t1', 'Chinese Forgeries Abound!.\\t0', 'Easy to pair with my Samsung Cell.\\t1', \"The instructions didn't explain that a microphone jack could be used.\\t0\", 'i would advise to not purchase this item it never worked very well.\\t0', 'Too bad you have to pay up to $$$ a month for the service!\\t0', 'Works well.\\t1', 'The nokia CA-42 USB cable did not work with my phone.\\t0', 'Clear crisp sound.\\t1', 'I have to use the smallest earpieces provided, but it stays on pretty well.\\t1', 'The biggest complaint I have is, the battery drains superfast.\\t0', 'The design might be ergonomic in theory but I could not stand having these in my ear.\\t0', 'Do NOT buy if you want to use the holster.\\t0', 'The phone can also take great pictures and even video clips.\\t1', \"It doesn't make you look cool.\\t0\", 'Because both ears are occupied, background is not distracting at all.\\t1', 'Comfortable fit - you need your headset to be comfortable for at least an hour at a time, if not for an entire day.\\t1', \"Also, the phone doesn't seem to accept anything except CBR mp3s, preferably ripped by Windows Media Player.\\t0\", \"You can't beat the price on these.\\t1\", '* Comes with a strong light that you can use to light up your camera shots, and even flash SOS signals (seriously!\\t1', 'lightweight and works well.\\t1', 'So just beware.\\t0', 'I love this cable - it allows me to connect any mini-USB device to my PC.\\t1', 'So anyone near you will hear part of your conversation.\\t0', 'This is cool because most cases are just open there allowing the screen to get all scratched up.\\t1', 'I bought this phone as a replacement for my StarTac and have regretted it since.\\t0', 'Appears to actually outperform the original battery from China that came with my V325i.\\t1', \"Can't store anything but phone numbers to SIM.\\t0\", 'It lasts less than 3o minutes, if I actually try to use the phone.My wife has the same phone with the same problem.\\t0', 'Poor quality.\\t0', 'jabra ear gels \"R\" the best!.\\t1', 'Not worth it.\\t0', 'The phone crashed completely and now I have to get it replaced.\\t0', \"It quit working after I'd used it for about 18 months, so I just purchased another one because this is the best headset I've ever owned.\\t1\", 'Unfortunately it will not recharge my iPhone 4s, despite connecting it from multiple power sources (iMac, external battery, wall outlet, etc).\\t0', 'It was a great phone.\\t1', 'if you simply want a small flip phone -- look elsewhere as the extra bells & whistles are mediocre.\\t0', 'Good value, works fine - power via USB, car, or wall outlet.\\t1', \"My phone doesn't slide around my car now and the grip prevents my phone from slipping out of my hand.\\t1\", 'This is simply the BEST bluetooth headset for sound quality!\\t1', 'Think it over when you plan to own this one!This sure is the last MOTO phone for me!\\t0', 'In the span of an hour, I had two people exclaim \"Whoa - is that the new phone on TV?!?\\t1', 'I have always used corded headsets and the freedom from the wireless is very helpful.\\t1', 'This case has passed the one year mark and while it shows signs of wear, it is 100% functional.\\t1', 'Other than that, the leather is nice and soft; the fit is very tight; the cut out for the face is a good shape.\\t1', \"It has everything I need and I couldn't ask for more.\\t1\", 'After receiving and using the product for just 2 days it broke.\\t0', 'This product is great... it makes working a lot easier I can go to the copier while waiting on hold for something.\\t1', 'None of the three sizes they sent with the headset would stay in my ears.\\t0', 'T-Mobile has the best customer service anywhere.\\t1', 'Arrived quickly and much less expensive than others being sold.\\t1', 'We have tried 2 units and they both failed within 2 months.. Pros\\t0', 'Provides good protection and looks classy, too.\\t1', 'Krussel Always good.\\t1', 'The tracfonewebsite is user friendly and makes it easy toactivate, etc.\\t1', 'The design is very good.4.\\t1', 'I great reception all the time.\\t1', 'I would highly recommend this product.\\t1', \"Couldn't use the unit with sunglasses, not good in Texas!\\t0\", 'It dit not work most of the time with my Nokia 5320.\\t0', 'Bought mainly for the charger, which broke soon after purchasing.\\t0', 'If you like a loud buzzing to override all your conversations, then this phone is for you!\\t0', 'Fantastic buy and will get again for whatever my next phone is\\t1', 'stay away from this store, be careful.\\t0', 'This BlueAnt Supertooth hands-free phone speaker is AWESOME.\\t1', 'Does not fit.\\t0', '.... Item arrived quickly and works great with my Metro PCS Samsung SCH-r450 slider phone and Sony Premium Sound in ear plugs.\\t1', 'It is light, has plenty of battery capacity, and is very confortable to wear for somewhat extended periods of time.\\t1', 'disappointing.\\t0', 'Blue Ant is easy to use.\\t1', 'Cheap but hey it works.. Was pleasantly suprised given the low cost of this item.\\t1', \"The camera on the phone may be used as a dustpan when indoors... I'd rather be using a disposable then this.\\t0\", 'Then a few days later the a puff of smoke came out of the phone while in use.\\t0', \"It's very convenient and simple to use - gets job done & makes the car ride so much smoother.\\t1\", 'The nano stated it.My son was dissapointed.\\t0', 'The sound quality is excellent as well.\\t1', 'Its the best headset I have used.\\t1', 'Would not reccommend.\\t0', 'They have been around for years and carries the highest quality of anti-glare screen protector that I have found to date.\\t1', 'Just what I wanted.\\t1', 'This particular model would not work with my Motorola Q smartphone.\\t0', 'wont work right or atleast for me.\\t0', 'in addition it feels &amp; looks as if the phone is all lightweight cheap plastic.\\t0', 'But now that it is \"out of warranty\" the same problems reoccure.Bottom line... put your money somewhere else... Cingular will not support it.\\t0', 'I really wanted the Plantronics 510 to be the right one, but it has too many issues for me.The good\\t0', 'Great product.\\t1', 'Crisp and Clear.\\t1', 'AFter the first charge kept going dead after 12 minutes.\\t0', 'VERY cheap plastic, creaks like an old wooden floor.\\t0', 'I get absolutely horrible reception in my apartment, where with other phones I have not had this problem.\\t0', 'The reception has been generally good.\\t1', 'Excellent sound, battery life and inconspicuous to boot!.\\t1', 'Great bluetooth!.\\t1', 'I highly recommend this case.\\t1', 'WORTHWHILE.\\t1', 'This is a great deal.\\t1', \"After my phone got to be about a year old, it's been slowly breaking despite much care on my part.\\t0\", 'I am sorry I made this purchase.\\t0', 'I bought these hoping I could make my Bluetooth headset fit better but these things made it impossible to wear.\\t0', 'Treo and T-Mobile refused to replace it again and forced me to buy another phone without any kind of upgrade discount.\\t0', 'It was horrible!.\\t0', \"I don't think it would hold it too securly on your belt.\\t0\", 'This allows the possibility of double booking for the same date and time after the first.\\t0', 'They work about 2 weeks then break.\\t0', 'It is simple to use and I like it.\\t1', \"It's a great tool for entertainment, communication, and data management.Oh, be sure to use ActiveSync 4.2 for optimal data synchronization results!\\t1\", \"I can't use this case because the smell is disgusting.\\t0\", 'NOT WHAT I WANTED.\\t0', 'I own 2 of these cases and would order another.\\t1', 'Great Phone.\\t1', \"I bought this battery with a coupon from Amazon and I'm very happy with my purchase.\\t1\", 'The internet access was fine, it the rare instance that it worked.\\t0', 'Perfect for the PS3.\\t1', 'Five star Plus, plus.\\t1', \"A good quality bargain.. I bought this after I bought a cheapy from Big Lots that sounded awful and people on the other end couldn't hear me.\\t1\", '$50 Down the drain.\\t0', \"I tried talking real loud but shouting on the telephone gets old and I was still told it wasn't great.\\t0\", 'Good , works fine.\\t1', 'For the price this was a great deal.\\t1', 'Great price, too!\\t1', 'If there is a wind, it is completely useless.\\t0', \"Yes it's shiny on front side - and I love it!\\t1\", 'Does Not Work.\\t0', 'At first I thought I was grtting a good deal at $7.44, until I plugged it into my phone (V3c Razr).\\t0', 'The reception through this headset is excellent.\\t1', '2 thumbs up to this seller\\t1', 'I have a Verizon LG phone and they work well together, good reception and range that exceeds 20 feet line of sight.\\t1', 'Improper description.... I had to return it.\\t0', '#1 It Works - #2 It is Comfortable.\\t1', 'Battery charge-life is quite long.\\t1', 'The Jabra EarGels fit my ears very well.\\t1', 'Battery has no life.\\t0', 'I checked everywhere and there is no feature for it which is really disappointing.\\t0', 'Product is exactly as described.\\t1', \"Gets a signal when other Verizon phones won't.\\t1\", \"Doesn't do the job.\\t0\", 'I would recommend it.\\t1', 'Plan on ordering from them again and again.\\t1', 'That being said, for a phone, the camera is very nice; many cool effects to play with, and video is decent as well.\\t1', 'I have been very satisfied with this cell phone from day one.\\t1', \"They keep getting better and better (this is my third one and I've had numerous Palms too).\\t1\", 'Awkward to use and unreliable.\\t0', 'The shipping time was also very quick!\\t1', 'Not as good as I had hoped.\\t0', 'Good case!.\\t1', \"Doesn't Work.\\t0\", 'Really good product.\\t1', 'Unfortunately it did not work.\\t0', 'All three broke within two months of use.\\t0', 'dont buy it.\\t0', 'My father has the V265, and the battery is dying.\\t0', 'However, the ear pads come off easily and after only one week I lost one.\\t0', 'The calls drop, the phone comes on and off at will, the screen goes black and the worst of all it stops ringing intermittently.\\t0', 'Horrible, horrible protector.\\t0', \"I don't like this Nokia either.\\t0\", 'Reaching for the bottom row is uncomfortable, and the send and end keys are not where I expect them to be.3.\\t0', 'I have bought this Nokia cell phone a few weeks ago and it was a nightmare.\\t0', 'It would take too long to describe how bad my customer service experience has been with Amazon.\\t0', 'the only VERY DISAPPOINTING thing was there was NO SPEAKERPHONE!!!!\\t0', 'Terrible.. My car will not accept this cassette.\\t0', 'Product is useless, since it does not have enough charging current to charge the 2 cellphones I was planning to use it with.\\t0', \"It's not what it says it is.\\t0\", 'Stay Away From the Q!.\\t0', 'Used and dirty.\\t0', 'Very unreliable service from T-mobile !\\t0', 'Not good enough for the price.\\t0', 'I bought two of them and neither will charge.\\t0', 'It looks very nice.\\t1', \"This is an excellent tool, especially when paired with your phone's auto-answer.\\t1\", \"I have read other's reviews here but I haven't had any problem with it.\\t1\", 'These products cover up the important light sensor above the ear outlet.\\t0', 'Comfortable in my hand.\\t1', 'Just does not work.\\t0', 'Poor Reliability.\\t0', '(It works!)\\t1', 'If I take a picture, the battery drops a bar, and starts beeping, letting me know its dieing.\\t0', 'Terrible product, and waste of money!\\t0', 'Last time buying from you.\\t0', 'It was a waste of my money.\\t0', 'So far it has worked like a charm.\\t1', 'I have only had it for a few weeks, but so far, so good.\\t1', 'But, in any case, the best part is, you can download these pictures to your laptop using IR, or even send pictures from your laptop to the phone.\\t1', 'Would recommend this item.\\t1', \"It's been my choice headset for years.Great sound; good volume; good noise cancellation.\\t1\", 'Nice case, feels good in your hands.\\t1', 'The item received was Counterfeit.\\t0', 'Just really good.. So far, probably the best BT headset I have ever had.\\t1', 'Works fine.\\t1', 'I received my headset in good time and was happy with it.\\t1', 'I was very pleased to see that I could replace my well travled swivel holster for my Blackberry flip.\\t1', 'My sister has one also and she loves it.\\t1', 'Good Quality.\\t1', \"This is by far the worst purchase I've made on Amazon.\\t0\", 'Excellent dual-purpose headset.\\t1', 'Excellent!.\\t1', 'Does not work for listening to music with the cingular 8125.\\t0', 'It seems completely secure, both holding on to my belt, and keeping the iPhone inside.\\t1', 'The bottowm line...another worthless, cheap gimmick from Sprint.\\t0', 'Having trouble with volume.\\t0', 'The only good thing was that it fits comfortably on small ears.\\t1', 'WARNING - DO NOT BUY!!.\\t0', 'I am pairing this with my iphone, and I could not be happier with it so far.\\t1', 'When it opens, the battery connection is broken and the device is turned off.\\t0', \"I didn't want the clip going over the top of my ear, causing discomfort.\\t0\", 'Best headset ever!!!.\\t1', \"Don't trust their website and don't expect any helpful support.\\t0\", 'It was that loud.Glad to say that the Plantronics 510 maintains a flawless connection to my cell and with no static during normal use.\\t1', 'The speaker is of low quality so as making the ring tones sound very cheap.\\t0', 'Fits comfortably, came with three sizes of earbud tips.\\t1', 'Excellent product for the price.\\t1', 'Bad Reception.\\t0', 'This product is very High quality Chinese CRAP!!!!!!\\t0', 'It was quite comfortable in the ear.\\t1', 'Great phone.\\t1', \"Don't buy this product - It fails!.\\t0\", 'Everything about this product is wrong.First\\t0', 'The pairing of the two devices was so easy it barely took a couple minutes before I started making calls with the voice dialing feature.\\t1', 'This was utterly confusing at first, which caused me to lose a couple of very, very important contacts.\\t0', 'Terrible phone holder.\\t0', 'The cutouts and buttons are placed perfectly.\\t1', 'I love being able to use one headset for both by land-line and cell.\\t1', 'Problem is that the ear loops are made of weak material and break easily.\\t0', 'Not nearly as good looking as the AMAZON picture makes it look.\\t0', 'But despite these few flaws, this case is of exceptional quality and well worth the additional costs of owning an official OEM product.\\t1', 'How stupid is that?\\t0', \"I can hear while I'm driving in the car, and usually don't even have to put it on it's loudest setting.\\t1\", 'Seller shipped quickly and much cheaper than the competitors.\\t1', 'Good show, Samsung.\\t1', 'So I bought about 10 of these and saved alot of money.\\t1', 'It always cuts out and makes a beep beep beep sound then says signal failed.\\t0', \"Couldn't figure it out\\t0\", \"My phone sounded OK ( not great - OK), but my wife's phone was almost totally unintelligible, she couldn't understand a word being said on it.\\t0\", 'So I had to take the battery out of the phone put it all back together and then restart it.\\t0', 'While I managed to bend the leaf spring back in place, the metal now has enough stress that it will break on the next drop.\\t0', 'Leopard Print is wonderfully wild!.\\t1', 'Works for me.\\t1', 'Saggy, floppy piece of junk.\\t0', 'much better than the hard plastic cases.\\t1', 'It also had a new problem.\\t0', 'Happy so far!.\\t1', 'cool phone.\\t1', 'Works good.\\t1', 'Motorola finally got the voice quality of a bluetooth headset right.\\t1', 'It looses connection to the phone even when it is within a couple feet between the two.\\t0', 'but it is great, i would really recommend it\\t1', \"Makes it easier to keep up with my bluetooth when I'm not wearing it.\\t0\", 'As I said above....PRETTY USELESS!\\t0', 'Never got it!!!!!\\t0', 'This pair of headphones is the worst that I have ever had sound-wise.\\t0', '[...] down the drain because of a weak snap!\\t0', 'Does not charge the Cingular (ATT) 8525 phone.\\t0', 'You get extra minutes so that you can carry out the call and not get cut off.\"\\t1', \"However, after about a year, the fliptop started to get loose and wobbly and eventually my screen went black and I couldn't receive and place calls.\\t0\", 'I kept catching the cable on the seat and I had to pull the phone out to turn it on an off.\\t0', 'The headset fulfills my requirements so I am happy with my purchase.\\t1', 'Logitech Bluetooth Headset is a 10!.\\t1', 'I like the fact that it rests lightly against your ear, rather than inside.\\t1', 'A lot of websites have been rating this a very good phone and so do I.\\t1', 'I have tried these cables with my computer and my iPod and it works just fine.\\t1', 'The mic there is a joke, and the volume is quite low.\\t0', \"I'm returning them.\\t0\", 'I does not maintain a connection with the computer while it is on my lap.\\t0', 'It is easy to turn on and off when you are in the car and the volume controls are quite accessable.\\t1', 'I have had mine for about a year and this Christmas I bought some for the rest of the family.\\t1', 'Otherwise, easy to install and use, clear sound.\\t1', 'nice leather.\\t1', 'I had to purchase a different case.\\t0', 'It is a joy to use.\\t1', 'Very much disappointed with this company.\\t0', 'Very satisifed with that.\\t1', \"It didn't charge for me.\\t0\", 'This is the phone to get for 2005.... I just bought my S710a and all I can say is WOW!\\t1', 'Buttons are too small.\\t0', 'Just reading on the specs alone makes you say WOW.\\t1', 'Love it.. Great armband.\\t1', 'I really like this product over the Motorola because it is allot clearer on the ear piece and the mic.\\t1', 'However, the keypads are so tinny that I sometimes reach the wrong buttons.\\t0', \"I exchanged the sony ericson z500a for this and I'm pretty happy with that decision.\\t1\", 'I was very impressed with the price of the cases.\\t1', 'Also makes it easier to hold on to.\\t1', 'I use this product in a motor control center where there is a lot of high voltage humming from the equipment, and it works great!\\t1', \"It's pretty easy.\\t1\", 'I cannot make calls at certain places.\\t0', \"however, my girl was complain that some time the phone doesn't wake up like normal phone does.\\t0\", 'Beautiful styling though.\\t1', 'This company charge me a restocking fee and still not given me my refund back.\\t0', \"I'm trying to return it for a refund.\\t0\", 'I plugged it in only to find out not a darn thing worked.\\t0', 'Excellent product.\\t1', 'Earbud piece breaks easily.\\t0', 'Lousy product.\\t0', \"This phone tries very hard to do everything but fails at it's very ability to be a phone.\\t0\", 'It is the best charger I have seen on the market yet.\\t1', 'SWEETEST PHONE!!!\\t1', ':-)Oh, the charger seems to work fine.\\t1', 'It fits so securely that the ear hook does not even need to be used and the sound is better directed through your ear canal.\\t1', 'Not enough volume.\\t0', 'Echo Problem....Very unsatisfactory\\t0', 'you could only take 2 videos at a time and the quality was very poor.\\t0', \"don't waste your money.\\t0\", 'I am going to have to be the first to negatively review this product.\\t0', 'Adapter does not provide enough charging current.\\t0', 'There was so much hype over this phone that I assumed it was the best, my mistake.\\t0', 'You also cannot take pictures with it in the case because the lense is covered.\\t0', 'Phone falls out easily.\\t0', \"It didn't work, people can not hear me when I talk.\\t0\", 'The text messaging feature is really tricky to use.\\t0', \"I'm really disappointed all I have now is a charger that doesn't work.\\t0\", 'Painful on the ear.\\t0', 'Lasted one day and then blew up.\\t0', 'disappointed.\\t0', 'Kind of flops around.\\t0', 'The screen does get smudged easily because it touches your ear and face.\\t0', 'What a piece of junk.. I lose more calls on this phone.\\t0', 'Item Does Not Match Picture.\\t0', 'The only thing that disappoint me is the infra red port (irda).\\t0', 'You can not answer calls with the unit, never worked once!\\t0', '']\n"
          ],
          "name": "stdout"
        }
      ]
    },
    {
      "cell_type": "code",
      "metadata": {
        "id": "shOiwinVWZno",
        "colab_type": "code",
        "outputId": "eb127c75-26af-422c-b2b9-db0677a670e3",
        "colab": {
          "base_uri": "https://localhost:8080/",
          "height": 34
        }
      },
      "source": [
        "sentences = []\n",
        "for line in data1:\n",
        "  l = line.split('\\t')\n",
        "  sentence = l[0]\n",
        "  sentences.append(sentence)\n",
        "for line in data2:\n",
        "  l = line.split('\\t')\n",
        "  sentence = l[0]\n",
        "  sentences.append(sentence)\n",
        "print(len(sentences))\n"
      ],
      "execution_count": 4,
      "outputs": [
        {
          "output_type": "stream",
          "text": [
            "2002\n"
          ],
          "name": "stdout"
        }
      ]
    },
    {
      "cell_type": "code",
      "metadata": {
        "id": "cjIe4Q8Fnctg",
        "colab_type": "code",
        "outputId": "00a8fa86-1967-45cc-adf5-15e5a1284f94",
        "colab": {
          "base_uri": "https://localhost:8080/",
          "height": 34
        }
      },
      "source": [
        "s = []\n",
        "with open('/content/ara_eng.txt', 'r') as text:\n",
        "  s = text.read().split('\\n')\n",
        "print(len(s))"
      ],
      "execution_count": 5,
      "outputs": [
        {
          "output_type": "stream",
          "text": [
            "24639\n"
          ],
          "name": "stdout"
        }
      ]
    },
    {
      "cell_type": "code",
      "metadata": {
        "id": "FyTVwAyfNmbe",
        "colab_type": "code",
        "outputId": "0e4882b4-e1cc-4f04-cd90-bee0f05e75f8",
        "colab": {
          "base_uri": "https://localhost:8080/",
          "height": 54
        }
      },
      "source": [
        "for line in s:\n",
        "  sentence = line.split('\\t')[0]\n",
        "  if ' ' in sentence:\n",
        "    sentences.append(sentence)\n",
        "print(sentences[2052:2065])"
      ],
      "execution_count": 6,
      "outputs": [
        {
          "output_type": "stream",
          "text": [
            "['I got it.', 'I got it.', 'I use it.', \"I'll pay.\", \"I'm busy.\", \"I'm busy.\", \"I'm cold.\", \"I'm free.\", \"I'm here.\", \"I'm home.\", \"I'm poor.\", \"I'm rich.\", 'It hurts.']\n"
          ],
          "name": "stdout"
        }
      ]
    },
    {
      "cell_type": "code",
      "metadata": {
        "id": "NLpsovjiMLQm",
        "colab_type": "code",
        "colab": {
          "base_uri": "https://localhost:8080/",
          "height": 348,
          "referenced_widgets": [
            "debb95836d7b445380f72f722b6ecf94",
            "51041e0d7848431d9dd7385d0e2b0f23",
            "374359a5e94f427b9fa96e8b1fba7f66",
            "60ebc4e0f3d442a1bd5269875755d20e",
            "9e124aaebf2c434badbcb77167d5d2f0",
            "fb867d034f4e4c26ba55b9be03efb6c5",
            "8f0a9363ec9c4321b15f1eeb2c7b4180",
            "aa07456b293a42ffbd10229bc7efdbf5",
            "378b3d8488e548269b97c962b6b99ec2",
            "9f5865556e614578a555e6d7d29d7036",
            "20b6de62345343c3a299009ac4f3f8d6",
            "7396ff71c0c5482abb49b3feff1d6644",
            "d513e0b21329486dbe9e99f1cdd92171",
            "9aeddd6735b44973be8af873ca487f76",
            "0034d1fa3b2946a590e256dd94eea687",
            "b63686d1c5a44665bc2616a6d1b3f17b",
            "fadfa3876fad43b797e4d5fcd6f97b80",
            "657cd3cf06d0438a94011d0d92f1acbe",
            "de9e98be31744cf9a997b5ec848940db",
            "de830e6b5bf749c08f059dcd342ef628",
            "cc92ecf914d9491d9f54a25446d9d020",
            "b4eabbf447e54d8d805e7665573882db",
            "bc5ef98cfc784f1fa2ab196136c01ad6",
            "8fce6bc8076048bc9e8746feddb96dd7",
            "72cff0e4beff46e9bec78bc85b2d5576",
            "35225c7fe2574e5bb69ce6d46b7fdeb6",
            "3eadfe736c264b7c8b51a4711c1e4e37",
            "969f0c3fa7564b24a57ec8346b005f53",
            "41b1aceed8fc427b9f8cc6f1f5524a6b",
            "f3c7c5f843b548b696057d087578e8e0",
            "70284fbcf08443a2bdb79bfc35008fc1",
            "ab21f66ff3884401901af26ab6fc0a3b",
            "34de85e0e16f413b99c40345c00858e6",
            "4f7a17760d1e4ecfaa62b4b967fba3a6",
            "1eac281b0eb64706a0b30c4a0a82cbd6",
            "37eac1aa79084dabb3b3cf398cb442c0",
            "8382252cb4b44d8bb501f01f48c98c02",
            "7e700506829947d59845f66761947e1b",
            "88246479a5f540cab2123e1a478ff99b",
            "2b4af547d1864d18bb6575ea728b63d3",
            "10d569f7feec44768bb1c12bbe86b3e9",
            "6bb18a3bdb0b4f50b4c47467069f6376",
            "d8e71f912fde4166840fd0635d0f3825",
            "5f7eeed5f22246aeb040d5d50d982cb5",
            "97681fbe92024cc892861a60813c7192",
            "de08273c32ed4bd49ea2cedec8926583",
            "b986fd8338ab44a48c00724d755d7991",
            "3554138d1dee4521b49c852f4e8d8371",
            "1b4d33da6c3149e3af7ccb0a0a7b0e62",
            "b33e49d8deff4ce8ab0ff96187d712b9",
            "2c5d1a3965df41ab9284eaa9c96e9e3c",
            "9eceb9b52914474f9faf0eb0a8b6b2b8",
            "c3a10ccb6c3346738a6d245c81cddfaa",
            "b5c48c38f8a04b9babf561a6e1f07443",
            "fe3a72a3fbec4a019736ba5897059a9f",
            "6f7c25ed9c29415a94ca63d24c06d685",
            "e7cf1b4ce36149e2bfc1e1243ce517c9",
            "4322d2bffd56499695dd27504241f132",
            "0c7c4cee565e4389a0f1947084f991c7",
            "ba66e9c92f4945069c938757915481c4",
            "b66466ef16f14dcdbd276c3c3b515a40",
            "38c4c83dc244458fb83ff8d2d262332c",
            "05ebef4754884633a7697fe68959b48c",
            "eec0dfb3bf7e4c1582e4f1a1e1b45626"
          ]
        },
        "outputId": "edd16939-4c27-4a45-fc9e-78438f189e78"
      },
      "source": [
        "import tensorflow_datasets as tfds\n",
        "imdb, info = tfds.load('imdb_reviews', with_info = True, as_supervised = True)"
      ],
      "execution_count": 7,
      "outputs": [
        {
          "output_type": "stream",
          "text": [
            "\u001b[1mDownloading and preparing dataset imdb_reviews/plain_text/1.0.0 (download: 80.23 MiB, generated: Unknown size, total: 80.23 MiB) to /root/tensorflow_datasets/imdb_reviews/plain_text/1.0.0...\u001b[0m\n"
          ],
          "name": "stdout"
        },
        {
          "output_type": "display_data",
          "data": {
            "application/vnd.jupyter.widget-view+json": {
              "model_id": "debb95836d7b445380f72f722b6ecf94",
              "version_minor": 0,
              "version_major": 2
            },
            "text/plain": [
              "HBox(children=(FloatProgress(value=1.0, bar_style='info', description='Dl Completed...', max=1.0, style=Progre…"
            ]
          },
          "metadata": {
            "tags": []
          }
        },
        {
          "output_type": "display_data",
          "data": {
            "application/vnd.jupyter.widget-view+json": {
              "model_id": "378b3d8488e548269b97c962b6b99ec2",
              "version_minor": 0,
              "version_major": 2
            },
            "text/plain": [
              "HBox(children=(FloatProgress(value=1.0, bar_style='info', description='Dl Size...', max=1.0, style=ProgressSty…"
            ]
          },
          "metadata": {
            "tags": []
          }
        },
        {
          "output_type": "stream",
          "text": [
            "\n",
            "\n",
            "\n",
            "\n"
          ],
          "name": "stdout"
        },
        {
          "output_type": "display_data",
          "data": {
            "application/vnd.jupyter.widget-view+json": {
              "model_id": "fadfa3876fad43b797e4d5fcd6f97b80",
              "version_minor": 0,
              "version_major": 2
            },
            "text/plain": [
              "HBox(children=(FloatProgress(value=1.0, bar_style='info', max=1.0), HTML(value='')))"
            ]
          },
          "metadata": {
            "tags": []
          }
        },
        {
          "output_type": "stream",
          "text": [
            "\rShuffling and writing examples to /root/tensorflow_datasets/imdb_reviews/plain_text/1.0.0.incomplete4UAAH1/imdb_reviews-train.tfrecord\n"
          ],
          "name": "stdout"
        },
        {
          "output_type": "display_data",
          "data": {
            "application/vnd.jupyter.widget-view+json": {
              "model_id": "72cff0e4beff46e9bec78bc85b2d5576",
              "version_minor": 0,
              "version_major": 2
            },
            "text/plain": [
              "HBox(children=(FloatProgress(value=0.0, max=25000.0), HTML(value='')))"
            ]
          },
          "metadata": {
            "tags": []
          }
        },
        {
          "output_type": "stream",
          "text": [
            "\r"
          ],
          "name": "stdout"
        },
        {
          "output_type": "display_data",
          "data": {
            "application/vnd.jupyter.widget-view+json": {
              "model_id": "34de85e0e16f413b99c40345c00858e6",
              "version_minor": 0,
              "version_major": 2
            },
            "text/plain": [
              "HBox(children=(FloatProgress(value=1.0, bar_style='info', max=1.0), HTML(value='')))"
            ]
          },
          "metadata": {
            "tags": []
          }
        },
        {
          "output_type": "stream",
          "text": [
            "\rShuffling and writing examples to /root/tensorflow_datasets/imdb_reviews/plain_text/1.0.0.incomplete4UAAH1/imdb_reviews-test.tfrecord\n"
          ],
          "name": "stdout"
        },
        {
          "output_type": "display_data",
          "data": {
            "application/vnd.jupyter.widget-view+json": {
              "model_id": "10d569f7feec44768bb1c12bbe86b3e9",
              "version_minor": 0,
              "version_major": 2
            },
            "text/plain": [
              "HBox(children=(FloatProgress(value=0.0, max=25000.0), HTML(value='')))"
            ]
          },
          "metadata": {
            "tags": []
          }
        },
        {
          "output_type": "stream",
          "text": [
            "\r"
          ],
          "name": "stdout"
        },
        {
          "output_type": "display_data",
          "data": {
            "application/vnd.jupyter.widget-view+json": {
              "model_id": "1b4d33da6c3149e3af7ccb0a0a7b0e62",
              "version_minor": 0,
              "version_major": 2
            },
            "text/plain": [
              "HBox(children=(FloatProgress(value=1.0, bar_style='info', max=1.0), HTML(value='')))"
            ]
          },
          "metadata": {
            "tags": []
          }
        },
        {
          "output_type": "stream",
          "text": [
            "\rShuffling and writing examples to /root/tensorflow_datasets/imdb_reviews/plain_text/1.0.0.incomplete4UAAH1/imdb_reviews-unsupervised.tfrecord\n"
          ],
          "name": "stdout"
        },
        {
          "output_type": "display_data",
          "data": {
            "application/vnd.jupyter.widget-view+json": {
              "model_id": "e7cf1b4ce36149e2bfc1e1243ce517c9",
              "version_minor": 0,
              "version_major": 2
            },
            "text/plain": [
              "HBox(children=(FloatProgress(value=0.0, max=50000.0), HTML(value='')))"
            ]
          },
          "metadata": {
            "tags": []
          }
        },
        {
          "output_type": "stream",
          "text": [
            "\u001b[1mDataset imdb_reviews downloaded and prepared to /root/tensorflow_datasets/imdb_reviews/plain_text/1.0.0. Subsequent calls will reuse this data.\u001b[0m\n"
          ],
          "name": "stdout"
        }
      ]
    },
    {
      "cell_type": "code",
      "metadata": {
        "id": "FjUlDK6cMuAs",
        "colab_type": "code",
        "colab": {}
      },
      "source": [
        "sent = []\n",
        "for se,l in imdb['train']:\n",
        "  sent.append(str(se.numpy()))\n",
        "for se, l in imdb['test']:\n",
        "  sent.append(str(se.numpy()))\n"
      ],
      "execution_count": 0,
      "outputs": []
    },
    {
      "cell_type": "code",
      "metadata": {
        "id": "C44Fkw-fSdgZ",
        "colab_type": "code",
        "outputId": "a3864bfa-f92a-4953-9ba3-0c0a5dac4333",
        "colab": {
          "base_uri": "https://localhost:8080/",
          "height": 54
        }
      },
      "source": [
        "print(sent[:53])"
      ],
      "execution_count": 9,
      "outputs": [
        {
          "output_type": "stream",
          "text": [
            "['b\"This was an absolutely terrible movie. Don\\'t be lured in by Christopher Walken or Michael Ironside. Both are great actors, but this must simply be their worst role in history. Even their great acting could not redeem this movie\\'s ridiculous storyline. This movie is an early nineties US propaganda piece. The most pathetic scenes were those when the Columbian rebels were making their cases for revolutions. Maria Conchita Alonso appeared phony, and her pseudo-love affair with Walken was nothing but a pathetic emotional plug in a movie that was devoid of any real meaning. I am disappointed that there are movies like this, ruining actor\\'s like Christopher Walken\\'s good name. I could barely sit through it.\"', \"b'I have been known to fall asleep during films, but this is usually due to a combination of things including, really tired, being warm and comfortable on the sette and having just eaten a lot. However on this occasion I fell asleep because the film was rubbish. The plot development was constant. Constantly slow and boring. Things seemed to happen, but with no explanation of what was causing them or why. I admit, I may have missed part of the film, but i watched the majority of it and everything just seemed to happen of its own accord without any real concern for anything else. I cant recommend this film at all.'\", \"b'Mann photographs the Alberta Rocky Mountains in a superb fashion, and Jimmy Stewart and Walter Brennan give enjoyable performances as they always seem to do. <br /><br />But come on Hollywood - a Mountie telling the people of Dawson City, Yukon to elect themselves a marshal (yes a marshal!) and to enforce the law themselves, then gunfighters battling it out on the streets for control of the town? <br /><br />Nothing even remotely resembling that happened on the Canadian side of the border during the Klondike gold rush. Mr. Mann and company appear to have mistaken Dawson City for Deadwood, the Canadian North for the American Wild West.<br /><br />Canadian viewers be prepared for a Reefer Madness type of enjoyable howl with this ludicrous plot, or, to shake your head in disgust.'\", \"b'This is the kind of film for a snowy Sunday afternoon when the rest of the world can go ahead with its own business as you descend into a big arm-chair and mellow for a couple of hours. Wonderful performances from Cher and Nicolas Cage (as always) gently row the plot along. There are no rapids to cross, no dangerous waters, just a warm and witty paddle through New York life at its best. A family film in every sense and one that deserves the praise it received.'\", 'b\\'As others have mentioned, all the women that go nude in this film are mostly absolutely gorgeous. The plot very ably shows the hypocrisy of the female libido. When men are around they want to be pursued, but when no \"men\" are around, they become the pursuers of a 14 year old boy. And the boy becomes a man really fast (we should all be so lucky at this age!). He then gets up the courage to pursue his true love.\\'', 'b\"This is a film which should be seen by anybody interested in, effected by, or suffering from an eating disorder. It is an amazingly accurate and sensitive portrayal of bulimia in a teenage girl, its causes and its symptoms. The girl is played by one of the most brilliant young actresses working in cinema today, Alison Lohman, who was later so spectacular in \\'Where the Truth Lies\\'. I would recommend that this film be shown in all schools, as you will never see a better on this subject. Alison Lohman is absolutely outstanding, and one marvels at her ability to convey the anguish of a girl suffering from this compulsive disorder. If barometers tell us the air pressure, Alison Lohman tells us the emotional pressure with the same degree of accuracy. Her emotional range is so precise, each scene could be measured microscopically for its gradations of trauma, on a scale of rising hysteria and desperation which reaches unbearable intensity. Mare Winningham is the perfect choice to play her mother, and does so with immense sympathy and a range of emotions just as finely tuned as Lohman\\'s. Together, they make a pair of sensitive emotional oscillators vibrating in resonance with one another. This film is really an astonishing achievement, and director Katt Shea should be proud of it. The only reason for not seeing it is if you are not interested in people. But even if you like nature films best, this is after all animal behaviour at the sharp edge. Bulimia is an extreme version of how a tormented soul can destroy her own body in a frenzy of despair. And if we don\\'t sympathise with people suffering from the depths of despair, then we are dead inside.\"', 'b\\'Okay, you have:<br /><br />Penelope Keith as Miss Herringbone-Tweed, B.B.E. (Backbone of England.) She\\\\\\'s killed off in the first scene - that\\\\\\'s right, folks; this show has no backbone!<br /><br />Peter O\\\\\\'Toole as Ol\\\\\\' Colonel Cricket from The First War and now the emblazered Lord of the Manor.<br /><br />Joanna Lumley as the ensweatered Lady of the Manor, 20 years younger than the colonel and 20 years past her own prime but still glamourous (Brit spelling, not mine) enough to have a toy-boy on the side. It\\\\\\'s alright, they have Col. Cricket\\\\\\'s full knowledge and consent (they guy even comes \\\\\\'round for Christmas!) Still, she\\\\\\'s considerate of the colonel enough to have said toy-boy her own age (what a gal!)<br /><br />David McCallum as said toy-boy, equally as pointlessly glamourous as his squeeze. Pilcher couldn\\\\\\'t come up with any cover for him within the story, so she gave him a hush-hush job at the Circus.<br /><br />and finally:<br /><br />Susan Hampshire as Miss Polonia Teacups, Venerable Headmistress of the Venerable Girls\\\\\\' Boarding-School, serving tea in her office with a dash of deep, poignant advice for life in the outside world just before graduation. Her best bit of advice: \"I\\\\\\'ve only been to Nancherrow (the local Stately Home of England) once. I thought it was very beautiful but, somehow, not part of the real world.\" Well, we can\\\\\\'t say they didn\\\\\\'t warn us.<br /><br />Ah, Susan - time was, your character would have been running the whole show. They don\\\\\\'t write \\\\\\'em like that any more. Our loss, not yours.<br /><br />So - with a cast and setting like this, you have the re-makings of \"Brideshead Revisited,\" right?<br /><br />Wrong! They took these 1-dimensional supporting roles because they paid so well. After all, acting is one of the oldest temp-jobs there is (YOU name another!)<br /><br />First warning sign: lots and lots of backlighting. They get around it by shooting outdoors - \"hey, it\\\\\\'s just the sunlight!\"<br /><br />Second warning sign: Leading Lady cries a lot. When not crying, her eyes are moist. That\\\\\\'s the law of romance novels: Leading Lady is \"dewy-eyed.\"<br /><br />Henceforth, Leading Lady shall be known as L.L.<br /><br />Third warning sign: L.L. actually has stars in her eyes when she\\\\\\'s in love. Still, I\\\\\\'ll give Emily Mortimer an award just for having to act with that spotlight in her eyes (I wonder . did they use contacts?)<br /><br />And lastly, fourth warning sign: no on-screen female character is \"Mrs.\" She\\\\\\'s either \"Miss\" or \"Lady.\"<br /><br />When all was said and done, I still couldn\\\\\\'t tell you who was pursuing whom and why. I couldn\\\\\\'t even tell you what was said and done.<br /><br />To sum up: they all live through World War II without anything happening to them at all.<br /><br />OK, at the end, L.L. finds she\\\\\\'s lost her parents to the Japanese prison camps and baby sis comes home catatonic. Meanwhile (there\\\\\\'s always a \"meanwhile,\") some young guy L.L. had a crush on (when, I don\\\\\\'t know) comes home from some wartime tough spot and is found living on the street by Lady of the Manor (must be some street if SHE\\\\\\'s going to find him there.) Both war casualties are whisked away to recover at Nancherrow (SOMEBODY has to be \"whisked away\" SOMEWHERE in these romance stories!)<br /><br />Great drama.\\'', 'b\\'The film is based on a genuine 1950s novel.<br /><br />Journalist Colin McInnes wrote a set of three \"London novels\": \"Absolute Beginners\", \"City of Spades\" and \"Mr Love and Justice\". I have read all three. The first two are excellent. The last, perhaps an experiment that did not come off. But McInnes\\\\\\'s work is highly acclaimed; and rightly so. This musical is the novelist\\\\\\'s ultimate nightmare - to see the fruits of one\\\\\\'s mind being turned into a glitzy, badly-acted, soporific one-dimensional apology of a film that says it captures the spirit of 1950s London, and does nothing of the sort.<br /><br />Thank goodness Colin McInnes wasn\\\\\\'t alive to witness it.\\'', 'b\\'I really love the sexy action and sci-fi films of the sixties and its because of the actress\\\\\\'s that appeared in them. They found the sexiest women to be in these films and it didn\\\\\\'t matter if they could act (Remember \"Candy\"?). The reason I was disappointed by this film was because it wasn\\\\\\'t nostalgic enough. The story here has a European sci-fi film called \"Dragonfly\" being made and the director is fired. So the producers decide to let a young aspiring filmmaker (Jeremy Davies) to complete the picture. They\\\\\\'re is one real beautiful woman in the film who plays Dragonfly but she\\\\\\'s barely in it. Film is written and directed by Roman Coppola who uses some of his fathers exploits from his early days and puts it into the script. I wish the film could have been an homage to those early films. They could have lots of cameos by actors who appeared in them. There is one actor in this film who was popular from the sixties and its John Phillip Law (Barbarella). Gerard Depardieu, Giancarlo Giannini and Dean Stockwell appear as well. I guess I\\\\\\'m going to have to continue waiting for a director to make a good homage to the films of the sixties. If any are reading this, \"Make it as sexy as you can\"! I\\\\\\'ll be waiting!\\'', 'b\\'Sure, this one isn\\\\\\'t really a blockbuster, nor does it target such a position. \"Dieter\" is the first name of a quite popular German musician, who is either loved or hated for his kind of acting and thats exactly what this movie is about. It is based on the autobiography \"Dieter Bohlen\" wrote a few years ago but isn\\\\\\'t meant to be accurate on that. The movie is filled with some sexual offensive content (at least for American standard) which is either amusing (not for the other \"actors\" of course) or dumb - it depends on your individual kind of humor or on you being a \"Bohlen\"-Fan or not. Technically speaking there isn\\\\\\'t much to criticize. Speaking of me I find this movie to be an OK-movie.\\'', 'b\\'During a sleepless night, I was switching through the channels & found this embarrassment of a movie. What were they thinking?<br /><br />If this is life after \"Remote Control\" for Kari (Wuhrer) Salin, no wonder she\\\\\\'s gone nowhere.<br /><br />And why did David Keith take this role? It\\\\\\'s pathetic!<br /><br />Anyway, I turned on the movie near the end, so I didn\\\\\\'t get much of the plot. But this must\\\\\\'ve been the best part. This nerdy college kid brings home this dominatrix-ish girl...this scene is straight out of the comic books -- or the cheap porn movies. She calls the mother anal retentive and kisses the father \"Oh, I didn\\\\\\'t expect tongue!\" Great lines!<br /><br />After this, I had to see how it ended..<br /><br />Well, of course, this bitch from hell has a helluva past, so the SWAT team is upstairs. And yes...they surround her! And YES YES! The kid blows her brains out!!!! AHAHHAHAHAHA!!<br /><br />This is must-see TV. <br /><br />\\'', 'b\\'Cute film about three lively sisters from Switzerland (often seen running about in matching outfits) who want to get their parents back together (seems mom is still carrying the torch for dad) - so they sail off to New York to stop the dad from marrying a blonde gold-digger he calls \"Precious\". Dad hasn\\\\\\'t seen his daughters in ten years, they (oddly enough) don\\\\\\'t seem to mind and think he\\\\\\'s wonderful, and meanwhile Precious seems to lead a life mainly run by her overbearing mother (Alice Brady), a woman who just wants to see to it her daughter marries a rich man. The sisters get the idea of pushing Precious into the path of a drunken Hungarian count, tricking the two gold-digging women into thinking he is one of the richest men in Europe. But a case of mistaken identity makes the girls think the count is good-looking Ray Milland, who goes along with the scheme \\\\\\'cause he has a crush on sister Kay.<br /><br />This film is enjoyable, light fare. Barbara Read as Kay comes across as sweet and pretty, Ray Milland looks oh so young and handsome here (though, unfortunately, is given little to do), Alice Brady is quite good as the scheming mother - but it is Deanna Durbin, a real charmer and cute as a button playing youngest sister Penny, who pretty much steals the show. With absolutely beautiful vocals, she sings several songs throughout the film, though I actually would have liked to have seen them feature her even more in this. The plot in this film is a bit silly, but nevertheless, I found the film to be entertaining and fun.\\'', 'b\"This 1984 version of the Dickens\\' classic `A Christmas Carol,\\' directed by Clive Donner, stars George C. Scott as Ebenezer Scrooge. By this time around, the challenge for the filmmaker was to take such familiar material and make it seem fresh and new again; and, happily to say, with this film Donner not only met the challenge but surpassed any expectations anyone might have had for it. He tells the story with precision and an eye to detail, and extracts performances from his actors that are nothing less than superlative, especially Scott. One could argue that the definitive portrayal of Scrooge-- one of the best known characters in literary fiction, ever-- was created by Alastair Sim in the 1951 film; but I think with his performance here, Scott has now achieved that distinction. There is such a purity and honesty in his Scrooge that it becomes difficult to even consider anyone else in the role once you\\'ve seen Scott do it; simply put, he IS Scrooge. And what a tribute it is to such a gifted actor; to be able to take such a well known figure and make it so uniquely his own is quite miraculous. It is truly a joy to see an actor ply his trade so well, to be able to make a character so real, from every word he utters down to the finest expression of his face, and to make it all ring so true. It\\'s a study in perfection.<br /><br />The other members of the cast are splendid as well, but then again they have to be in order to maintain the integrity of Scott\\'s performance; and they do. Frank Finlay is the Ghost of Jacob Marley; a notable turn, though not as memorable, perhaps, as the one by Alec Guinness (as Marley) in the film, `Scrooge.\\' Angela Pleasence is a welcome visage as the Spirit of Christmas Past; Edward Woodward, grand and boisterous, and altogether convincing as the Spirit of Christmas Present; and Michael Carter, grim and menacing as the Spirit of Christmas Yet To Come.<br /><br />David Warner hits just the right mark with his Bob Cratchit, bringing a sincerity to the role that measures up well to the standard of quality set by Scott\\'s Scrooge, and Susannah York fares just as well as Mrs. Cratchit. The real gem to be found here, though, is the performance of young Anthony Walters as Tiny Tim; it\\'s heartfelt without ever becoming maudlin, and simply one of the best interpretations-- and the most real-- ever presented on film.<br /><br />The excellent supporting cast includes Roger Rees (Fred Holywell, and also the narrator of the film), Caroline Langrishe (Janet Holywell), Lucy Gutteridge (Belle), Michael Gough (Mr. Poole) and Joanne Whalley (Fan). A flawless presentation, this version of `A Christmas Carol\\' sets the standard against which all others must be gauged; no matter how many versions you may have seen, watching this one is like seeing it for the first time ever. And forever after, whenever you think of Scrooge, the image your mind will conjure up will be that of George C. Scott. A thoroughly entertaining and satisfying experience, this film demands a place in the annual schedule of the holiday festivities of every home. I rate this one 10/10.\"', 'b\\'Put the blame on executive producer Wes Craven and financiers the Weinsteins for this big-budget debacle: a thrash-metal updating of \"Dracula\", with a condescending verbal jab at Bram Stoker (who probably wouldn\\\\\\'t want his name on this thing anyway) and nothing much for the rest of us except slasher-styled jolts and gore. Christopher Plummer looks winded as Van Helsing in the modern-day--not just a descendant of Van Helsing but the real thing; he keeps himself going with leeches obtained from Count Dracula\\\\\\'s corpse, which is exhumed from its coffin after being stolen from Van Helsing\\\\\\'s vault and flown to New Orleans. This is just what New Orleans needs in the 21st Century! The film, well-produced but without a single original idea (except for multi-racial victims), is both repulsive and lazy, and after about an hour starts repeating itself. * from ****\\'', 'b\\'Hilarious, evocative, confusing, brilliant film. Reminds me of Bunuel\\\\\\'s L\\\\\\'Age D\\\\\\'Or or Jodorowsky\\\\\\'s Holy Mountain-- lots of strange characters mucking about and looking for..... what is it? I laughed almost the whole way through, all the while keeping a peripheral eye on the bewildered and occasionally horrified reactions of the audience that surrounded me in the theatre. Entertaining through and through, from the beginning to the guts and poisoned entrails all the way to the end, if it was an end. I only wish i could remember every detail. It haunts me sometimes.<br /><br />Honestly, though, i have only the most positive recollections of this film. As it doesn\\\\\\'t seem to be available to take home and watch, i suppose i\\\\\\'ll have to wait a few more years until Crispin Glover comes my way again with his Big Slide Show (and subsequent \"What is it?\" screening)... I saw this film in Atlanta almost directly after being involved in a rather devastating car crash, so i was slightly dazed at the time, which was perhaps a very good state of mind to watch the prophetic talking arthropods and the retards in the superhero costumes and godlike Glover in his appropriate burly-Q setting, scantily clad girlies rising out of the floor like a magnificent DADAist wet dream.<br /><br />Is it a statement on Life As We Know It? Of course everyone EXPECTS art to be just that. I rather think that the truth is more evident in the absences and in the negative space. What you don\\\\\\'t tell us is what we must deduce, but is far more valid than the lies that other people feed us day in and day out. Rather one \"WHAT IS IT?\" than 5000 movies like \"Titanic\" or \"Sleepless in Seattle\" (shudder, gag, groan).<br /><br />Thank you, Mr. Glover (additionally a fun man to watch on screen or at his Big Slide Show-- smart, funny, quirky, and outrageously hot). Make more films, write more books, keep the nightmare alive.\\'', 'b\\'It was disgusting and painful. What a waste of a cast! I swear, the audience (1/2 full) laughed TWICE in 90 minutes. This is not a lie. Do not even rent it.<br /><br />Zeta Jones was just too mean to be believable.<br /><br />Cusack was OK. Just OK. I felt sorry for him (the actor) in case people remember this mess.<br /><br />Roberts was the same as she always is. Charming and sweet, but with no purpose. The \"romance\" with John was completely unbelievable.\\'', 'b\\'This is a straight-to-video movie, so it should go without saying that it\\\\\\'s not going to rival the first Lion King, but that said, this was downright good.<br /><br />My kids loved this, but that\\\\\\'s a given, they love anything that\\\\\\'s a cartoon. The big shock was that *I* liked it too, it was laugh out loud funny at some parts (even the fart jokes*), had lots of rather creative tie-ins with the first movie, and even some jokes that you had to be older to understand (but without being risqu\\\\xc3\\\\xa9 like in Shrek [\"do you think he\\\\\\'s compensating for something?\"]).<br /><br />A special note on the fart jokes, I was surprised to find that none of the jokes were just toilet noises (in fact there were almost no noises/imagery at all, the references were actually rather subtle), they actually had a setup/punchline/etc, and were almost in good taste. I\\\\\\'d like my kids to think that there\\\\\\'s more to humor than going to the bathroom, and this movie is fine in those regards.<br /><br />Hmm what else? The music was so-so, not nearly as creative as in the first or second movie, but plenty of fun for the kids. No painfully corny moments, which was a blessing for me. A little action but nothing too scary (the Secret of NIMH gave my kids nightmares, not sure a G rating was appropriate for that one...)<br /><br />All in all I\\\\\\'d say this is a great movie for kids of any age, one that\\\\\\'s 100% safe to let them watch (I try not to be overly sensitive but I\\\\\\'ve had to jump up and turn off the TV during a few movies that were less kid-appropriate than expected) - but you\\\\\\'re safe to leave the room during this one. I\\\\\\'d say stick around anyway though, you might find that you enjoy it too :)\\'', 'b\\'Finally, Timon and Pumbaa in their own film...<br /><br />\\\\\\'The Lion King 1 1/2: Hakuna Matata\\\\\\' is an irreverent new take on a classic tale. Which classic tale, you ask? Why, \\\\\\'The Lion King\\\\\\' of course!<br /><br />Yep, if there\\\\\\'s one thing that Disney is never short of, it\\\\\\'s narcissism.<br /><br />But that doesn\\\\\\'t mean that this isn\\\\\\'t a good film. It\\\\\\'s basically the events of \\\\\\'The Lion King\\\\\\' as told from Timon and Pumbaa\\\\\\'s perspective. And it\\\\\\'s because of this that you\\\\\\'ll have to know the story of \\\\\\'The Lion King\\\\\\' by heart to see where they\\\\\\'re coming from.<br /><br />Anyway, at one level I was watching this and thinking \"Oh my god this is so lame...\" and on another level I was having a ball. Much of the humour is predictable - I mean, when Pumbaa makes up two beds, a big one for himself and a small one for Timon, within the first nanosecond we all know that Timon is going to take the big one. But that doesn\\\\\\'t stop it from being hilarious, which, IMO, is \\\\\\'Hakuna Matata\\\\\\' in a nutshell. It\\\\\\'s not what happens, it\\\\\\'s how.<br /><br />And a note of warning: there are also some fart jokes. Seriously, did you expect anything else in a film where Pumbaa takes centre stage? But as fart jokes go, these are especially good, and should satisfy even the most particular connoisseur.<br /><br />The returning voice talent is great. I\\\\\\'m kinda surprised that some of the actors were willing to return, what with most of them only having two or three lines (if they\\\\\\'re lucky). Whoopi Goldberg is particularly welcome.<br /><br />The music is also great. From \\\\\\'Digga Tunnah\\\\\\' at the start to \\\\\\'That\\\\\\'s all I need\\\\\\', an adaption of \\\\\\'Warthog Rhapsody\\\\\\' (a song that was cut from \\\\\\'The Lion King\\\\\\' and is frankly much improved in this incarnation), the music leaves me with nothing to complain about whatsoever.<br /><br />In the end, Timon and Pumbaa are awesome characters, and while it may be argued that \\\\\\'Hakuna Matata\\\\\\' is simply an excuse to see them in various fun and assorted compromising situations then so be it. It\\\\\\'s rare to find characters that you just want to spend time with.<br /><br />Am I starting to sound creepy?<br /><br />Either way, \\\\\\'The Lion King 1 1/2\\\\\\' is great if you\\\\\\'ve seen \\\\\\'The Lion King\\\\\\' far too many times. Especially if you are right now thinking \"Don\\\\\\'t be silly, there\\\\\\'s no such thing as seeing \\\\\\'The Lion King\\\\\\' too many times!\"\\'', 'b\\'Indian Directors have it tough, They have to compete with movies like \"Laggan\" where 11 henpecked,Castrated males defend their village and half of them are certifiable idiots. \"Devdas\", a hapless, fedar- festooned foreign return drinking to oblivion, with characters running in endless corridors oblivious to any one\\\\\\'s feelings or sentiments-alas they live in an ornate squalor of red tapestry and pageantry. But to make a good movie, you have to tight-rope walk to appease the frontbenchers who are the quentessential gapers who are mesmerized with Split skirts and Dishum-Dishum fights preferably involving a nitwit \"Bollywood\" leading actor who is marginally handsome. So you can connect with a director who wants to tell a tale of Leonine village head who in own words \"defending his Village\" this is considered a violent movie or too masculine for a male audience. There are very few actors who can convey the anger and pathos like Nana Patekar (Narasimhan). Nana Patekar lets you in his courtyard and watch him beret and mock the Politician when his loyal admirers burst in laughter with every word of satire thrown at him, meanwhile his daughter is bathing his Grandson.This is as authentic a scene you can get in rural India. Nana Patekar is the essential actor who belongs to the old school of acting which is a disappearing breed in Hindi Films. The violence depicted is an intricate part of storytelling with Song&Dances thrown in for the gawkers without whom movies won\\\\\\'t sell, a sad but true state of affairs. Faster this changes better for \"Bollywood\". All said and done this is one good Movie.\\'', 'b\"Nathan Detroit runs illegal craps games for high rollers in NYC, but the heat is on and he can\\'t find a secure location. He bets chronic gambler Sky Masterson that Sky can\\'t make a prim missionary, Sarah Brown, go out to dinner with him. Sky takes up the challenge, but both men have some surprises in store \\\\xc2\\\\x85<br /><br />This is one of those expensive fifties MGM musicals in splashy colour, with big sets, loud music, larger-than-life roles and performances to match; Broadway photographed for the big screen if you like that sort of thing, which I don\\'t. My main problem with these type of movies is simply the music. I like all kinds of music, from Albinoni to ZZ Top, but Broadway show tunes in swing time with never-ending pah-pah-tah-dah trumpet flourishes at the end of every fourth bar aren\\'t my cup of tea. This was written by the tag team of Frank Loesser, Mankiewicz, Jo Swerling and Abe Burrows (based on a couple of Damon Runyon stories), and while the plot is quite affable the songs are weak. Blaine\\'s two numbers for example are identical, unnecessary, don\\'t advance the plot and grate on the ears (and are also flagrantly misogynistic if that sort of thing bothers you). There are only two memorable tunes, Luck Be A Lady (sung by Brando, not Sinatra as you might expect) and Sit Down, You\\'re Rockin\\' The Boat (nicely performed by Kaye) but you have to sit through two hours to get to them. The movie\\'s trump card is a young Brando giving a thoughtful, laid-back performance; he also sings quite well and even dances a little, and is evenly matched with the always interesting Simmons. The sequence where the two of them escape to Havana for the night is a welcome respite from all the noise, bustle and vowel-murdering of Noo Yawk. Fans of musicals may dig this, but in my view a musical has to do something more than just film the stage show.\"', 'b\"I can still remember first seeing this on TV. I couldn\\'t believe TVNZ let it on! I had to own it! A lot of the humor will be lost on non-NZ\\'ers, but give it a go! <br /><br />Since finishing the Back of the Y series Matt and Chris have gone on to bigger and better(?) things. NZ\\'s greatest dare-devil stuntman, Randy Campbell has often appeared on the British TV series Balls of Steel. Yes, he still f^@ks up all his stunts because he is too drunk.<br /><br />Also the \\'house band\\' Deja Voodoo have since released 2 albums, Brown Sabbath and Back in Brown. The band consists of members of the Back of the Y team and singles such as \\'I Would Give You One of My Beers (But I\\'ve Only Got 6)\\' and \\'You Weren\\'t Even Born in The 80\\'s\\' continue their humor.<br /><br />The South-By-Southwest film festival also featured their feature length film \\'The Devil Made Me Do It\\' which will be released early 2008 in NZ.<br /><br />All up, if you don\\'t find these guys funny then you can just F%^K OFF!!\"', 'b\\'In a time of magic, barbarians and demons abound a diabolical tyrant named Nekhron and his mother Queen Juliane who lives in the realm of ice and wants to conquer the region of fire ruled by the King Jerol but when his beautiful daughter Princess Teegra has been kidnapped by Nekhron\\\\\\'s goons, a warrior named Larn must protect her and must defeat Nekhron from taking over the world and the kingdom with the help of an avenger named Darkwolf.<br /><br />A nicely done and excellent underrated animated fantasy epic that combines live actors with animation traced over them ( rotoscoping), it\\\\\\'s Ralph Bakshi\\\\\\'s second best movie only with \"American Pop\" being number one and \"Heavy Traffic\" being third and \"Wizards\" being fourth. It\\\\\\'s certainly better than his \"Cool World\" or \"Lord of the Rings\", the artwork is designed by famed artist Frank Farzetta and the animation has good coloring and there\\\\\\'s also a hottie for the guys.<br /><br />I highly recommend this movie to fantasy and animation lovers everywhere especially the new 2-Disc Limited Edition DVD from Blue Underground.<br /><br />Also recommended: \"The Black Cauldron\", \"The Dark Crystal\", \"Conan The Barbarian\", \"The Wizard of Oz\", \" Rock & Rule\", \"Wizards\", \"Heavy Metal\", \"Starchaser: Legend of Orin\", \"Fantastic Planet\", \" Princess Mononoke\", \" Nausicca: Valley of the Wind\", \" Conan The Destroyer\", \" Willow\", \" The Princess Bride\", \"Lord of the Rings ( 1978)\", \" The Sword in The Stone\", \" Excalibur\", \" Army of Darkness\", \" Krull\", \"Dragonheart\", \" King Arthur\", \" The Hobbit\", \" Return of the King ( 1980)\", \"Conquest\", \" American Pop\", \" Jason and The Argonauts\", \" Clash of the Titans\", \" The Last Unicorn\", \" The Secret of NIMH\", \"The Flight of Dragons\", \" Hercules (Disney)\", \" Legend\", \" The Chronicles of Narnia\", \" Harry Potter and The Goblet of Fire\".\\'', 'b\\'A pretty memorable movie of the animals-killing-people variety, specifically similar to \"Willard\" in that it stars an aging character actor (in this case, a step down a bit to the level of Les Tremayne, who puts in the only distinguished performance I\\\\\\'ve seen him give) in a role as a man whose life is unbalanced and who subsequently decides to use his animal friends to exact revenge on those who have wronged him. Yes, this is one of those movies where pretty much everybody is despicable, so that you will cheer when they die, and really the selection of actors, locations, etc. couldn\\\\\\'t be better at giving the film an atmosphere of shabby decadence.<br /><br />Tremayne\\\\\\'s character is \"Snakey Bender\", and he is certainly the most interesting thing about the movie: an aged snake collector who is obsessed with John Philip Souza\\\\\\'s music. When the local preacher clamps down on his practice of collecting small animals from the local schoolchildren as bait for his snakes, and his friend gets married to a stripper (thus upsetting his ritual Wednesday night band concert) he goes on the rampage, in the process creating a memorable pile-up of clunkers beneath the cliff where he dumps the wrecks after disposing of their unfortunate owners. One amusing game you can play while watching \"Snakes\" is to place bets on which cars will land the farthest down the cliff.<br /><br />All in all, very cheap and exploitative, but will really be a lot of fun for fans of these kinds of movies.\\'', 'b\"Except for an awkward scene, this refreshing fairy tale fantasy has a fun and delightful undercurrent of adult cynical wit that charms its way into the audience as well as a soundtrack that powerfully moves this fairy epic along. Except for one of the Robert DeNiro scenes that doesn\\'t come across smooth and appears out of sync with the tone of the rest of the movie, this luscious romantic fairy tail has a great storytelling feel and the strong magic and the fine balance between serious adventure scenes and the lighter spiritual humor is well done. In the updated tradition of THE PRINCESS BRIDE this contemporary presentation of magic and love is captivating. Eight out of Ten Stars.\"', 'b\\'In this film we have the fabulous opportunity to see what happened to Timon and Pumbaa in the film when they are not shown - which is a lot! This film even goes back to before Simba and (presumbably) just after the birth of Kiara. <br /><br />Quite true to the first film, \"Lion King 1/2 (or Lion King 3 in other places)\" is a funny, entertaining, exciting and surprising film (or sequel if that\\\\\\'s what you want to call it). A bundle of surprises and hilarity await for you!<br /><br />While Timon and Pumbaa are watching a film at the cinema (with a remote control), Timon and Pumbaa have an argument of what point of \"The Lion King\" they are going to start watching, as Timon wants to go to the part when he and Pumbaa come in and Pumbaa wants to go back to the beginning. They have a very fair compromise of watching the film of their own story, which is what awaits... It starts with Timon\\\\\\'s first home...<br /><br />For anyone with a good sense of humour who liked the first films of just about any age, enjoy \"Lion King 1/2\"! :-)\\'', 'b\"Well, i rented this movie and found out it realllllllly sucks. It is about that family with the stepmother and the same stupid fights in the family,then the cool son comes with his stupid camera and he likes to take a photo to damaged building and weird things and weird movie ,and then he asks his father to take him to a side trip and simply agrees, etc etc etc..... They go to that town which no one know it exists (blah blah blah) And the most annoying thing is that the movie ends and yet you don\\'t understand what is THAT MOVIE!!!!I have seen many mystery movies but that was the worst, Honestly it doesn\\'t have a description at all and i wish i didn\\'t see it.\"', 'b\\'I actually had quite high hopes going into this movie, so I took what was given with a grain of salt and hoped for the best. About 1/3 of the way through the film I simply had to give up, quite simply the movie is a mish-mash of stuff happening for no apparent reason and it\\\\\\'s all disconnected. I love movies that make you think, but this movie was just a bunch of ideas thrown together and never really connected.<br /><br />Don\\\\\\'t think it\\\\\\'s David Lynch-esquire as some would have you believe, it is nowhere near that realm other than some trippy visuals. Saying it\\\\\\'s artsy to disguise the fact there\\\\\\'s no apparent plot or story is just a manner or justifying why you wasted the 1.5 hours in the film. The acting was good, but that cannot save lack of story. I do agree with the one comment posted previously... \"it\\\\\\'s like being in some other person\\\\\\'s head... while they\\\\\\'re on drugs,\" in other words nothing makes sense.\\'', 'b\"I liked the initial premise to this film which is what led me to hunt it out but the problem I quickly found is that one pretty much knows what\\'s going to happen within the first 20-30 minutes ( the doubles will come from behind the mirror and take over everybody).<br /><br />There is no real twist (which is fine) , but the final reveal doesn\\'t make a great deal of sense either (how can she be racked with uncertainty and fear for the whole film, if she\\'s an evil id from beyond the mirror?).<br /><br />Admittedly the scenes \\'beyond the mirror\\' were chilling when they first appeared and the blonde\\'s murder is also effectively creepy, but ultimately alas this seems to be a film in search of a story or a more engaging script, piling atmosphere upon atmosphere and over the top scary sound design for 80-90 minutes does not really cut it, in fact it gets quite dull.\"', 'b\"My main problem with the film is that it goes on too long. Other then that, it\\'s pretty good. Paul Muni plays a poor Chinese farmer who is about to get married through an arranged marriage. Luise Rainer is a servant girl who gets married to Muni. They live with Muni\\'s father on a farm and they are doing pretty bad. When he finally gets some money to buy some more land, a drought hits and nothing is growing. Everybody stars to head north by Muni stays behind at first. When they leave and arrive at town they find that their are no jobs and they are worse off than before. They even think about selling their youngest daughter as a slave for some money but decide against it. When a bunch of people start looting the town, the military show up and start executing people . Paul Muni does a good job and Luise Rainer won a second oscar for this movie.\"', 'b\"This movie never made it to theaters in our area, so when it became available on DVD I was one of the first to rent it. For once, I should listened to the critics and passed on this one.<br /><br />Despite the excellent line up of actors the movie was very disappointing. I can see now why it went straight to video. <br /><br />I had thought that with Bloom, Ledger, and Rush it could have some value. All have done wonderful work in the past. <br /><br />The movie was slow moving and never pulled me in. I failed to develop much empathy for the characters and had to fight the urge to fast-forward just to get to the end. <br /><br />I do not recommend this film even if you are thinking of renting it for only for \\'eye candy\\' purposes. It won\\'t satisfy even that.\"', 'b\\'Mike Brady (Michael Garfield who had a minuscule part in the classic \"The Warriors\") is the first person in the community to realize that there\\\\\\'s murderous slugs in his small town. Not just any slugs, mind you, but carnivorous killer bigger then normal, mutated by toxic waste slugs (who still only go as fast as a normal slug, which isn\\\\\\'t that frightening, but I digress). No one will believe him at first, but they will. Oh yes, they will.<br /><br />OK, killer slugs are right above psychotic sloths and right below Johnathon Winters as Mork\\\\\\'s baby in the creepiness factor. So the absurdness of it all is quite apparent from the get go. The flick is fun somewhat through and is of the \\\\\\'so bad that it\\\\\\'s good\\\\\\' variety. I appreciate that they spelled out that this was Slugs: the Movie as opposed to Slugs: the Children\\\\\\'s Game or Slugs: the Other White Meat. Probably not worthy of watching it more than once and promptly forgetting it except for playing a rather obscure trivia game. Director Juan Piquer Sim\\\\xc3\\\\xb3n is more widely known for his previous films \"Pod People\" (which MST3K deservedly mocked) and \"Peices\" (which is quite possibly the funnest bad movie ever made) <br /><br />Eye Candy: Kari Rose shows T&A <br /><br />My Grade: D+ <br /><br />DVD Extras: Merely a theatrical trailer for this movie\\'', 'b\\'(Honestly, Barbra, I know it\\\\\\'s you who\\\\\\'s klicking all those \"NO\"s on my review. 22 times?? How many people did you have to instruct to help you out here? Don\\\\\\'t you have anything better to do, like look at yourself in the mirror all day?)<br /><br />Steven Spielberg told Barbra that this was \"the best movie I\\\\\\'ve seen since \\\\\\'Citizen Kane\\\\\\'\". That pretty much says it all - and serves as a dire warning!<br /><br />What are the ingredients for a sure-fire cinematic disaster, and one that will haunt you, never letting you forget the tears of both laughter and pain? The ingredients: Barbra Streisand\\\\\\'s face, a musical, feminism, Barbra Streisand\\\\\\'s voice, Barbra Streisand directing, and an ultra-corny/idiotic premise.<br /><br />Hollywood is full of egomaniacs, this much we know. In fact, nearly everyone \\\\xc2\\\\x96 by definition \\\\xc2\\\\x96 has to be an egomaniac in Hollywood. Why would anyone want to act? For the \"art\"?!? Well, if you\\\\\\'re dumb enough to believe what they tell you in their carefully prepared interviews\\\\xc2\\\\x85 And Streisand has the biggest ego of them all! This is quite an achievement. To be surrounded by narcissistic cretins, and yet to manage to top them all \\\\xc2\\\\x96 remarkable.<br /><br />The movie, like all her \"solo\" endeavors, is an ego trip straight out of hell. Every scene Streisand is in is automatically ruined. Stillborn. But as it that weren\\\\\\'t enough, she sings a whole bunch of Streisandy songs \\\\xc2\\\\x96 you know, the kind that enabled the Mariah Careys, the Celine Dions, and the Whitney Hustons of this world to poison our precious air-waves for decades now. Just for that she deserves not one but 100 South Park episodes mocking her.<br /><br />The premise, Streisand dressing up as a man to study to become a rabbi, sounds like a zany ZAZ comedy. Apart from it being a clich\\\\xc3\\\\xa9, the obvious problem is that Streisand doesn\\\\\\'t look like a woman nor does she look like a man \\\\xc2\\\\x96 in fact I\\\\\\'m not even sure she\\\\\\'s human. The way she looks in this movie, well\\\\xc2\\\\x85 it cannot be described in words. E.T. looks like a high-school jock by comparison. She looks more alien than Michael Jackson in the year 2015. She looks HORRIBLE.<br /><br />The songs. They made me shiver. Particularly \"Papa Can You Hear Me Squeel Like A Demented Female Walrus In Heat?\" and \"Tomorrow Night I\\\\\\'ll Prepare the Sequel, YENTL 2: THE RETURN OF THE BITCH\".<br /><br />Did you know that Streisand considered having a nose-job early on in her career, but changed her mind when they told her her voice might change? Can you believe that? She should have done it! Killing two flies with one swipe, that\\\\\\'s what it would have been.<br /><br />If you\\\\\\'re interested in reading my biographies of Barbra Streisand and other Hollywood intellectuals, contact me by e-mail.<br /><br />SHOULD BARBRA STREISAND FINALLY GO INTO RETIREMENT? CLICK \"YES\" OR \"NO\".\\'', 'b\\'The \"Confidential\" part was meant to piggy-back on the popular appeal of the lurid magazine of the same name, while the labor racketeering theme tied in with headline Congressional investigations of the day. However, despite the A-grade B-movie cast and some good script ideas, the movie plods along for some 73 minutes. It\\\\\\'s a cheap-jack production all the way. What\\\\\\'s needed to off-set the poor production values is some imagination, especially from uninspired director Sidney Salkow. A few daylight location shots, for example, would have helped relieve the succession of dreary studio sets. A stylish helmsman like Anthony Mann might have done something with the thick-ear material, but Salkow treats it as just another pay-day exercise. Too bad that Brian Keith\\\\\\'s typical low-key style doesn\\\\\\'t work here, coming across as merely wooden and lethargic, at the same time cult figure Elisha Cook Jr. goes over the top as a wild-eyed drunk. Clearly, Salkow is no actor\\\\\\'s director. But, you\\\\\\'ve got to hand it to that saucy little number Beverly Garland who treats her role with characteristic verve and dedication. Too bad, she wasn\\\\\\'t in charge. My advice-- skip it, unless you\\\\\\'re into ridiculous bar-girls who do nothing else but knock back whiskeys in typical strait-jacketed 50\\\\\\'s fashion.\\'', \"b'I was thirteen years old, when I saw this movie. I expected a lot of action. Since Escape From New York was 16-rated in Germany I entered the movie as fallback. It was so boring. Afterwards I realized that this was just crap where a husband exhibits his wife. I mean today you do this via internet and you pay for instant access. It is more then 20 years ago, but I am still angry that I waste my time with this film. This is a soft-porno for schoolboys. Undressing Bo Derek and painting her with color - nice. But then they should named the film Undressing Bo and painting her.'\", 'b\"I\\'m sorry, I had high hopes for this movie. Unfortunately, it was too long, too thin and too weak to hold my attention. When I realized the whole movie was indeed only about an older guy reliving his dream, I felt cheated. Surely it could have been a device to bring us into something deeper, something more meaningful.<br /><br />So, don\\'t buy a large drink or you\\'ll be running to the rest room. My kids didn\\'t enjoy it either. Ah well.\"', 'b\"A movie made for contemporary audience. The masses get to see what they want to see. Action, comedy, drama and of course sensuous scenes as well. This is not exactly a movie that one would feel comfortable watching with entire family. It isn\\'t for eyes of children. I had to fast forward quite a number of scenes.<br /><br />If it is just entertainment you are looking for, then this movie has it all. The songs are catchy. A lavish production, I must add.<br /><br />However, the message of the movie is not universal. It emphasizes on the idea of karma. That is, if you do good, you will get good. And if you do evil, you will get evil. The fruit of good deeds is good, while the fruit of evil is evil. <br /><br />In real life, this is not always true. It is well-known that most people do not get justice in this world. While it is true that some evil people do meet with an evil end, there are many who escape. And then, there are many people who do good, and yet in return they meet with a sorry end.<br /><br />If you don\\'t care about the message, and all you want is an escape from worldly reality, this movie is an entertainer alright.\"', \"b'Of the three remakes of this plot, I like them all, I have all three on VHS and in addition have a copy of this one on DVD. There is just enough variation in the scripts to make all three entertaining and re-watchable. In addition has any other film been remade three times with such all star casts in each? Of course the main stars in this one are great, but the supporting actors are also superb. I particularly like William Tracy as Pepi. He was such a scene stealer that I have searched to find other movies he is in. He appeared in many, but most are not available. As the other comments, I also say - buy this one.'\", 'b\\'\"Wild Tigers I have Known.\" It will only be showing in big cities, to be sure. It is one of those films SO artsy, that it makes no sense what so ever, except to the director! I HATE those! And all of those oh-so-alternative/artsy people try DESPERATELY to find \"metaphors\" in what is EVIDENT horseshit.<br /><br />There was NO plot, no story, no moral, no chronology, and nothing amusing or even touching. To me, it was a bunch of scenes thrown together that had nothing to do with one another, and were all for \"show\" to show how \"artsy\" and \"visual\" they could get. It was an ATTEMPT at yet ANOTHER teen angst film, but missed the mark on every level humanly possible. Then the credits roll! I was waiting for it to make SENSE! I was waiting for \"the good part.\" I own about 60 independent films in my DVD collection, many of which could arguably be called \"art house\" films. This will NOT be amongst them. You will be very angry at yourself for paying to see this film, much less ever buying it on DVD.\\'', 'b\\'This is a big step down after the surprisingly enjoyable original. This sequel isn\\\\\\'t nearly as fun as part one, and it instead spends too much time on plot development. Tim Thomerson is still the best thing about this series, but his wisecracking is toned down in this entry. The performances are all adequate, but this time the script lets us down. The action is merely routine and the plot is only mildly interesting, so I need lots of silly laughs in order to stay entertained during a \"Trancers\" movie. Unfortunately, the laughs are few and far between, and so, this film is watchable at best.\\'', 'b\"This is one of three 80\\'s movies that I can think of that were sadly overlooked at the time and unfortunately, still overlooked. One of the others was Clownhouse directed by Victor Salva, a movie horribly overlook due to Salva\\'s legal/sexual problems. Another would be Cameron\\'s Closet which strikes me as somewhat underrated--not great, but not nearly as bad as the reviews I\\'ve seen. Paper House is well worth your time and I think that it is one of those very quiet films that will just stick in your brain for far longer than you might think. I mean, 10 years after I\\'ve seen it and I still give it some pause, whereas something that I might have seen 6 months ago has gone into the ether.\"', 'b\"I have yet to read a negative professional review of this movie. I guess I must have missed something. The beginning is intriguing, the three main characters meet late at night in an otherwise empty bar and entertain each other with invented stories. That\\'s the best part. After the three go their separate ways, the film splits into three threads. That\\'s when boredom sets in. Certainly, the thread with the Felliniesque babushkas who make dolls out of chewed bread is at first an eye opening curiosity. Unfortunately, the director beat this one to death, even injecting a wild plot line that leads nowhere in particular. Bottom line: a two-hour plot-thin listlessness. If you suffer from insomnia, view it in bed and you will have a good night sleep.\"', 'b\\'Although the likeliness of someone focusing on THIS comment among the other 80+ for this movie is low, I feel that I have to say something about this one. I am not the kind of movie-watcher who pays attention to production value, thought-provoking dialog, or brilliant acting & directing. However, I claim that this movie sucks. I don\\\\\\'t know why I don\\\\\\'t like it... I mean it has almost everything i want out of a horror movie: blood, outrageousness, unintentional humor, etc. According to this evidence it should be my favorite. Still, Zombi 3 is a baaad movie.<br /><br />There are just too many things that compels you to yell at the screen. Like when the girl leaves the army guy when their car breaks down to find water (this spoils nothing so don\\\\\\'t worry). She walks into what I see as an abandoned hotel or something. Did she not see that there was a friggin\\\\\\' lake in the middle of the building??? Yes she\\\\\\'s looking for water and passes up a lake. Why? Cuz she wants to know why the people (who aren\\\\\\'t there cuz the place is abandoned) won\\\\\\'t answer her when she calls out: \"Is anybody there?\" Oh this is just a little, insignificant piece of the big picture I\\\\\\'m painting.<br /><br />There is a reason, though, why I gave this film more than 1 star. It\\\\\\'s one of those movies where if you forget how bad it really is, like I have a few times, you\\\\\\'ll want to watch it again because it\\\\\\'s just so over-the-top in every aspect. I called it blood in the first paragraph, but this movie has no blood, it has an ocean of gore. Also, it has pretty weird creatures in it as well: a zombie-baby (with an adult-size hand???) and a magically flying head to name just two.<br /><br />You know when you try to think of the worst and cheesiest movies ever made and you come up with \\\\\\'50\\\\\\'s sci-fi movies? I believe that Zombi 3 and movies like it should top those. It has all the elements: scientists arguing with the government, warnings of the apocalypse on the radio, armies battling monsters, and so on. This IS the Plan 9 of the \\\\\\'80\\\\\\'s! While I won\\\\\\'t say that this is a waste of money if you want to buy it, just expect the very worst. And when you find out that expecting the worst is underestimating Zombi 3, it won\\\\\\'t be all that bad. You might actually like it, I\\\\\\'m not saying that\\\\\\'s impossible.<br /><br />Don\\\\\\'t think I hate this movie, I don\\\\\\'t... really. Oh, P.S. Killing Birds (aka Zombie 5) rules! (did I just blow my credibility?)\\'', 'b\\'One of the weaker Carry On adventures sees Sid James as the head of a crime gang stealing contraceptive pills. The fourth of the series to be hospital-based, it\\\\\\'s possibly the least of the genre. There\\\\\\'s a curiously flat feel throughout, with all seemingly squandered on below-par material. This is far from the late-70s nadir, but Williams, James, Bresslaw, Maynard et al. are all class performers yet not given the backing of a script equal to their ability.<br /><br />Most of the gags are onrunning, rather than episodic as Carry Ons usually are. So that instead of the traditional hit and miss ratio, if you don\\\\\\'t find the joke funny in the first place you\\\\\\'re stuck with it for most of the film. These continuous plot strands include Williams \\\\xc2\\\\x96 for no good reason \\\\xc2\\\\x96 worrying that he\\\\\\'s changing sex, and Kenneth Cope in drag. Like the stagy physical pratt falls, the whole thing feels more contrived than in other movies, and lacking in cast interest. Continuing this theme, Matron lacks the customary pun and innuendo format, largely opting for characterisation and consequence to provide the humour. In fact, the somewhat puerile series of laboured misunderstandings and forced circumstance reminds one more of Terry and June ... so it\\\\\\'s appropriate that Terry Scott is present, mugging futilely throughout.<br /><br />Some dialogue exchanges have a bit of the old magic, such as this between Scott and Cope: \"What about a little drink?\" \"Oh, no, no, I never touch it.\" \"Oh. Cigarette then?\" \"No, I never touch them.\" \"That leaves only one thing to offer you.\" \"I never touch that either.\" That said, while a funny man in his own right (livening up the duller episodes of Randall and Hopkirk (Deceased) no end), you do feel that Cope isn\\\\\\'t quite tapped in to the self-parodying Carry On idealology and that Bernard Bresslaw dressed as a nurse would be far funnier. This does actually happen, in part, though only for the last fifteen minutes.<br /><br />Williams attempting to seduce Hattie Jacques while Charles Hawtrey is hiding in a cupboard is pure drawer room farce, but lacks the irony to carry it off. That said, Williams\\\\\\'s description of premarital relations is priceless: \"You don\\\\\\'t just go into the shop and buy enough for the whole room, you tear yourself off a little strip and try it first!\" \"That may be so,\" counters Jacques, \"but you\\\\\\'re not going to stick me up against a wall.\" Williams really comes to life in his scenes with Hattie, and you can never get bored of hearing a tin whistle whenever someone accidentally flashes their knickers.<br /><br />Carry On Matron is not a bad film by any means, just a crushingly bog-standard one.\\'', \"b'I was looking forward to this ride, and was horribly disappointed.<br /><br />And I am very easily amused at roller coaster and amusement park rides.<br /><br />The roller coaster part was just okay - and that was all of about 30 seconds of a 90 second ride. <br /><br />It was visually dull and poorly executed. <br /><br />It was trying desperately to be like a mixture of the far superior Indiana Jones and Space Mountain rides and Disneyland, and failed in every aspect.<br /><br />It was not thrilling or exciting in the least.'\", 'b\\'I really wish i could give this a negative vote, because i think i just wasted 83 minutes of my life watching the worst horror movie ever put to film. the acting was just god awful, i mean REALLLYYYY bad, the dialog was worse, the script sounded like it was written by.... i can\\\\\\'t think of anything horrible enough to say. And the day \"outside\" and the night \"inside\" shots make you think the events took over several days. Terribly acted, directed, written, etc etc. all the way down to the gofer how gets lunch for everyone. STAY AWAY FROM THIS ONE AT ALL COSTS. If my only saving grace to stay out of hell is by doing one good deed, it is to tell the world to not watch this crap. This movie is the exact reason why horror movies are never taken seriously.\\'', 'b\"The director Sidney J. Furie has created in Hollow Point a post-modern absurdist masterpiece that challenges and constantly surprises the audience. <br /><br />Sidney J. Furie dares to ask the question of what happens to the tired conventional traditionalist paradigms of \\'plot\\' and \\'characterisation\\' when you remove the crutches of \\'motivation\\' and \\'reason\\'. <br /><br />The result leads me to say that my opinion of him could not possibly get any higher.<br /><br />One and a half stars.<br /><br />P.S. Nothing in this movie makes any sense, the law enforcement agents are flat out unlikeable and the organised criminals are full on insane.\"', 'b\"Luise Rainer received an Oscar for her performance in The Good Earth. Unfortunately, her role required no. She did not say much and looked pale throughout the film. Luise\\'s character was a slave then given away to marriage to Paul Muni\\'s character (he did a fantastic job for his performance). Set in ancient Asia, both actors were not Asian, but were very convincing in their roles. I hope that Paul Muni received an Oscar for his performance, because that is what Luise must have gotten her Oscar for. She must have been a breakthrough actress, one of the first to method act. This seems like something that Hollywood does often. Al Pacino has played an Italian and Cuban. I felt Luise\\'s performance to be lackluster throughout, and when she died, she did not change in expression from any previous scenes. She stayed the same throughout the film; she only changed her expression or emotion maybe twice. If her brilliant acting was so subtle, I suppose I did not see it.\"', 'b\\'I thought Rachel York was fantastic as \"Lucy.\" I have seen her in \"Kiss Me, Kate\" and \"Victor/Victoria,\" as well, and in each of these performances she has developed very different, and very real, characterizations. She is a chameleon who can play (and sing) anything!<br /><br />I am very surprised at how many negative reviews appear here regarding Rachel\\\\\\'s performance in \"Lucy.\" Even some bonafide TV and entertainment critics seem to have missed the point of her portrayal. So many people have focused on the fact that Rachel doesn\\\\\\'t really look like Lucy. My response to that is, \"So what?\" I wasn\\\\\\'t looking for a superficial impersonation of Lucy. I wanted to know more about the real woman behind the clown. And Rachel certainly gave us that, in great depth. I also didn\\\\\\'t want to see someone simply \"doing\" classic Lucy routines. Therefore I was very pleased with the decision by the producers and director to have Rachel portray Lucy in rehearsal for the most memorable of these skits - Vitameatavegamin and The Candy Factory. (It seems that some of the reviewers didn\\\\\\'t realize that these two scenes were meant to be rehearsal sequences and not the actual skits). This approach, I thought, gave an innovative twist to sketches that so many of us know by heart. I also thought Rachel was terrifically fresh and funny in these scenes. And she absolutely nailed the routines that were recreated - the Professor and the Grape Stomping, in particular. There was one moment in the Grape scene where the corner of Rachel\\\\\\'s mouth had the exact little upturn that I remember Lucy having. I couldn\\\\\\'t believe she was able to capture that - and so naturally.<br /><br />I wonder if many of the folks who criticized the performance were expecting to see the Lucille Ball of \"I Love Lucy\" throughout the entire movie. After all, those of us who came to know her only through TV would not have any idea what Lucy was really like in her early movie years. I think Rachel showed a natural progression in the character that was brilliant. She planted all the right seeds for us to see the clown just waiting to emerge, given the right set of circumstances. Lucy didn\\\\\\'t fit the mold of the old studio system. In her frustrated attempts to become the stereotypical movie star of that era, she kept repressing what would prove to be her ultimate gifts.<br /><br />I believe that Rachel deftly captured the comedy, drama, wit, sadness, anger, passion, love, ambition, loyalty, sexiness, self absorption, childishness, and stoicism all rolled into one complex American icon. And she did it with an authenticity and freshness that was totally endearing. \"Lucy\" was a star turn for Rachel York. I hope it brings a flood of great roles her way in the future. I also hope it brings her an Emmy.\\'', 'b\\'This might be the poorest example of amateur propaganda ever made. The writers and producers should study the German films of the thirties and forties. They knew how to sell. Even soviet-style clunky leader as god-like father-figure were better done. Disappointing. The loss of faith, regained in church at last second just in time for daddy to be \"saved\" by the Hoover/God was not too bad. Unfortunately, it seemed rushed and not nearly melodramatic enough. A few misty heavenlier shots of the angelical Hoover up in the corner of the screen-beaming and nodding- would have added a lot. The best aspect is Hoover only saving the deserving family and children WHO had \"proven\" their worth. Unfortunately, other poor homeless were portrayed as likable and even good- yet the Hoover-God doesn\\\\\\'t help them. A better approach would have been shots of them drinking spirits to show the justice of their condition. Finally, bright and cheerful scenes of recovery (after Hoover saved the country from the depression) should have rolled at the end. We could see then how Hoover-God had saved not just THIS deserving family, but all the truly deserving. Amateurist at best.\\'', 'b\\'\"The Plainsman\" represents the directorial prowess of Cecil B. DeMille at its most inaccurate and un-factual. It sets up parallel plots for no less stellar an entourage than Wild Bill Hickok (Gary Cooper), Buffalo Bill Cody (James Ellison), Calamity Jane (Jean Arthur), George Armstrong Custer and Abraham Lincoln to interact, even though in reality Lincoln was already dead at the time the story takes place. Every once in a while DeMille floats dangerously close toward the truth, but just as easily veers away from it into unabashed spectacle and showmanship. The film is an attempt to buttress Custer\\\\\\'s last stand with a heap of fiction that is only loosely based on the lives of people, who were already the product of manufactured stuffs and legends. Truly, this is the world according to DeMille - a zeitgeist in the annals of entertainment, but a pretty campy relic by today\\\\\\'s standards.<br /><br />TRANSFER: Considering the vintage of the film, this is a moderately appealing transfer, with often clean whites and extremely solid blacks. There\\\\\\'s a considerable amount of film grain in some scenes and an absence of it at other moments. All in all, the image quality is therefore somewhat inconsistent, but it is never all bad or all good \\\\xc2\\\\x96 just a bit better than middle of the road. Age related artifacts are kept to a minimum and digital anomalies do not distract. The audio is mono but nicely balanced.<br /><br />EXTRAS: Forget it. It\\\\\\'s Universal! BOTTOM LINE: As pseudo-history painted on celluloid, this western is compelling and fun. Just take its characters and story with a grain of salt \\\\xc2\\\\x96 in some cases \\\\xc2\\\\x96 a whole box seems more appropriate!\\'', 'b\\'Not the most successful television project John Cleese ever did, \"Strange Case\" has the feel of a first draft that was rushed into production before any revisions could be made. There are some silly ideas throughout and even a few clever ones, but the story as a whole unfortunately doesn\\\\\\'t add up to much.<br /><br />Arthur Lowe is a hoot, though, as Dr. Watson, bionic bits and all. \"Good Lord.\"\\'', 'b\\'Only after some contemplation did I decide I liked this movie. And after reading comments from all the other posters here, and thinking about it some more, I decided that I liked it tremendously. I love American films - probably because they are so narrative. They usually have a well-defined beginning, middle, and end. \"Presque rien,\" on the other hand, makes no such attempt. I disagree with other posters that say it\\\\\\'s \\\\\\'too artsy.\\\\\\' In every way, this film is meant to evoke your sense memories. So often throughout the film you feel like you\\\\\\'re there... you feel the summer sun, the breezes, the heat, the winter chill, the companionship, the loneliness, etc., etc.<br /><br />In every way, the director pulls you into the lives of the characters - which is why so many people feel so strongly that the movie disappointed them. After I finished watching it, I felt the same. But upon some reflection, I recognized that this is how the movie had to be: the \\\\\\'story\\\\\\' isn\\\\\\'t the narrative, it\\\\\\'s the emotions you (the viewer) feel.<br /><br />The lighting, scenery, and camera angles immerse you in the scenes - they\\\\\\'re rich, exquisite, and alive with detail and nuance. Although I normally cannot countenance films without a fully developed plot (after all, isn\\\\\\'t a movie \\\\\\'supposed\\\\\\' to tell a story), this film is definitely one of my new favorites.\\'', \"b'I just saw the movie on tv. I really enjoyed it. I like a good mystery. and this one had me guessing up to the end. Sean Connery did a good job. I would recomend it to a friend.'\"]\n"
          ],
          "name": "stdout"
        }
      ]
    },
    {
      "cell_type": "code",
      "metadata": {
        "id": "98-3O9e5R5Ot",
        "colab_type": "code",
        "outputId": "507601b1-e24b-4ff8-b1ef-d417bb5c3f01",
        "colab": {
          "base_uri": "https://localhost:8080/",
          "height": 34
        }
      },
      "source": [
        "for line in sent:\n",
        "  a = line.split('.')\n",
        "  for l in a:\n",
        "    sentences.append(l)\n",
        "print(len(sentences))"
      ],
      "execution_count": 10,
      "outputs": [
        {
          "output_type": "stream",
          "text": [
            "726929\n"
          ],
          "name": "stdout"
        }
      ]
    },
    {
      "cell_type": "code",
      "metadata": {
        "id": "PRI0L2VrzYNn",
        "colab_type": "code",
        "colab": {}
      },
      "source": [
        "\n",
        "with open('/content/some_data.txt') as textfile:\n",
        "  s = textfile.read().split('.')\n",
        "for line in s:\n",
        "  newline = line.replace(\"urlLink \", \"\")\n",
        "  if '2001' in line:\n",
        "    sentences.append(newline.partition('2001')[2])\n",
        "  else:\n",
        "    sentences.append(newline)"
      ],
      "execution_count": 0,
      "outputs": []
    },
    {
      "cell_type": "code",
      "metadata": {
        "id": "v53yCSiuBqyR",
        "colab_type": "code",
        "outputId": "e0ede852-bcf4-4490-935d-4845d509fa38",
        "colab": {
          "base_uri": "https://localhost:8080/",
          "height": 34
        }
      },
      "source": [
        "print(len(sentences))"
      ],
      "execution_count": 12,
      "outputs": [
        {
          "output_type": "stream",
          "text": [
            "727115\n"
          ],
          "name": "stdout"
        }
      ]
    },
    {
      "cell_type": "code",
      "metadata": {
        "id": "REzCLqEikw6v",
        "colab_type": "code",
        "colab": {
          "base_uri": "https://localhost:8080/",
          "height": 34
        },
        "outputId": "faff38e5-ab6a-4d13-8ec2-d5ab99fb0c40"
      },
      "source": [
        "count = 0\n",
        "for l in sentences:\n",
        "  if not any(i.isalpha() for i in l):\n",
        "    count +=1\n",
        "print(count)"
      ],
      "execution_count": 13,
      "outputs": [
        {
          "output_type": "stream",
          "text": [
            "98087\n"
          ],
          "name": "stdout"
        }
      ]
    },
    {
      "cell_type": "code",
      "metadata": {
        "id": "_5CbZJXuXtV2",
        "colab_type": "code",
        "colab": {
          "base_uri": "https://localhost:8080/",
          "height": 34
        },
        "outputId": "27f136ea-1252-4f8c-eb11-ae13d627da0c"
      },
      "source": [
        "from typing import List, Union, Tuple, Dict\n",
        "from collections import defaultdict\n",
        "\n",
        "from keras.preprocessing.text import Tokenizer\n",
        "def tokenize(lines: List[str], num_words=10000, unknown_token = '<OOV>') -> Tuple[List[List], Tokenizer, Dict]:\n",
        "    tokenizer = Tokenizer(num_words=num_words, oov_token=unknown_token)\n",
        "    tokenizer.fit_on_texts(lines)\n",
        "    word_index = tokenizer.word_index\n",
        "\n",
        "    sequences = tokenizer.texts_to_sequences(lines)\n",
        "\n",
        "    return sequences, tokenizer, word_index\n",
        "\n",
        "\n",
        "def bigram_count(token_list: List[int], window_size: int, cache: defaultdict):\n",
        "    sentence_size = len(token_list)\n",
        "\n",
        "    for central_index, central_word_id in enumerate(token_list):\n",
        "        for distance in range(1, window_size + 1):\n",
        "            if central_index + distance < sentence_size:\n",
        "                first_id, second_id = sorted([central_word_id, token_list[central_index + distance]])\n",
        "                cache[first_id][second_id] += 1.0 / distance\n",
        "\n",
        "\n",
        "def build_cooccurrences(sequences: List[List[int]], cache: defaultdict, window=3):\n",
        "    for seq in sequences:\n",
        "        bigram_count(token_list=seq, cache=cache, window_size=window)\n",
        "\n",
        "\n",
        "def cache_to_pairs(cache: defaultdict) -> Union[np.array, np.array, np.array]:\n",
        "    first, second, x_ijs = [], [], []\n",
        "\n",
        "    for first_id in cache.keys():\n",
        "\n",
        "        for second_id in cache[first_id].keys():\n",
        "\n",
        "            x_ij = cache[first_id][second_id]\n",
        "\n",
        "            # add (main, context) pair\n",
        "            first.append(first_id)\n",
        "            second.append(second_id)\n",
        "            x_ijs.append(x_ij)\n",
        "\n",
        "            # add (context, main) pair\n",
        "            first.append(second_id)\n",
        "            second.append(first_id)\n",
        "            x_ijs.append(x_ij)\n",
        "\n",
        "    return np.array(first), np.array(second), np.array(x_ijs)"
      ],
      "execution_count": 14,
      "outputs": [
        {
          "output_type": "stream",
          "text": [
            "Using TensorFlow backend.\n"
          ],
          "name": "stderr"
        }
      ]
    },
    {
      "cell_type": "code",
      "metadata": {
        "id": "L2jUT8bKYKqx",
        "colab_type": "code",
        "colab": {}
      },
      "source": [
        "sequences, tokenizer, word_index = tokenize(sentences, num_words = 10000, unknown_token='<OOV>')"
      ],
      "execution_count": 0,
      "outputs": []
    },
    {
      "cell_type": "code",
      "metadata": {
        "id": "f3utUXtVYz5E",
        "colab_type": "code",
        "outputId": "c010dde4-4219-4f82-9d82-7668777700ae",
        "colab": {
          "base_uri": "https://localhost:8080/",
          "height": 34
        }
      },
      "source": [
        "print(len(sequences))"
      ],
      "execution_count": 16,
      "outputs": [
        {
          "output_type": "stream",
          "text": [
            "727115\n"
          ],
          "name": "stdout"
        }
      ]
    },
    {
      "cell_type": "code",
      "metadata": {
        "id": "LeBdSn7xZOO9",
        "colab_type": "code",
        "outputId": "120be59c-9c2f-4159-e1b0-05cda5a70125",
        "colab": {
          "base_uri": "https://localhost:8080/",
          "height": 50
        }
      },
      "source": [
        "print(sentences[8900])\n",
        "print(sequences[8900])"
      ],
      "execution_count": 17,
      "outputs": [
        {
          "output_type": "stream",
          "text": [
            "He was wounded in the shoulder.\n",
            "[27, 14, 4523, 9, 2, 5104]\n"
          ],
          "name": "stdout"
        }
      ]
    },
    {
      "cell_type": "code",
      "metadata": {
        "id": "GR2yYi84Yc5z",
        "colab_type": "code",
        "colab": {}
      },
      "source": [
        "def nested_dict(n, type):\n",
        "    if n == 1:\n",
        "        return defaultdict(type)\n",
        "    else:\n",
        "        return defaultdict(lambda: nested_dict(n-1, type))\n",
        "cache = nested_dict(2, float)"
      ],
      "execution_count": 0,
      "outputs": []
    },
    {
      "cell_type": "code",
      "metadata": {
        "id": "CiDwccFAb-by",
        "colab_type": "code",
        "colab": {}
      },
      "source": [
        "build_cooccurrences(sequences, cache, window = 5)"
      ],
      "execution_count": 0,
      "outputs": []
    },
    {
      "cell_type": "code",
      "metadata": {
        "id": "rIKumgWDcuzN",
        "colab_type": "code",
        "colab": {}
      },
      "source": [
        "first, second, x_ijs = cache_to_pairs(cache)"
      ],
      "execution_count": 0,
      "outputs": []
    },
    {
      "cell_type": "code",
      "metadata": {
        "id": "mvxna9DXdIQ3",
        "colab_type": "code",
        "colab": {}
      },
      "source": [
        "from keras.layers import Input, Embedding, Dot, Reshape, Add\n",
        "from keras.models import Model\n",
        "from keras.optimizers import Adam\n",
        "import keras.backend as K\n",
        "\n",
        "\n",
        "X_MAX = 100\n",
        "a = 3.0 / 4.0\n",
        "\n",
        "\n",
        "def glove_model(vocab_size=10, vector_dim=3):\n",
        "    input_target = Input((1,), name='central_word_id')\n",
        "    input_context = Input((1,), name='context_word_id')\n",
        "\n",
        "    central_embedding = Embedding(vocab_size, vector_dim, input_length=1, name='central_embeddings')\n",
        "    central_bias = Embedding(vocab_size, 1, input_length=1, name='central_biases')\n",
        "\n",
        "    context_embedding = Embedding(vocab_size, vector_dim, input_length=1, name='context_embeddings')\n",
        "    context_bias = Embedding(vocab_size, 1, input_length=1, name='context_biases')\n",
        "\n",
        "    vector_target = central_embedding(input_target)\n",
        "    vector_context = context_embedding(input_context)\n",
        "\n",
        "    bias_target = central_bias(input_target)\n",
        "    bias_context = context_bias(input_context)\n",
        "\n",
        "    dot_product = Dot(axes=-1)([vector_target, vector_context])\n",
        "    dot_product = Reshape((1, ))(dot_product)\n",
        "    bias_target = Reshape((1,))(bias_target)\n",
        "    bias_context = Reshape((1,))(bias_context)\n",
        "\n",
        "    prediction = Add()([dot_product, bias_target, bias_context])\n",
        "\n",
        "    model = Model(inputs=[input_target, input_context], outputs=prediction)\n",
        "    model.compile(loss=custom_loss, optimizer=Adam())\n",
        "    model.summary()\n",
        "    return model\n",
        "\n",
        "\n",
        "def custom_loss(y_true, y_pred):\n",
        "    return K.sum(K.pow(K.clip(y_true / X_MAX, 0.0, 1.0), a) * K.square(y_pred - K.log(y_true)), axis=-1)"
      ],
      "execution_count": 0,
      "outputs": []
    },
    {
      "cell_type": "code",
      "metadata": {
        "id": "8nAUizkdQsAq",
        "colab_type": "code",
        "colab": {}
      },
      "source": [
        "reverse_word_index = dict([(value, key) for (key, value) in word_index.items()])"
      ],
      "execution_count": 0,
      "outputs": []
    },
    {
      "cell_type": "code",
      "metadata": {
        "id": "yA6Lwq2ZeYm2",
        "colab_type": "code",
        "outputId": "e1bce14f-3159-4071-b5aa-c0e67fb29ed6",
        "colab": {
          "base_uri": "https://localhost:8080/",
          "height": 571
        }
      },
      "source": [
        "\n",
        "model = glove_model(10000, 200)\n"
      ],
      "execution_count": 23,
      "outputs": [
        {
          "output_type": "stream",
          "text": [
            "Model: \"model_1\"\n",
            "__________________________________________________________________________________________________\n",
            "Layer (type)                    Output Shape         Param #     Connected to                     \n",
            "==================================================================================================\n",
            "central_word_id (InputLayer)    (None, 1)            0                                            \n",
            "__________________________________________________________________________________________________\n",
            "context_word_id (InputLayer)    (None, 1)            0                                            \n",
            "__________________________________________________________________________________________________\n",
            "central_embeddings (Embedding)  (None, 1, 200)       2000000     central_word_id[0][0]            \n",
            "__________________________________________________________________________________________________\n",
            "context_embeddings (Embedding)  (None, 1, 200)       2000000     context_word_id[0][0]            \n",
            "__________________________________________________________________________________________________\n",
            "dot_1 (Dot)                     (None, 1, 1)         0           central_embeddings[0][0]         \n",
            "                                                                 context_embeddings[0][0]         \n",
            "__________________________________________________________________________________________________\n",
            "central_biases (Embedding)      (None, 1, 1)         10000       central_word_id[0][0]            \n",
            "__________________________________________________________________________________________________\n",
            "context_biases (Embedding)      (None, 1, 1)         10000       context_word_id[0][0]            \n",
            "__________________________________________________________________________________________________\n",
            "reshape_1 (Reshape)             (None, 1)            0           dot_1[0][0]                      \n",
            "__________________________________________________________________________________________________\n",
            "reshape_2 (Reshape)             (None, 1)            0           central_biases[0][0]             \n",
            "__________________________________________________________________________________________________\n",
            "reshape_3 (Reshape)             (None, 1)            0           context_biases[0][0]             \n",
            "__________________________________________________________________________________________________\n",
            "add_1 (Add)                     (None, 1)            0           reshape_1[0][0]                  \n",
            "                                                                 reshape_2[0][0]                  \n",
            "                                                                 reshape_3[0][0]                  \n",
            "==================================================================================================\n",
            "Total params: 4,020,000\n",
            "Trainable params: 4,020,000\n",
            "Non-trainable params: 0\n",
            "__________________________________________________________________________________________________\n"
          ],
          "name": "stdout"
        }
      ]
    },
    {
      "cell_type": "code",
      "metadata": {
        "id": "auluoBs_f8Kx",
        "colab_type": "code",
        "outputId": "c0166288-fadd-46b5-9bda-1364cba92192",
        "colab": {
          "base_uri": "https://localhost:8080/",
          "height": 759
        }
      },
      "source": [
        "model.fit([first, second], x_ijs, epochs = 20 , batch_size = 10000)"
      ],
      "execution_count": 24,
      "outputs": [
        {
          "output_type": "stream",
          "text": [
            "/usr/local/lib/python3.6/dist-packages/tensorflow/python/framework/indexed_slices.py:434: UserWarning: Converting sparse IndexedSlices to a dense Tensor of unknown shape. This may consume a large amount of memory.\n",
            "  \"Converting sparse IndexedSlices to a dense Tensor of unknown shape. \"\n"
          ],
          "name": "stderr"
        },
        {
          "output_type": "stream",
          "text": [
            "Epoch 1/20\n",
            "9485472/9485472 [==============================] - 12s 1us/step - loss: 0.1764\n",
            "Epoch 2/20\n",
            "9485472/9485472 [==============================] - 10s 1us/step - loss: 0.0498\n",
            "Epoch 3/20\n",
            "9485472/9485472 [==============================] - 10s 1us/step - loss: 0.0439\n",
            "Epoch 4/20\n",
            "9485472/9485472 [==============================] - 10s 1us/step - loss: 0.0382\n",
            "Epoch 5/20\n",
            "9485472/9485472 [==============================] - 10s 1us/step - loss: 0.0327\n",
            "Epoch 6/20\n",
            "9485472/9485472 [==============================] - 10s 1us/step - loss: 0.0279\n",
            "Epoch 7/20\n",
            "9485472/9485472 [==============================] - 10s 1us/step - loss: 0.0240\n",
            "Epoch 8/20\n",
            "9485472/9485472 [==============================] - 10s 1us/step - loss: 0.0209\n",
            "Epoch 9/20\n",
            "9485472/9485472 [==============================] - 10s 1us/step - loss: 0.0185\n",
            "Epoch 10/20\n",
            "9485472/9485472 [==============================] - 10s 1us/step - loss: 0.0166\n",
            "Epoch 11/20\n",
            "9485472/9485472 [==============================] - 10s 1us/step - loss: 0.0152\n",
            "Epoch 12/20\n",
            "9485472/9485472 [==============================] - 10s 1us/step - loss: 0.0140\n",
            "Epoch 13/20\n",
            "9485472/9485472 [==============================] - 10s 1us/step - loss: 0.0131\n",
            "Epoch 14/20\n",
            "9485472/9485472 [==============================] - 10s 1us/step - loss: 0.0124\n",
            "Epoch 15/20\n",
            "9485472/9485472 [==============================] - 10s 1us/step - loss: 0.0118\n",
            "Epoch 16/20\n",
            "9485472/9485472 [==============================] - 10s 1us/step - loss: 0.0113\n",
            "Epoch 17/20\n",
            "9485472/9485472 [==============================] - 10s 1us/step - loss: 0.0109\n",
            "Epoch 18/20\n",
            "9485472/9485472 [==============================] - 10s 1us/step - loss: 0.0106\n",
            "Epoch 19/20\n",
            "9485472/9485472 [==============================] - 10s 1us/step - loss: 0.0103\n",
            "Epoch 20/20\n",
            "9485472/9485472 [==============================] - 10s 1us/step - loss: 0.0100\n"
          ],
          "name": "stdout"
        },
        {
          "output_type": "execute_result",
          "data": {
            "text/plain": [
              "<keras.callbacks.callbacks.History at 0x7f0d4cfa3518>"
            ]
          },
          "metadata": {
            "tags": []
          },
          "execution_count": 24
        }
      ]
    },
    {
      "cell_type": "code",
      "metadata": {
        "id": "fUk1E8TJd8jp",
        "colab_type": "code",
        "outputId": "49e55e99-9dfe-4a97-f67c-4669b10be652",
        "colab": {
          "base_uri": "https://localhost:8080/",
          "height": 50
        }
      },
      "source": [
        "print(sentences[400000])\n",
        "print(sequences[400000])"
      ],
      "execution_count": 25,
      "outputs": [
        {
          "output_type": "stream",
          "text": [
            " Yes it is\n",
            "[450, 10, 7]\n"
          ],
          "name": "stdout"
        }
      ]
    },
    {
      "cell_type": "code",
      "metadata": {
        "id": "B-Ba7uxORxX9",
        "colab_type": "code",
        "outputId": "ee203929-f768-4864-e172-ecdf780e0541",
        "colab": {
          "base_uri": "https://localhost:8080/",
          "height": 34
        }
      },
      "source": [
        "embeddings_matrix = model.get_weights()[0]\n",
        "print(embeddings_matrix.shape)"
      ],
      "execution_count": 26,
      "outputs": [
        {
          "output_type": "stream",
          "text": [
            "(10000, 200)\n"
          ],
          "name": "stdout"
        }
      ]
    },
    {
      "cell_type": "code",
      "metadata": {
        "id": "vhPu8wjdYDYg",
        "colab_type": "code",
        "colab": {}
      },
      "source": [
        "word2vec = {}\n",
        "for i in range(1, 10000):\n",
        "  word2vec[reverse_word_index[i]] = embeddings_matrix[i]"
      ],
      "execution_count": 0,
      "outputs": []
    },
    {
      "cell_type": "code",
      "metadata": {
        "id": "jAoP7AyrZi_J",
        "colab_type": "code",
        "colab": {}
      },
      "source": [
        "labels = ['one', 'two', 'three', 'four', 'man', 'boy', 'girl', 'no', 'yes', 'she', 'he', 'did', 'done', 'do']"
      ],
      "execution_count": 0,
      "outputs": []
    },
    {
      "cell_type": "code",
      "metadata": {
        "id": "U3fNZR7LaSo7",
        "colab_type": "code",
        "colab": {}
      },
      "source": [
        "word2vecs = []\n",
        "for word in labels:\n",
        "  word2vecs.append(word2vec[word])\n"
      ],
      "execution_count": 0,
      "outputs": []
    },
    {
      "cell_type": "code",
      "metadata": {
        "id": "fKj0odKFauRm",
        "colab_type": "code",
        "colab": {}
      },
      "source": [
        "from sklearn.manifold import TSNE\n",
        "import matplotlib.pyplot as plt\n"
      ],
      "execution_count": 0,
      "outputs": []
    },
    {
      "cell_type": "code",
      "metadata": {
        "id": "6NMJP_G4a8fz",
        "colab_type": "code",
        "outputId": "da669ccc-ffa9-4326-8cff-fff16112cf8a",
        "colab": {
          "base_uri": "https://localhost:8080/",
          "height": 483
        }
      },
      "source": [
        "tsne_model = TSNE(perplexity=3, n_components=2, init='pca', random_state=42)\n",
        "coordinates = tsne_model.fit_transform(word2vecs)\n",
        "\n",
        "x = []\n",
        "y = []\n",
        "for value in coordinates:\n",
        "    x.append(value[0])\n",
        "    y.append(value[1])\n",
        "    \n",
        "plt.figure(figsize=(8,8)) \n",
        "for i in range(len(x)):\n",
        "    plt.scatter(x[i],y[i])\n",
        "    plt.annotate(labels[i],\n",
        "                  xy=(x[i], y[i]),\n",
        "                  xytext=(2, 2),\n",
        "                  textcoords='offset points',\n",
        "                  ha='right',\n",
        "                  va='bottom')\n",
        "plt.show()"
      ],
      "execution_count": 31,
      "outputs": [
        {
          "output_type": "display_data",
          "data": {
            "image/png": "[encoded data removed]",
            "text/plain": [
              "<Figure size 576x576 with 1 Axes>"
            ]
          },
          "metadata": {
            "tags": [],
            "needs_background": "light"
          }
        }
      ]
    },
    {
      "cell_type": "code",
      "metadata": {
        "id": "tl4nrbNfAXN6",
        "colab_type": "code",
        "colab": {}
      },
      "source": [
        ""
      ],
      "execution_count": 0,
      "outputs": []
    }
  ]
}